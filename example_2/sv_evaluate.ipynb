{
 "cells": [
  {
   "cell_type": "markdown",
   "metadata": {},
   "source": [
    "## Evaluate SV callsets of Manta, DELLY, LUMPY and GRIDSS based on two truth sets:\n",
    "\n",
    "- Personalis/1000 Genomes Project data [(Parikh et al., 2016)](https://doi.org/10.1186%2Fs12864-016-2366-2),\n",
    "- PacBio/Moleculo data [(Layer et al., 2014)](https://doi.org/10.1186/gb-2014-15-6-r84).\n"
   ]
  },
  {
   "cell_type": "code",
   "execution_count": 1,
   "metadata": {},
   "outputs": [],
   "source": [
    "library(tools)\n",
    "suppressPackageStartupMessages(require(StructuralVariantAnnotation))"
   ]
  },
  {
   "cell_type": "markdown",
   "metadata": {},
   "source": [
    "### user input"
   ]
  },
  {
   "cell_type": "code",
   "execution_count": 2,
   "metadata": {},
   "outputs": [],
   "source": [
    "sel.idx <- 1  # select one of the truth sets: 1 = Personalis1kGP or 2 = PacbioMoleculo"
   ]
  },
  {
   "cell_type": "code",
   "execution_count": 3,
   "metadata": {},
   "outputs": [],
   "source": [
    "min.supp <- 3  # min. number of supporting callers"
   ]
  },
  {
   "cell_type": "code",
   "execution_count": 4,
   "metadata": {},
   "outputs": [],
   "source": [
    "base.dir <- file.path('..', '..')\n",
    "data.dir <- file.path(base.dir, 'benchmark', 'out', '3', 'S3')  # with SV callsets"
   ]
  },
  {
   "cell_type": "markdown",
   "metadata": {},
   "source": [
    "### store file names/paths"
   ]
  },
  {
   "cell_type": "code",
   "execution_count": 5,
   "metadata": {},
   "outputs": [],
   "source": [
    "truth.sets <- list()\n",
    "truth.sets$Personalis1kGP <- list(\n",
    "    sv.file='Personalis_1000_Genomes_deduplicated_deletions.bed',\n",
    "    excl.file='ENCFF001TDO.bed')\n",
    "truth.sets$PacbioMoleculo <- list(\n",
    "    sv.file='3717462611446476_add4.bedpe',\n",
    "    excl.file='ceph18.b37.lumpy.exclude.2014-01-15.bed')\n",
    "truth.sets <- lapply(truth.sets, lapply,\n",
    "                     function(fn){file.path(base.dir, 'benchmark', 'in', fn)})"
   ]
  },
  {
   "cell_type": "code",
   "execution_count": 6,
   "metadata": {},
   "outputs": [],
   "source": [
    "#truth.sets"
   ]
  },
  {
   "cell_type": "markdown",
   "metadata": {},
   "source": [
    "### define helper functions"
   ]
  },
  {
   "cell_type": "code",
   "execution_count": 7,
   "metadata": {},
   "outputs": [],
   "source": [
    "# get VCF file path given a caller\n",
    "getVcf <- function(caller) {\n",
    "    return(file.path(data.dir, paste0(caller, '_out'), paste0(caller, '.vcf')))\n",
    "}"
   ]
  },
  {
   "cell_type": "code",
   "execution_count": 8,
   "metadata": {},
   "outputs": [],
   "source": [
    "# assign SV types\n",
    "# https://github.com/PapenfussLab/gridss/blob/7b1fedfed32af9e03ed5c6863d368a821a4c699f/example/simple-event-annotation.R#L9\n",
    "getSvType <- function(gr) {\n",
    "    return(ifelse(seqnames(gr) != seqnames(partner(gr)), 'CTX',\n",
    "        ifelse(gr$insLen >= abs(gr$svLen) * 0.7, 'INS',\n",
    "            ifelse(strand(gr) == strand(partner(gr)), 'INV',\n",
    "                ifelse(xor(start(gr) < start(partner(gr)), strand(gr) == '-'),\n",
    "                    'DEL', 'DUP')))))\n",
    "}"
   ]
  },
  {
   "cell_type": "code",
   "execution_count": 9,
   "metadata": {},
   "outputs": [],
   "source": [
    "# compute performance metrics for a callset\n",
    "getPerfMetrics <- function(callset, hits, n.true) {\n",
    "    n <- length(hits)\n",
    "    tp <- sum(hits)\n",
    "    fp <- n - tp\n",
    "    fn <- n.true - tp\n",
    "    prec <- round(tp * 100 / n, digits=1)\n",
    "    rec <- round(tp * 100 / n.true, digits=1)\n",
    "    return(list(callset=callset, n=n, tp=tp, fp=fp, fn=fn, precision=prec,\n",
    "                recall=rec))\n",
    "}"
   ]
  },
  {
   "cell_type": "code",
   "execution_count": 10,
   "metadata": {},
   "outputs": [],
   "source": [
    "# exclude genomic regions\n",
    "excludeRegions <- function(query.gr, subject.gr) {\n",
    "    return(query.gr[!(overlapsAny(query.gr, subject.gr) |\n",
    "                      overlapsAny(partner(query.gr), subject.gr)), ])\n",
    "}"
   ]
  },
  {
   "cell_type": "code",
   "execution_count": 11,
   "metadata": {},
   "outputs": [],
   "source": [
    "# count breakpoint overlaps (hits)\n",
    "getHits <- function(query.gr, subject.gr) {\n",
    "    return(countBreakpointOverlaps(query.gr, subject.gr, maxgap=100,\n",
    "                                   sizemargin=0.25, ignore.strand=TRUE,\n",
    "                                   restrictMarginToSizeMultiple=0.5,\n",
    "                                   countOnlyBest=TRUE))\n",
    "}"
   ]
  },
  {
   "cell_type": "markdown",
   "metadata": {},
   "source": [
    "### convert BED to BEDPE file if applicable\n"
   ]
  },
  {
   "cell_type": "code",
   "execution_count": 12,
   "metadata": {},
   "outputs": [],
   "source": [
    "bed.file <- truth.sets$Personalis1kGP$sv.file\n",
    "bedpe.file <- paste0(file_path_sans_ext(bed.file), '.bedpe')\n",
    "if(!file.exists(bedpe.file)) {\n",
    "    cmd <- paste(\"awk 'BEGIN {a=0; OFS=\\\"\\t\\\"} NR>1 {print $1,$2,$2+1,$1,$3,\\\n",
    "                 $3+1,\\\"DEL_\\\" a,-1,\\\"+\\\",\\\"+\\\",\\\"DEL\\\"; a+=1}'\", bed.file, '>',\n",
    "                 bedpe.file)\n",
    "    system(cmd)\n",
    "}\n",
    "\n",
    "if(file.exists(bedpe.file)) {\n",
    "    truth.sets$Personalis1kGP$sv.file <- bedpe.file\n",
    "}"
   ]
  },
  {
   "cell_type": "markdown",
   "metadata": {},
   "source": [
    "### import \"true\" deletions from BEDPE file"
   ]
  },
  {
   "cell_type": "code",
   "execution_count": 13,
   "metadata": {},
   "outputs": [
    {
     "name": "stderr",
     "output_type": "stream",
     "text": [
      "### Truth set ###\n",
      "input = ../../benchmark/in/Personalis_1000_Genomes_deduplicated_deletions.bedpe\n",
      "n = 5352\n",
      "min.svLen = 50\n"
     ]
    }
   ],
   "source": [
    "bedpe.file <- truth.sets[[sel.idx]]$sv.file\n",
    "true.gr <- pairs2breakpointgr(rtracklayer::import(bedpe.file))\n",
    "seqlevelsStyle(true.gr) <- 'NCBI'  # chr[X] -> [X]\n",
    "min.svLen <- min(abs(end(partner(true.gr)) - start(true.gr)) + 1)\n",
    "message('### Truth set ###')\n",
    "message('input = ', bedpe.file)\n",
    "message('n = ', length(true.gr))\n",
    "message('min.svLen = ', min.svLen)"
   ]
  },
  {
   "cell_type": "markdown",
   "metadata": {},
   "source": [
    "### filter the deletions by an exclusion list"
   ]
  },
  {
   "cell_type": "code",
   "execution_count": 14,
   "metadata": {},
   "outputs": [
    {
     "name": "stderr",
     "output_type": "stream",
     "text": [
      "\n",
      "### Exclusion list ###\n",
      "input = ../../benchmark/in/ENCFF001TDO.bed\n"
     ]
    },
    {
     "name": "stdout",
     "output_type": "stream",
     "text": [
      "factor-Rle of length 411 with 25 runs\n",
      "  Lengths:  27  12  13   8   2   4   1  10 ...  14  10  18  13  23   1  25 118\n",
      "  Values :   1  10  11  12  13  14  15  16 ...   5   6   7   8   9   M   X   Y\n",
      "Levels(25): 1 10 11 12 13 14 15 16 17 18 19 2 20 21 22 3 4 5 6 7 8 9 M X Y\n"
     ]
    },
    {
     "name": "stderr",
     "output_type": "stream",
     "text": [
      "\n",
      "### Truth set filtered by the exclusion list ###\n",
      "n = 5290\n",
      "min.svLen = 50\n"
     ]
    }
   ],
   "source": [
    "bed.excl.file <- truth.sets[[sel.idx]]$excl.file\n",
    "excl.gr <- rtracklayer::import(bed.excl.file)\n",
    "seqlevelsStyle(excl.gr) <- 'NCBI'  # chr[X] -> X\n",
    "message('\\n### Exclusion list ###')\n",
    "message('input = ', bed.excl.file)\n",
    "print(seqnames(excl.gr))\n",
    "\n",
    "true.gr <- excludeRegions(true.gr, excl.gr)\n",
    "min.svlen <- min(abs(end(partner(true.gr)) - start(true.gr)) + 1)\n",
    "n.true <- length(true.gr)\n",
    "message('\\n### Truth set filtered by the exclusion list ###')\n",
    "message('n = ', n.true)\n",
    "message('min.svLen = ', min.svLen)"
   ]
  },
  {
   "cell_type": "markdown",
   "metadata": {},
   "source": [
    "### import SV callsets from VCF files"
   ]
  },
  {
   "cell_type": "code",
   "execution_count": 15,
   "metadata": {},
   "outputs": [
    {
     "name": "stderr",
     "output_type": "stream",
     "text": [
      "\n",
      "### All DELs ###\n",
      "# manta\n",
      "n = 9214\n"
     ]
    },
    {
     "name": "stdout",
     "output_type": "stream",
     "text": [
      "     Min.   1st Qu.    Median      Mean   3rd Qu.      Max. \n",
      "-58995760      -339      -190    -41791       -75       -35 \n"
     ]
    },
    {
     "name": "stderr",
     "output_type": "stream",
     "text": [
      "\n",
      "### DELs svLen != NA ###\n",
      "# manta\n",
      "n = 9214\n"
     ]
    },
    {
     "name": "stdout",
     "output_type": "stream",
     "text": [
      "     Min.   1st Qu.    Median      Mean   3rd Qu.      Max. \n",
      "-58995760      -339      -190    -41791       -75       -35 \n"
     ]
    },
    {
     "name": "stderr",
     "output_type": "stream",
     "text": [
      "\n",
      "### DELs svLen >= min.svLen ###\n",
      "# manta\n",
      "n = 9150\n"
     ]
    },
    {
     "name": "stdout",
     "output_type": "stream",
     "text": [
      "     Min.   1st Qu.    Median      Mean   3rd Qu.      Max. \n",
      "-58995760      -341      -195    -42083       -76       -50 \n"
     ]
    },
    {
     "name": "stderr",
     "output_type": "stream",
     "text": [
      "Warning message in .Seqinfo.mergexy(x, y):\n",
      "“Each of the 2 combined objects has sequence levels not in the other:\n",
      "  - in 'x': MT, GL000207.1, GL000226.1, GL000229.1, GL000231.1, GL000210.1, GL000239.1, GL000235.1, GL000201.1, GL000247.1, GL000245.1, GL000197.1, GL000203.1, GL000246.1, GL000249.1, GL000196.1, GL000248.1, GL000244.1, GL000238.1, GL000202.1, GL000234.1, GL000232.1, GL000206.1, GL000240.1, GL000236.1, GL000241.1, GL000243.1, GL000242.1, GL000230.1, GL000237.1, GL000233.1, GL000204.1, GL000198.1, GL000208.1, GL000191.1, GL000227.1, GL000228.1, GL000214.1, GL000221.1, GL000209.1, GL000218.1, GL000220.1, GL000213.1, GL000211.1, GL000199.1, GL000217.1, GL000216.1, GL000215.1, GL000205.1, GL000219.1, GL000224.1, GL000223.1, GL000195.1, GL000212.1, GL000222.1, GL000200.1, GL000193.1, GL000194.1, GL000225.1, GL000192.1, ERCC-00002, ERCC-00003, ERCC-00004, ERCC-00007, ERCC-00009, ERCC-00012, ERCC-00013, ERCC-00014, ERCC-00016, ERCC-00017, ERCC-00018, ERCC-00019, ERCC-00022, ERCC-00023, ERCC-00024, ERCC-00025, ERCC-00028, ERCC-00031, ERCC-00033, ERCC-00034, ERCC-00035, ERCC-00039, ERCC-00040, ERCC-00041, ERCC-00042, ERCC-00043, ERCC-00044, ERCC-00046, ERCC-00048, ERCC-00051, ERCC-00053, ERCC-00054, ERCC-00057, ERCC-00058, ERCC-00059, ERCC-00060, ERCC-00061, ERCC-00062, ERCC-00067, ERCC-00069, ERCC-00071, ERCC-00073, ERCC-00074, ERCC-00075, ERCC-00076, ERCC-00077, ERCC-00078, ERCC-00079, ERCC-00081, ERCC-00083, ERCC-00084, ERCC-00085, ERCC-00086, ERCC-00092, ERCC-00095, ERCC-00096, ERCC-00097, ERCC-00098, ERCC-00099, ERCC-00104, ERCC-00108, ERCC-00109, ERCC-00111, ERCC-00112, ERCC-00113, ERCC-00116, ERCC-00117, ERCC-00120, ERCC-00123, ERCC-00126, ERCC-00128, ERCC-00130, ERCC-00131, ERCC-00134, ERCC-00136, ERCC-00137, ERCC-00138, ERCC-00142, ERCC-00143, ERCC-00144, ERCC-00145, ERCC-00147, ERCC-00148, ERCC-00150, ERCC-00154, ERCC-00156, ERCC-00157, ERCC-00158, ERCC-00160, ERCC-00162, ERCC-00163, ERCC-00164, ERCC-00165, ERCC-00168, ERCC-00170, ERCC-00171, 080418_Consensus_Vector_Sequence_NIST_SEQUENCING_ASSEMBLY_noRestrict_rev\n",
      "  - in 'y': M\n",
      "  Make sure to always combine/compare objects based on the same reference\n",
      "  genome (use suppressWarnings() to suppress this warning).”Warning message in .Seqinfo.mergexy(x, y):\n",
      "“Each of the 2 combined objects has sequence levels not in the other:\n",
      "  - in 'x': MT, GL000207.1, GL000226.1, GL000229.1, GL000231.1, GL000210.1, GL000239.1, GL000235.1, GL000201.1, GL000247.1, GL000245.1, GL000197.1, GL000203.1, GL000246.1, GL000249.1, GL000196.1, GL000248.1, GL000244.1, GL000238.1, GL000202.1, GL000234.1, GL000232.1, GL000206.1, GL000240.1, GL000236.1, GL000241.1, GL000243.1, GL000242.1, GL000230.1, GL000237.1, GL000233.1, GL000204.1, GL000198.1, GL000208.1, GL000191.1, GL000227.1, GL000228.1, GL000214.1, GL000221.1, GL000209.1, GL000218.1, GL000220.1, GL000213.1, GL000211.1, GL000199.1, GL000217.1, GL000216.1, GL000215.1, GL000205.1, GL000219.1, GL000224.1, GL000223.1, GL000195.1, GL000212.1, GL000222.1, GL000200.1, GL000193.1, GL000194.1, GL000225.1, GL000192.1, ERCC-00002, ERCC-00003, ERCC-00004, ERCC-00007, ERCC-00009, ERCC-00012, ERCC-00013, ERCC-00014, ERCC-00016, ERCC-00017, ERCC-00018, ERCC-00019, ERCC-00022, ERCC-00023, ERCC-00024, ERCC-00025, ERCC-00028, ERCC-00031, ERCC-00033, ERCC-00034, ERCC-00035, ERCC-00039, ERCC-00040, ERCC-00041, ERCC-00042, ERCC-00043, ERCC-00044, ERCC-00046, ERCC-00048, ERCC-00051, ERCC-00053, ERCC-00054, ERCC-00057, ERCC-00058, ERCC-00059, ERCC-00060, ERCC-00061, ERCC-00062, ERCC-00067, ERCC-00069, ERCC-00071, ERCC-00073, ERCC-00074, ERCC-00075, ERCC-00076, ERCC-00077, ERCC-00078, ERCC-00079, ERCC-00081, ERCC-00083, ERCC-00084, ERCC-00085, ERCC-00086, ERCC-00092, ERCC-00095, ERCC-00096, ERCC-00097, ERCC-00098, ERCC-00099, ERCC-00104, ERCC-00108, ERCC-00109, ERCC-00111, ERCC-00112, ERCC-00113, ERCC-00116, ERCC-00117, ERCC-00120, ERCC-00123, ERCC-00126, ERCC-00128, ERCC-00130, ERCC-00131, ERCC-00134, ERCC-00136, ERCC-00137, ERCC-00138, ERCC-00142, ERCC-00143, ERCC-00144, ERCC-00145, ERCC-00147, ERCC-00148, ERCC-00150, ERCC-00154, ERCC-00156, ERCC-00157, ERCC-00158, ERCC-00160, ERCC-00162, ERCC-00163, ERCC-00164, ERCC-00165, ERCC-00168, ERCC-00170, ERCC-00171, 080418_Consensus_Vector_Sequence_NIST_SEQUENCING_ASSEMBLY_noRestrict_rev\n",
      "  - in 'y': M\n",
      "  Make sure to always combine/compare objects based on the same reference\n",
      "  genome (use suppressWarnings() to suppress this warning).”\n",
      "### DELs >= min.svlen AND filtered by the exclusion list ###\n",
      "# manta\n",
      "n = 9084\n"
     ]
    },
    {
     "name": "stdout",
     "output_type": "stream",
     "text": [
      "     Min.   1st Qu.    Median      Mean   3rd Qu.      Max. \n",
      "-58995760      -340      -196    -41030       -76       -50 \n"
     ]
    },
    {
     "name": "stderr",
     "output_type": "stream",
     "text": [
      "Warning message in .breakpointRanges(x, ...):\n",
      "“Removing 62 unpaired breakend variants BND00000001, BND00000043, BND00000088, BND00000102, BND00000134, BND00000159, BND00000171, BND00000190, BND00000222, BND00000334, BND00000349, BND00000510, BND00000513, BND00000512, BND00000525, BND00000656, BND00000700, BND00000718, BND00000796, BND00000804, BND00000833, BND00000847, BND00000860, BND00000859, BND00000862, BND00000890, BND00000894, BND00000937, BND00000989, BND00000988, BND00000991, BND00000993, BND00000994, BND00000996, BND00000998, BND00001100, BND00001126, BND00001131, BND00001128, BND00001130, BND00001184, BND00001321, BND00001363, BND00001414, BND00001489, BND00001502, BND00001585, BND00001597, BND00001598, BND00001601, BND00001603, BND00001610, BND00001720, BND00001798, BND00001965, BND00001966, BND00002037, BND00002055, BND00002056, BND00002061, BND00002060, BND00002062”Warning message in valid.GenomicRanges.seqinfo(x, suggest.trim = TRUE):\n",
      "“GRanges object contains 5 out-of-bound ranges located on sequence MT.\n",
      "  Note that ranges located on a sequence whose length is unknown (NA) or\n",
      "  on a circular sequence are not considered out-of-bound (use\n",
      "  seqlengths() and isCircular() to get the lengths and circularity flags\n",
      "  of the underlying sequences). You can use trim() to trim these ranges.\n",
      "  See ?`trim,GenomicRanges-method` for more information.”Warning message in valid.GenomicRanges.seqinfo(x, suggest.trim = TRUE):\n",
      "“GRanges object contains 5 out-of-bound ranges located on sequence MT.\n",
      "  Note that ranges located on a sequence whose length is unknown (NA) or\n",
      "  on a circular sequence are not considered out-of-bound (use\n",
      "  seqlengths() and isCircular() to get the lengths and circularity flags\n",
      "  of the underlying sequences). You can use trim() to trim these ranges.\n",
      "  See ?`trim,GenomicRanges-method` for more information.”Warning message in valid.GenomicRanges.seqinfo(x, suggest.trim = TRUE):\n",
      "“GRanges object contains 5 out-of-bound ranges located on sequence MT.\n",
      "  Note that ranges located on a sequence whose length is unknown (NA) or\n",
      "  on a circular sequence are not considered out-of-bound (use\n",
      "  seqlengths() and isCircular() to get the lengths and circularity flags\n",
      "  of the underlying sequences). You can use trim() to trim these ranges.\n",
      "  See ?`trim,GenomicRanges-method` for more information.”Warning message in valid.GenomicRanges.seqinfo(x, suggest.trim = TRUE):\n",
      "“GRanges object contains 5 out-of-bound ranges located on sequence MT.\n",
      "  Note that ranges located on a sequence whose length is unknown (NA) or\n",
      "  on a circular sequence are not considered out-of-bound (use\n",
      "  seqlengths() and isCircular() to get the lengths and circularity flags\n",
      "  of the underlying sequences). You can use trim() to trim these ranges.\n",
      "  See ?`trim,GenomicRanges-method` for more information.”Warning message in valid.GenomicRanges.seqinfo(x, suggest.trim = TRUE):\n",
      "“GRanges object contains 5 out-of-bound ranges located on sequence MT.\n",
      "  Note that ranges located on a sequence whose length is unknown (NA) or\n",
      "  on a circular sequence are not considered out-of-bound (use\n",
      "  seqlengths() and isCircular() to get the lengths and circularity flags\n",
      "  of the underlying sequences). You can use trim() to trim these ranges.\n",
      "  See ?`trim,GenomicRanges-method` for more information.”\n",
      "### All DELs ###\n",
      "# delly\n",
      "n = 20932\n"
     ]
    },
    {
     "name": "stdout",
     "output_type": "stream",
     "text": [
      "    Min.  1st Qu.   Median     Mean  3rd Qu.     Max. \n",
      "    -617     -178      -42   121670      -23 87978274 \n"
     ]
    },
    {
     "name": "stderr",
     "output_type": "stream",
     "text": [
      "\n",
      "### DELs svLen != NA ###\n",
      "# delly\n",
      "n = 20932\n"
     ]
    },
    {
     "name": "stdout",
     "output_type": "stream",
     "text": [
      "    Min.  1st Qu.   Median     Mean  3rd Qu.     Max. \n",
      "    -617     -178      -42   121670      -23 87978274 \n"
     ]
    },
    {
     "name": "stderr",
     "output_type": "stream",
     "text": [
      "\n",
      "### DELs svLen >= min.svLen ###\n",
      "# delly\n",
      "n = 12052\n"
     ]
    },
    {
     "name": "stdout",
     "output_type": "stream",
     "text": [
      "    Min.  1st Qu.   Median     Mean  3rd Qu.     Max. \n",
      "    -617     -316     -145   211338      -56 87978274 \n"
     ]
    },
    {
     "name": "stderr",
     "output_type": "stream",
     "text": [
      "Warning message in .Seqinfo.mergexy(x, y):\n",
      "“Each of the 2 combined objects has sequence levels not in the other:\n",
      "  - in 'x': MT, GL000207.1, GL000226.1, GL000229.1, GL000231.1, GL000210.1, GL000239.1, GL000235.1, GL000201.1, GL000247.1, GL000245.1, GL000197.1, GL000203.1, GL000246.1, GL000249.1, GL000196.1, GL000248.1, GL000244.1, GL000238.1, GL000202.1, GL000234.1, GL000232.1, GL000206.1, GL000240.1, GL000236.1, GL000241.1, GL000243.1, GL000242.1, GL000230.1, GL000237.1, GL000233.1, GL000204.1, GL000198.1, GL000208.1, GL000191.1, GL000227.1, GL000228.1, GL000214.1, GL000221.1, GL000209.1, GL000218.1, GL000220.1, GL000213.1, GL000211.1, GL000199.1, GL000217.1, GL000216.1, GL000215.1, GL000205.1, GL000219.1, GL000224.1, GL000223.1, GL000195.1, GL000212.1, GL000222.1, GL000200.1, GL000193.1, GL000194.1, GL000225.1, GL000192.1, ERCC-00002, ERCC-00003, ERCC-00004, ERCC-00007, ERCC-00009, ERCC-00012, ERCC-00013, ERCC-00014, ERCC-00016, ERCC-00017, ERCC-00018, ERCC-00019, ERCC-00022, ERCC-00023, ERCC-00024, ERCC-00025, ERCC-00028, ERCC-00031, ERCC-00033, ERCC-00034, ERCC-00035, ERCC-00039, ERCC-00040, ERCC-00041, ERCC-00042, ERCC-00043, ERCC-00044, ERCC-00046, ERCC-00048, ERCC-00051, ERCC-00053, ERCC-00054, ERCC-00057, ERCC-00058, ERCC-00059, ERCC-00060, ERCC-00061, ERCC-00062, ERCC-00067, ERCC-00069, ERCC-00071, ERCC-00073, ERCC-00074, ERCC-00075, ERCC-00076, ERCC-00077, ERCC-00078, ERCC-00079, ERCC-00081, ERCC-00083, ERCC-00084, ERCC-00085, ERCC-00086, ERCC-00092, ERCC-00095, ERCC-00096, ERCC-00097, ERCC-00098, ERCC-00099, ERCC-00104, ERCC-00108, ERCC-00109, ERCC-00111, ERCC-00112, ERCC-00113, ERCC-00116, ERCC-00117, ERCC-00120, ERCC-00123, ERCC-00126, ERCC-00128, ERCC-00130, ERCC-00131, ERCC-00134, ERCC-00136, ERCC-00137, ERCC-00138, ERCC-00142, ERCC-00143, ERCC-00144, ERCC-00145, ERCC-00147, ERCC-00148, ERCC-00150, ERCC-00154, ERCC-00156, ERCC-00157, ERCC-00158, ERCC-00160, ERCC-00162, ERCC-00163, ERCC-00164, ERCC-00165, ERCC-00168, ERCC-00170, ERCC-00171, 080418_Consensus_Vector_Sequence_NIST_SEQUENCING_ASSEMBLY_noRestrict_rev\n",
      "  - in 'y': M\n",
      "  Make sure to always combine/compare objects based on the same reference\n",
      "  genome (use suppressWarnings() to suppress this warning).”Warning message in .Seqinfo.mergexy(x, y):\n",
      "“Each of the 2 combined objects has sequence levels not in the other:\n",
      "  - in 'x': MT, GL000207.1, GL000226.1, GL000229.1, GL000231.1, GL000210.1, GL000239.1, GL000235.1, GL000201.1, GL000247.1, GL000245.1, GL000197.1, GL000203.1, GL000246.1, GL000249.1, GL000196.1, GL000248.1, GL000244.1, GL000238.1, GL000202.1, GL000234.1, GL000232.1, GL000206.1, GL000240.1, GL000236.1, GL000241.1, GL000243.1, GL000242.1, GL000230.1, GL000237.1, GL000233.1, GL000204.1, GL000198.1, GL000208.1, GL000191.1, GL000227.1, GL000228.1, GL000214.1, GL000221.1, GL000209.1, GL000218.1, GL000220.1, GL000213.1, GL000211.1, GL000199.1, GL000217.1, GL000216.1, GL000215.1, GL000205.1, GL000219.1, GL000224.1, GL000223.1, GL000195.1, GL000212.1, GL000222.1, GL000200.1, GL000193.1, GL000194.1, GL000225.1, GL000192.1, ERCC-00002, ERCC-00003, ERCC-00004, ERCC-00007, ERCC-00009, ERCC-00012, ERCC-00013, ERCC-00014, ERCC-00016, ERCC-00017, ERCC-00018, ERCC-00019, ERCC-00022, ERCC-00023, ERCC-00024, ERCC-00025, ERCC-00028, ERCC-00031, ERCC-00033, ERCC-00034, ERCC-00035, ERCC-00039, ERCC-00040, ERCC-00041, ERCC-00042, ERCC-00043, ERCC-00044, ERCC-00046, ERCC-00048, ERCC-00051, ERCC-00053, ERCC-00054, ERCC-00057, ERCC-00058, ERCC-00059, ERCC-00060, ERCC-00061, ERCC-00062, ERCC-00067, ERCC-00069, ERCC-00071, ERCC-00073, ERCC-00074, ERCC-00075, ERCC-00076, ERCC-00077, ERCC-00078, ERCC-00079, ERCC-00081, ERCC-00083, ERCC-00084, ERCC-00085, ERCC-00086, ERCC-00092, ERCC-00095, ERCC-00096, ERCC-00097, ERCC-00098, ERCC-00099, ERCC-00104, ERCC-00108, ERCC-00109, ERCC-00111, ERCC-00112, ERCC-00113, ERCC-00116, ERCC-00117, ERCC-00120, ERCC-00123, ERCC-00126, ERCC-00128, ERCC-00130, ERCC-00131, ERCC-00134, ERCC-00136, ERCC-00137, ERCC-00138, ERCC-00142, ERCC-00143, ERCC-00144, ERCC-00145, ERCC-00147, ERCC-00148, ERCC-00150, ERCC-00154, ERCC-00156, ERCC-00157, ERCC-00158, ERCC-00160, ERCC-00162, ERCC-00163, ERCC-00164, ERCC-00165, ERCC-00168, ERCC-00170, ERCC-00171, 080418_Consensus_Vector_Sequence_NIST_SEQUENCING_ASSEMBLY_noRestrict_rev\n",
      "  - in 'y': M\n",
      "  Make sure to always combine/compare objects based on the same reference\n",
      "  genome (use suppressWarnings() to suppress this warning).”\n",
      "### DELs >= min.svlen AND filtered by the exclusion list ###\n",
      "# delly\n",
      "n = 12042\n"
     ]
    },
    {
     "name": "stdout",
     "output_type": "stream",
     "text": [
      "    Min.  1st Qu.   Median     Mean  3rd Qu.     Max. \n",
      "    -617     -316     -145   211513      -55 87978274 \n"
     ]
    },
    {
     "name": "stderr",
     "output_type": "stream",
     "text": [
      "\n",
      "### All DELs ###\n",
      "# lumpy\n",
      "n = 384\n"
     ]
    },
    {
     "name": "stdout",
     "output_type": "stream",
     "text": [
      "     Min.   1st Qu.    Median      Mean   3rd Qu.      Max. \n",
      "-64790013     -3859     -1350   -476161      -321       -46 \n"
     ]
    },
    {
     "name": "stderr",
     "output_type": "stream",
     "text": [
      "\n",
      "### DELs svLen != NA ###\n",
      "# lumpy\n",
      "n = 384\n"
     ]
    },
    {
     "name": "stdout",
     "output_type": "stream",
     "text": [
      "     Min.   1st Qu.    Median      Mean   3rd Qu.      Max. \n",
      "-64790013     -3859     -1350   -476161      -321       -46 \n"
     ]
    },
    {
     "name": "stderr",
     "output_type": "stream",
     "text": [
      "\n",
      "### DELs svLen >= min.svLen ###\n",
      "# lumpy\n",
      "n = 382\n"
     ]
    },
    {
     "name": "stdout",
     "output_type": "stream",
     "text": [
      "     Min.   1st Qu.    Median      Mean   3rd Qu.      Max. \n",
      "-64790013     -3904     -1355   -478654      -322       -54 \n"
     ]
    },
    {
     "name": "stderr",
     "output_type": "stream",
     "text": [
      "\n",
      "### DELs >= min.svlen AND filtered by the exclusion list ###\n",
      "# lumpy\n",
      "n = 382\n"
     ]
    },
    {
     "name": "stdout",
     "output_type": "stream",
     "text": [
      "     Min.   1st Qu.    Median      Mean   3rd Qu.      Max. \n",
      "-64790013     -3904     -1355   -478654      -322       -54 \n"
     ]
    },
    {
     "name": "stderr",
     "output_type": "stream",
     "text": [
      "Warning message in .breakpointRanges(x, ...):\n",
      "“Removing 397 unpaired breakend variants gridss0_2053o, gridss0_8052h, gridss3_5786h, gridss5_3794o, gridss5_5887h, gridss7_7090h, gridss8_2513o, gridss8_5185o, gridss9_6291h, gridss9_3222h, gridss9_3989o, gridss15_2538h, gridss15_6309h, gridss16_7203h, gridss17_6099o, gridss19_6397o, gridss19_4932h, gridss22_6373h, gridss24_1656h, gridss24_1764h, gridss24_4638o, gridss24_7848o, gridss25_1994h, gridss25_4361o, gridss25_4632o, gridss26_2998h, gridss26_4487h, gridss27_3280o, gridss28_9410h, gridss28_3370h, gridss28_6381h, gridss28_8051o, gridss30_5789h, gridss33_6216h, gridss33_5630o, gridss33_5706o, gridss36_5820o, gridss36_6203h, gridss37_3069o, gridss37_3570o, gridss38_6240o, gridss38_6268h, gridss40_1543o, gridss42_5267o, gridss42_7808o, gridss43_2062o, gridss45_1831h, gridss47_3020h, gridss48_7998h, gridss50_2960h, gridss50_5172o, gridss51_4455o, gridss51_4819o, gridss52_3370o, gridss52_4016o, gridss53_4191h, gridss54_4598h, gridss55_4652h, gridss55_5849o, gridss55_6094h, gridss56_4891h, gridss58_5515h, gridss59_3640o, gridss60_1359h, gridss60_2353o, gridss60_4411o, gridss61_3935o, gridss62_4225o, gridss62_4290o, gridss64_6359o, gridss64_5075h, gridss65_3762h, gridss65_4976o, gridss66_2342h, gridss66_3392o, gridss67_6114h, gridss67_3473h, gridss69_1911o, gridss69_2895h, gridss69_5991o, gridss70_3885h, gridss71_3827o, gridss72_3382o, gridss72_5343h, gridss74_1880o, gridss76_1517o, gridss76_2747h, gridss76_5149o, gridss78_1609h, gridss78_3532o, gridss78_4075o, gridss78_5078o, gridss78_5236h, gridss79_2770h, gridss79_4079o, gridss80_3730h, gridss80_6219o, gridss81_6219o, gridss81_3642o, gridss82_971o, gridss82_5436h, gridss84_4174h, gridss84_4408h, gridss85_1134h, gridss85_5974o, gridss85_3745o, gridss87_1292o, gridss87_6414o, gridss88_2287o, gridss88_7143h, gridss88_4356o, gridss91_2627h, gridss91_4701h, gridss92_1434o, gridss92_4401o, gridss92_6729o, gridss92_6967h, gridss93_3911o, gridss95_2652o, gridss96_2269o, gridss97_2326h, gridss98_5194h, gridss98_2810h, gridss100_5491h, gridss100_4330o, gridss100_6107o, gridss101_6013o, gridss103_5496o, gridss104_2815h, gridss107_2234h, gridss109_6098o, gridss109_2745h, gridss109_6444o, gridss109_4262o, gridss109_7118o, gridss111_4146o, gridss112_3097o, gridss112_6469h, gridss112_7250h, gridss113_3640h, gridss114_1724o, gridss115_1565o, gridss115_1968o, gridss115_4747o, gridss116_5366h, gridss116_5156o, gridss117_4039h, gridss119_3244h, gridss120_3292o, gridss122_5422h, gridss122_2852o, gridss122_6316o, gridss124_2782o, gridss124_3077o, gridss125_4224h, gridss125_6951o, gridss127_7068o, gridss127_2429h, gridss127_7404h, gridss127_7765o, gridss128_1470h, gridss129_3878o, gridss130_2563o, gridss131_5093h, gridss131_3880o, gridss131_4823h, gridss132_2474o, gridss134_1489o, gridss134_1915h, gridss135_2209h, gridss135_2565o, gridss136_2378h, gridss137_2061o, gridss137_3417h, gridss137_7989o, gridss137_5993o, gridss138_4618h, gridss138_3906o, gridss139_5296o, gridss139_1801h, gridss140_5862o, gridss140_2555h, gridss141_5178o, gridss141_1454h, gridss142_6887o, gridss142_7071o, gridss144_2586h, gridss144_2673h, gridss145_2439o, gridss16_7805h, gridss146_5219o, gridss148_1544h, gridss148_2187h, gridss148_5770o, gridss149_5858o, gridss152_1674o, gridss152_2971o, gridss152_3236o, gridss152_4305h, gridss152_5978o, gridss153_1196h, gridss153_5013h, gridss154_4400o, gridss156_1515o, gridss156_1637h, gridss157_731h, gridss157_1177o, gridss157_4106o, gridss159_3475h, gridss159_3818h, gridss159_5983o, gridss160_2877o, gridss161_1436o, gridss165_5080o, gridss165_1836o, gridss165_5309o, gridss165_5315h, gridss165_4583h, gridss166_1222o, gridss167_3295h, gridss167_3354o, gridss64_7283h, gridss168_4738o, gridss168_5079o, gridss169_2030o, gridss170_3945h, gridss171_6483o, gridss171_2356o, gridss171_4416o, gridss173_6312o, gridss173_4600o, gridss174_1402h, gridss174_5364o, gridss175_1354h, gridss176_1159h, gridss177_1530o, gridss177_2419h, gridss178_5131o, gridss178_3296h, gridss181_4816h, gridss183_1830h, gridss183_2778o, gridss184_5009o, gridss184_2921o, gridss184_3899o, gridss184_3965h, gridss185_5930o, gridss186_1191h, gridss186_3021h, gridss186_3041o, gridss187_5673o, gridss187_5709o, gridss188_3957o, gridss189_1780h, gridss189_5362o, gridss189_4427o, gridss190_1351o, gridss190_4404h, gridss190_4568h, gridss191_1677h, gridss191_2295h, gridss191_4207o, gridss192_711h, gridss192_3005o, gridss193_4636o, gridss193_5417h, gridss196_3591h, gridss198_4833o, gridss198_5029o, gridss198_3146o, gridss198_4531o, gridss199_3738o, gridss199_3777o, gridss201_3128o, gridss201_6374o, gridss203_5444h, gridss204_708o, gridss205_2866h, gridss206_5660o, gridss210_3669h, gridss210_3931o, gridss211_1378h, gridss212_2722o, gridss127_8990h, gridss217_3169h, gridss219_4729o, gridss219_4760h, gridss221_1907o, gridss221_4475h, gridss221_4476h, gridss224_5657h, gridss225_2937o, gridss225_3640h, gridss225_5410h, gridss229_4147h, gridss230_1468h, gridss230_5243h, gridss231_854o, gridss231_4998h, gridss232_756o, gridss233_1782o, gridss233_5150o, gridss234_5072o, gridss234_1732o, gridss234_2848o, gridss235_533h, gridss236_3422o, gridss237_1274o, gridss237_4456h, gridss240_2529h, gridss241_3511o, gridss242_1239o, gridss243_5075o, gridss246_2909h, gridss247_5680o, gridss248_183h, gridss249_1702h, gridss249_5719h, gridss250_2265o, gridss250_2506h, gridss254_1947h, gridss254_4449o, gridss255_3204h, gridss256_3924h, gridss257_529h, gridss257_1677h, gridss257_3927o, gridss257_6097h, gridss257_4878h, gridss259_4043o, gridss261_162o, gridss262_1440o, gridss263_1192h, gridss268_2590o, gridss268_4318h, gridss269_2151h, gridss270_1222h, gridss271_724o, gridss274_578o, gridss274_4089o, gridss275_534o, gridss275_781o, gridss275_1718o, gridss275_4140o, gridss276_6907o, gridss276_1399h, gridss276_5960h, gridss279_4160h, gridss280_1144o, gridss281_2597o, gridss282_885o, gridss282_2309o, gridss282_4416h, gridss282_2367h, gridss283_498h, gridss283_2208o, gridss283_2719o, gridss283_3472h, gridss284_1145o, gridss285_3653o, gridss286_3844h, gridss287_1767o, gridss287_4788h, gridss287_3918h, gridss290_2949o, gridss291_1947h, gridss291_4747o, gridss293_4328h, gridss293_2985h, gridss293_3535o, gridss293_3632o, gridss296_4100o, gridss296_2386o, gridss296_2864o, gridss10_8644h, gridss298_1780h, gridss298_2178h, gridss298_5175h, gridss298_4323o, gridss298_4498h, gridss299_609o, gridss299_467h, gridss300_892o, gridss300_1082o, gridss302_4025h, gridss303_1911o, gridss305_1493h, gridss306_2820h, gridss307_2363o, gridss310_554o, gridss311_700o, gridss312_332o, gridss312_825o, gridss312_3705h, gridss314_1471h, gridss315_152o, gridss315_686o”\n",
      "### All DELs ###\n",
      "# gridss\n",
      "n = 7458\n"
     ]
    },
    {
     "name": "stdout",
     "output_type": "stream",
     "text": [
      "      Min.    1st Qu.     Median       Mean    3rd Qu.       Max. \n",
      "-122193018       -416       -274     -89061        -46        -16 \n"
     ]
    },
    {
     "name": "stderr",
     "output_type": "stream",
     "text": [
      "\n",
      "### DELs svLen != NA ###\n",
      "# gridss\n",
      "n = 7458\n"
     ]
    },
    {
     "name": "stdout",
     "output_type": "stream",
     "text": [
      "      Min.    1st Qu.     Median       Mean    3rd Qu.       Max. \n",
      "-122193018       -416       -274     -89061        -46        -16 \n"
     ]
    },
    {
     "name": "stderr",
     "output_type": "stream",
     "text": [
      "\n",
      "### DELs svLen >= min.svLen ###\n",
      "# gridss\n",
      "n = 5386\n"
     ]
    },
    {
     "name": "stdout",
     "output_type": "stream",
     "text": [
      "      Min.    1st Qu.     Median       Mean    3rd Qu.       Max. \n",
      "-122193018      -1069       -324    -123309       -172        -50 \n"
     ]
    },
    {
     "name": "stderr",
     "output_type": "stream",
     "text": [
      "Warning message in .Seqinfo.mergexy(x, y):\n",
      "“Each of the 2 combined objects has sequence levels not in the other:\n",
      "  - in 'x': MT, GL000207.1, GL000226.1, GL000229.1, GL000231.1, GL000210.1, GL000239.1, GL000235.1, GL000201.1, GL000247.1, GL000245.1, GL000197.1, GL000203.1, GL000246.1, GL000249.1, GL000196.1, GL000248.1, GL000244.1, GL000238.1, GL000202.1, GL000234.1, GL000232.1, GL000206.1, GL000240.1, GL000236.1, GL000241.1, GL000243.1, GL000242.1, GL000230.1, GL000237.1, GL000233.1, GL000204.1, GL000198.1, GL000208.1, GL000191.1, GL000227.1, GL000228.1, GL000214.1, GL000221.1, GL000209.1, GL000218.1, GL000220.1, GL000213.1, GL000211.1, GL000199.1, GL000217.1, GL000216.1, GL000215.1, GL000205.1, GL000219.1, GL000224.1, GL000223.1, GL000195.1, GL000212.1, GL000222.1, GL000200.1, GL000193.1, GL000194.1, GL000225.1, GL000192.1, ERCC-00002, ERCC-00003, ERCC-00004, ERCC-00007, ERCC-00009, ERCC-00012, ERCC-00013, ERCC-00014, ERCC-00016, ERCC-00017, ERCC-00018, ERCC-00019, ERCC-00022, ERCC-00023, ERCC-00024, ERCC-00025, ERCC-00028, ERCC-00031, ERCC-00033, ERCC-00034, ERCC-00035, ERCC-00039, ERCC-00040, ERCC-00041, ERCC-00042, ERCC-00043, ERCC-00044, ERCC-00046, ERCC-00048, ERCC-00051, ERCC-00053, ERCC-00054, ERCC-00057, ERCC-00058, ERCC-00059, ERCC-00060, ERCC-00061, ERCC-00062, ERCC-00067, ERCC-00069, ERCC-00071, ERCC-00073, ERCC-00074, ERCC-00075, ERCC-00076, ERCC-00077, ERCC-00078, ERCC-00079, ERCC-00081, ERCC-00083, ERCC-00084, ERCC-00085, ERCC-00086, ERCC-00092, ERCC-00095, ERCC-00096, ERCC-00097, ERCC-00098, ERCC-00099, ERCC-00104, ERCC-00108, ERCC-00109, ERCC-00111, ERCC-00112, ERCC-00113, ERCC-00116, ERCC-00117, ERCC-00120, ERCC-00123, ERCC-00126, ERCC-00128, ERCC-00130, ERCC-00131, ERCC-00134, ERCC-00136, ERCC-00137, ERCC-00138, ERCC-00142, ERCC-00143, ERCC-00144, ERCC-00145, ERCC-00147, ERCC-00148, ERCC-00150, ERCC-00154, ERCC-00156, ERCC-00157, ERCC-00158, ERCC-00160, ERCC-00162, ERCC-00163, ERCC-00164, ERCC-00165, ERCC-00168, ERCC-00170, ERCC-00171, 080418_Consensus_Vector_Sequence_NIST_SEQUENCING_ASSEMBLY_noRestrict_rev\n",
      "  - in 'y': M\n",
      "  Make sure to always combine/compare objects based on the same reference\n",
      "  genome (use suppressWarnings() to suppress this warning).”Warning message in .Seqinfo.mergexy(x, y):\n",
      "“Each of the 2 combined objects has sequence levels not in the other:\n",
      "  - in 'x': MT, GL000207.1, GL000226.1, GL000229.1, GL000231.1, GL000210.1, GL000239.1, GL000235.1, GL000201.1, GL000247.1, GL000245.1, GL000197.1, GL000203.1, GL000246.1, GL000249.1, GL000196.1, GL000248.1, GL000244.1, GL000238.1, GL000202.1, GL000234.1, GL000232.1, GL000206.1, GL000240.1, GL000236.1, GL000241.1, GL000243.1, GL000242.1, GL000230.1, GL000237.1, GL000233.1, GL000204.1, GL000198.1, GL000208.1, GL000191.1, GL000227.1, GL000228.1, GL000214.1, GL000221.1, GL000209.1, GL000218.1, GL000220.1, GL000213.1, GL000211.1, GL000199.1, GL000217.1, GL000216.1, GL000215.1, GL000205.1, GL000219.1, GL000224.1, GL000223.1, GL000195.1, GL000212.1, GL000222.1, GL000200.1, GL000193.1, GL000194.1, GL000225.1, GL000192.1, ERCC-00002, ERCC-00003, ERCC-00004, ERCC-00007, ERCC-00009, ERCC-00012, ERCC-00013, ERCC-00014, ERCC-00016, ERCC-00017, ERCC-00018, ERCC-00019, ERCC-00022, ERCC-00023, ERCC-00024, ERCC-00025, ERCC-00028, ERCC-00031, ERCC-00033, ERCC-00034, ERCC-00035, ERCC-00039, ERCC-00040, ERCC-00041, ERCC-00042, ERCC-00043, ERCC-00044, ERCC-00046, ERCC-00048, ERCC-00051, ERCC-00053, ERCC-00054, ERCC-00057, ERCC-00058, ERCC-00059, ERCC-00060, ERCC-00061, ERCC-00062, ERCC-00067, ERCC-00069, ERCC-00071, ERCC-00073, ERCC-00074, ERCC-00075, ERCC-00076, ERCC-00077, ERCC-00078, ERCC-00079, ERCC-00081, ERCC-00083, ERCC-00084, ERCC-00085, ERCC-00086, ERCC-00092, ERCC-00095, ERCC-00096, ERCC-00097, ERCC-00098, ERCC-00099, ERCC-00104, ERCC-00108, ERCC-00109, ERCC-00111, ERCC-00112, ERCC-00113, ERCC-00116, ERCC-00117, ERCC-00120, ERCC-00123, ERCC-00126, ERCC-00128, ERCC-00130, ERCC-00131, ERCC-00134, ERCC-00136, ERCC-00137, ERCC-00138, ERCC-00142, ERCC-00143, ERCC-00144, ERCC-00145, ERCC-00147, ERCC-00148, ERCC-00150, ERCC-00154, ERCC-00156, ERCC-00157, ERCC-00158, ERCC-00160, ERCC-00162, ERCC-00163, ERCC-00164, ERCC-00165, ERCC-00168, ERCC-00170, ERCC-00171, 080418_Consensus_Vector_Sequence_NIST_SEQUENCING_ASSEMBLY_noRestrict_rev\n",
      "  - in 'y': M\n",
      "  Make sure to always combine/compare objects based on the same reference\n",
      "  genome (use suppressWarnings() to suppress this warning).”\n",
      "### DELs >= min.svlen AND filtered by the exclusion list ###\n",
      "# gridss\n",
      "n = 5386\n"
     ]
    },
    {
     "name": "stdout",
     "output_type": "stream",
     "text": [
      "      Min.    1st Qu.     Median       Mean    3rd Qu.       Max. \n",
      "-122193018      -1069       -324    -123309       -172        -50 \n"
     ]
    }
   ],
   "source": [
    "callers <- c('manta', 'delly', 'lumpy', 'gridss')\n",
    "hits.df <- data.frame(callset=character(), n=numeric(), tp=numeric(),\n",
    "                      fp=numeric(), precision=numeric(), recall=numeric())\n",
    "for (c in callers) {\n",
    "  vcf.file <- getVcf(c)\n",
    "  vcf <- VariantAnnotation::readVcf(vcf.file)\n",
    "  # select only DELs\n",
    "  gr <- breakpointRanges(vcf)\n",
    "  gr$svtype <- getSvType(gr)\n",
    "  gr <- gr[gr$svtype == 'DEL']\n",
    "  message('\\n### All DELs ###')\n",
    "  message('# ', c)\n",
    "  message('n = ', length(gr))\n",
    "  print(summary(gr$svLen))\n",
    "\n",
    "  message('\\n### DELs svLen != NA ###')\n",
    "  gr <- gr[!is.na(gr$svLen)]\n",
    "  message('# ', c)\n",
    "  message('n = ', length(gr))\n",
    "  print(summary(gr$svLen))\n",
    "\n",
    "  gr <- gr[abs(gr$svLen) >= min.svLen]\n",
    "  message('\\n### DELs svLen >= min.svLen ###')\n",
    "  message('# ', c)\n",
    "  message('n = ', length(gr))\n",
    "  print(summary(gr$svLen))\n",
    "\n",
    "  gr <- excludeRegions(gr, excl.gr)\n",
    "  message('\\n### DELs >= min.svlen AND filtered by the exclusion list ###')\n",
    "  message('# ', c)\n",
    "  message('n = ', length(gr))\n",
    "  print(summary(gr$svLen))\n",
    "\n",
    "  hits <- getHits(gr, true.gr)\n",
    "  pm <- getPerfMetrics(c, hits, n.true)\n",
    "  hits.df <- rbind(hits.df, data.frame(pm))\n",
    "}"
   ]
  },
  {
   "cell_type": "markdown",
   "metadata": {},
   "source": [
    "### import merged callset from VCF file"
   ]
  },
  {
   "cell_type": "code",
   "execution_count": 16,
   "metadata": {},
   "outputs": [],
   "source": [
    "# fix: replace ':' by '_' in ID & SAMPLE fields\n",
    "vcf.infile <- file.path(data.dir, 'all.vcf')\n",
    "vcf.outfile <- 'merge.vcf'\n",
    "cmd <- paste(\"awk '{if ($1 ~ /^#/){print} else {id=$3; gsub(\\\":\\\",\\\"_\\\",$3);\\\n",
    "             gsub(id,$3,$10); print}}'\", vcf.infile, '>', vcf.outfile)\n",
    "system(cmd)"
   ]
  },
  {
   "cell_type": "code",
   "execution_count": 17,
   "metadata": {},
   "outputs": [
    {
     "name": "stderr",
     "output_type": "stream",
     "text": [
      "Warning message in doTryCatch(return(expr), name, parentenv, handler):\n",
      "“record 5 sample S3.bam: fewer FORMAT fields than GENO fields”Warning message in .Seqinfo.mergexy(x, y):\n",
      "“Each of the 2 combined objects has sequence levels not in the other:\n",
      "  - in 'x': 080418_Consensus_Vector_Sequence_NIST_SEQUENCING_ASSEMBLY_noRestrict_rev, ERCC-00002, ERCC-00003, ERCC-00004, ERCC-00007, ERCC-00009, ERCC-00012, ERCC-00013, ERCC-00014, ERCC-00016, ERCC-00017, ERCC-00018, ERCC-00019, ERCC-00022, ERCC-00023, ERCC-00024, ERCC-00025, ERCC-00028, ERCC-00031, ERCC-00033, ERCC-00034, ERCC-00035, ERCC-00039, ERCC-00040, ERCC-00041, ERCC-00042, ERCC-00043, ERCC-00044, ERCC-00046, ERCC-00048, ERCC-00051, ERCC-00053, ERCC-00054, ERCC-00057, ERCC-00058, ERCC-00059, ERCC-00060, ERCC-00061, ERCC-00062, ERCC-00067, ERCC-00069, ERCC-00071, ERCC-00073, ERCC-00074, ERCC-00075, ERCC-00076, ERCC-00077, ERCC-00078, ERCC-00079, ERCC-00081, ERCC-00083, ERCC-00084, ERCC-00085, ERCC-00086, ERCC-00092, ERCC-00095, ERCC-00096, ERCC-00097, ERCC-00098, ERCC-00099, ERCC-00104, ERCC-00108, ERCC-00109, ERCC-00111, ERCC-00112, ERCC-00113, ERCC-00116, ERCC-00117, ERCC-00120, ERCC-00123, ERCC-00126, ERCC-00128, ERCC-00130, ERCC-00131, ERCC-00134, ERCC-00136, ERCC-00137, ERCC-00138, ERCC-00142, ERCC-00143, ERCC-00144, ERCC-00145, ERCC-00147, ERCC-00148, ERCC-00150, ERCC-00154, ERCC-00156, ERCC-00157, ERCC-00158, ERCC-00160, ERCC-00162, ERCC-00163, ERCC-00164, ERCC-00165, ERCC-00168, ERCC-00170, ERCC-00171, GL000191.1, GL000192.1, GL000193.1, GL000194.1, GL000195.1, GL000196.1, GL000197.1, GL000198.1, GL000199.1, GL000200.1, GL000201.1, GL000202.1, GL000203.1, GL000204.1, GL000205.1, GL000206.1, GL000207.1, GL000208.1, GL000209.1, GL000210.1, GL000211.1, GL000212.1, GL000213.1, GL000214.1, GL000215.1, GL000216.1, GL000217.1, GL000218.1, GL000219.1, GL000220.1, GL000221.1, GL000222.1, GL000223.1, GL000224.1, GL000225.1, GL000226.1, GL000227.1, GL000228.1, GL000229.1, GL000230.1, GL000231.1, GL000232.1, GL000233.1, GL000234.1, GL000235.1, GL000236.1, GL000237.1, GL000238.1, GL000239.1, GL000240.1, GL000241.1, GL000242.1, GL000243.1, GL000244.1, GL000245.1, GL000246.1, GL000247.1, GL000248.1, GL000249.1\n",
      "  - in 'y': 1 66442 MantaINS_2_0_0_1_0_0 T TATATAATATAATATATATTATATAATATAAATATATATTATATTATATAATATAATATATATTATATAATATATTTTATTATATAAATATATATTATATTATATA 588 PASS SUPP=1;SUPP_VEC=1000;SVLEN=105;SVTYPE=INS;SVMETHOD=SURVIVOR1.0.6;CHR2=1;END=66442;CIPOS=0,0;CIEND=0,0;STRANDS=+- GT:PSV:LN:DR:ST:QV:TY:ID:RAL:AAL:CO 0/1:NA:105:12,19:+-:588:INS:MantaINS_2_0_0_1_0_0:T:TATATAATATAATATATATTATATAATATAAATATATATTATATTATATAATATAATATATATTATATAATATATTTTATTATATAAATATATATTATATTATATA:1_66442-1_66442 ./.:NaN:0:0,0:--:NaN:NaN:NaN:NAN:NAN:NAN ./.:NaN:0:0,0:--:NaN:NaN:NaN:NAN:NAN:NAN ./.:NaN:0:0,0:--:NaN:NaN:NaN:NAN:NAN:NAN, 1 1531046 MantaDEL_70_1_1_6_8_0 CAGACAGACAGACAGAGAGAGCAGAACAGGGAGAGACAGAGAGACACAGAGACAGAGAGGCAAACAGAGACAGAGAGACAGACAGAGAGAGCAGAATGGGGAGAGACACAGAGACAGAGACAGAGACAGAGAGAGGCAGACAGAGACAGAGAGAGAGACAGACAGACACAGAGCAGAACAGGGAGAGACAGAGAGAGAGAGACAGAGAGAGGCAGACAGAGACAGAGAGAGAGACAGACACAGAGCAGAACAGGGAGAGACAGAGAGAGAGAGAGACAGAGAGAGGCAGACAGAGAGAGAGAGAGAGACAGACACAGAGAGAGCAGAACAGGGAGAAACAGAGACAGAGAGCGAGAGAGACAGACACAGAGAGAGGCAGACAGAGACAGAGAGAGACAGACAGACACAGAGAGAGCAGAACGGGGAGAGACAGAGAGACAGAGAGAAACAGAGACAGAGACAGAGAGAGGCAGACAGAG C 66 PASS SUPP=1;SUPP_VEC=1000;SVLEN=-478;SVTYPE=DEL;SVMETHOD=SURVIVOR1.0.6;CHR2=1;END=1531524;CIPOS=0,0;CIEND=0,0;STRANDS=+- GT:PSV:LN:DR:ST:QV:TY:ID:RAL:AAL:CO 0/1:NA:478:47,12:+-:66:DEL:MantaDEL_70_1_1_6_8_0:CAGACAGACAGACAGAGAGAGCAGAACAGGGAGAGACAGAGAGACACAGAGACAGAGAGGCAAACAGAGACAGAGAGACAGACAGAGAGAGCAGAATGGGGAGAGACACAGAGACAGAGACAGAGACAGAGAGAGGCAGACAGAGACAGAGAGAGAGACAGACAGACACAGAGCAGAACAGGGAGAGACAGAGAGAGAGAGACAGAGAGAGGCAGACAGAGACAGAGAGAGAGACAGACACAGAGCAGAACAGGGAGAGACAGAGAGAGAGAGAGACAGAGAGAGGCAGACAGAGAGAGAGAGAGAGACAGACACAGAGAGAGCAGAACAGGGAGAAACAGAGACAGAGAGCGAGAGAGACAGACACAGAGAGAGGCAGACAGAGACAGAGAGAGACAGACAGACACAGAGAGAGCAGAACGGGGAGAGACAGAGAGACAGAGAGAAACAGAGACAGAGACAGAGAGAGGCAGACAGAG:C:1_1531046-1_1531524 ./.:NaN:0:0,0:--:NaN:NaN:NaN:NAN:NAN:NAN ./.:NaN:0:0,0:--:NaN:NaN:NaN:NAN:NAN:NAN ./.:NaN:0:0,0:--:NaN:NaN:NaN:NAN:NAN:NAN, 1 1598413 MantaDEL_62_0_0_0_0_0 ACACGCCTGTAATCCCAGCTACTTGGGAGGCTGAGGCAGGAGAATCACTTCAACCCGGGAGGCGGAGGTTGCAGTGAGCCGAGATCAAACCAGAGAAATCCAGCTCTGGGTGACAGAGCAAGACTCTGTTTCGGGAAAAATAAAATACATAGGCAGGGCGCGGTGGCT A 739 PASS SUPP=1;SUPP_VEC=1000;SVLEN=-167;SVTYPE=DEL;SVMETHOD=SURVIVOR1.0.6;CHR2=1;END=1598580;CIPOS=0,0;CIEND=0,0;STRANDS=+- GT:PSV:LN:DR:ST:QV:TY:ID:RAL:AAL:CO 1/1:NA:167:1,25:+-:739:DEL:MantaDEL_62_0_0_0_0_0:ACACGCCTGTAATCCCAGCTACTTGGGAGGCTGAGGCAGGAGAATCACTTCAACCCGGGAGGCGGAGGTTGCAGTGAGCCGAGATCAAACCAGAGAAATCCAGCTCTGGGTGACAGAGCAAGACTCTGTTTCGGGAAAAATAAAATACATAGGCAGGGCGCGGTGGCT:A:1_1598413-1_1598580 ./.:NaN:0:0,0:--:NaN:NaN:NaN:NAN:NAN:NAN ./.:NaN:0:0,0:--:NaN:NaN:NaN:NAN:NAN:NAN ./.:NaN:0:0,0:--:NaN:NaN:NaN:NAN:NAN:NAN, 1 1880373 MantaINS_93_0_0_0_0_0 T TCCCTCCCTTCTTTCCTTCCCTTTCCCTCCCTCCCTTCCTTCCTCTTTCCTTCCTTCCTTTCCCTCCCTTACTCCTTCCTTCCCTTCCCCTTCCTTCTTCCTTCTCTC 976 PASS SUPP=1;SUPP_VEC=1000;SVLEN=107;SVTYPE=INS;SVMETHOD=SURVIVOR1.0.6;CHR2=1;END=1880373;CIPOS=0,0;CIEND=0,0;STRANDS=+- GT:PSV:LN:DR:ST:QV:TY:ID:RAL:AAL:CO 1/1:NA:107:0,32:+-:976:INS:MantaINS_93_0_0_0_0_0:T:TCCCTCCCTTCTTTCCTTCCCTTTCCCTCCCTCCCTTCCTTCCTCTTTCCTTCCTTCCTTTCCCTCCCTTACTCCTTCCTTCCCTTCCCCTTCCTTCTTCCTTCTCTC:1_1880373-1_1880373 ./.:NaN:0:0,0:--:NaN:NaN:NaN:NAN:NAN:NAN ./.:NaN:0:0,0:--:NaN:NaN:NaN:NAN:NAN:NAN ./.:NaN:0:0,0:--:NaN:NaN:NaN:NAN:NAN:NAN, 1 2959216 MantaINS_154_0_0_0_0_0 C CGGCACGCACCACCACACCCGCATGCACCACCGCACCTGGCATGCACCACCGCACCTG 512 PASS SUPP=1;SUPP_VEC=1000;SVLEN=57;SVTYPE=INS;SVMETHOD=SURVIVOR1.0.6;CHR2=1;END=2959216;CIPOS=0,0;CIEND=0,0;STRANDS=+- GT:PSV:LN:DR:ST:QV:TY:ID:RAL:AAL:CO 1/1:NA:57:0,17:+-:512:INS:MantaINS_154_0_0_0_0_0:C:CGGCACGCACCACCACACCCGCATGCACCACCGCACCTGGCATGCACCACCGCACCTG:1_2959216-1_2959216 ./.:NaN:0:0,0:--:NaN:NaN:NaN:NAN:NAN:NAN ./.:NaN:0:0,0:--:NaN:NaN:NaN:NAN:NAN:NAN ./.:NaN:0:0,0:--:NaN:NaN:NaN:NAN:NAN:NAN, 1 3092626 MantaDUP_TANDEM_149_0_1_0_0_0 A <DUP:TANDEM> 490 PASS SUPP=1;SUPP_VEC=1000;SVLEN=223;SVTYPE=DUP;SVMETHOD=SURVIVOR1.0.6;CHR2=1;END=3092849;CIPOS=0,0;CIEND=0,0;STRANDS=-+ GT:PSV:LN:DR:ST:QV:TY:ID:RAL:AAL:CO 0/1:NA:223:56,21:-+:490:DUP:MantaDUP_TANDEM_149_0_1_0_0_0:NA:NA:1_3092626-1_3092849 ./.:NaN:0:0,0:--:NaN:NaN:NaN:NAN:NAN:NAN ./.:NaN:0:0,0:--:NaN:NaN:NaN:NAN:NAN:NAN ./.:NaN:0:0,0:--:NaN:NaN:NaN:NAN:NAN:NAN, 1 3092854 MantaDEL_149_0_0_0_0_0 CTATCCATCTGTCCATACATCCATCTATTCTTCCATCCATCCCTCCATCCATTCATCCCCTGTTCTCCTGGAGGCATTCACACCTTGAGGTGGCCTTTGGGGAAGAGCTGCCTCATGCTGGGTCCTGCCTCTTTCAGAGCAGGGCAGCACAGCTCCTCAGAGCAGGAAGACCCTTCTGGCAGACACCAGGCTGCATCCATCCATCCATCCACCCACCCATTGATTCACCCACCCATCCATTCATCCATTCACTCATTAACCCATCCATGCACTCATTCATTTATCCATTCTTCCTTCCTTCTGTCCATCCATCCATCATCCATTCATCTATCCATCCATCCATGTACCCATCTATCCCCTCATCTATCCATCCAGCCATTCATTCACCTATCTATGCATTCATCCACCATCTGTCCATCTATCCATCCATCCATCCATCCATCCATCCATCCATCTATTCTTCCATCCATCCCTCCATCCATCCATCCCCTTATAA CC 81 PASS SUPP=1;SUPP_VEC=1000;SVLEN=-495;SVTYPE=DEL;SVMETHOD=SURVIVOR1.0.6;CHR2=1;END=3093349;CIPOS=0,0;CIEND=0,0;STRANDS=+- GT:PSV:LN:DR:ST:QV:TY:ID:RAL:AAL:CO 0/1:NA:495:92,13:+-:81:DEL:MantaDEL_149_0_0_0_0_0:CTATCCATCTGTCCATACATCCATCTATTCTTCCATCCATCCCTCCATCCATTCATCCCCTGTTCTCCTGGAGGCATTCACACCTTGAGGTGGCCTTTGGGGAAGAGCTGCCTCATGCTGGGTCCTGCCTCTTTCAGAGCAGGGCAGCACAGCTCCTCAGAGCAGGAAGACCCTTCTGGCAGACACCAGGCTGCATCCATCCATCCATCCACCCACCCATTGATTCACCCACCCATCCATTCATCCATTCACTCATTAACCCATCCATGCACTCATTCATTTATCCATTCTTCCTTCCTTCTGTCCATCCATCCATCATCCATTCATCTATCCATCCATCCATGTACCCATCTATCCCCTCATCTATCCATCCAGCCATTCATTCACCTATCTATGCATTCATCCACCATCTGTCCATCTATCCATCCATCCATCCATCCATCCATCCATCCATCTATTCTTCCATCCATCCCTCCATCCATCCATCCCCTTATAA:CC:1_3092854-1_3093349 ./.:NaN:0:0,0:--:NaN:NaN:NaN:NAN:NAN:NAN ./.:NaN:0:0,0:--:NaN:NaN:NaN:NAN:NAN:NAN ./.:NaN:0:0,0:--:NaN:NaN:NaN:NAN:NAN:NAN, 1 3098102 MantaDEL_160_0_0_1_4_3 ACGGTCTTACACACGCAGTCTTACACACGCAGTCTTACACACGGTCTTACATATGGTCTTACACATGCAGTCTTACACACGGTCTTACACATGCA AAGCG 409 PASS SUPP=1;SUPP_VEC=1000;SVLEN=-94;SVTYPE=DEL;SVMETHOD=SURVIVOR1.0.6;CHR2=1;END=3098196;CIPOS=0,0;CIEND=0,0;STRANDS=+- GT:PSV:LN:DR:ST:QV:TY:ID:RAL:AAL:CO 0/1:NA:94:32,17:+-:409:DEL:MantaDEL_160_0_0_1_4_3:ACGGTCTTACACACGCAGTCTTACACACGCAGTCTTACACACGGTCTTACATATGGTCTTACACATGCAGTCTTACACACGGTCTTACACATGCA:AAGCG:1_3098102-1_3098196 ./.:NaN:0:0,0:--:NaN:NaN:NaN:NAN:NAN:NAN ./.:NaN:0:0,0:--:NaN:NaN:NaN:NAN:NAN:NAN ./.:NaN:0:0,0:--:NaN”"
     ]
    }
   ],
   "source": [
    "vcf <- VariantAnnotation::readVcf(vcf.outfile)\n",
    "# fix: INFO/CI{END,POS} types: String->Integer\n",
    "info(header(vcf))$Type[1:2] <- c(\"Integer\", \"Integer\")\n",
    "vcf <- vcf[which(info(vcf)$SVTYPE == 'DEL')]  # keep only deletions\n",
    "vcf <- vcf[which(as.integer(info(vcf)$SUPP) >= min.supp, TRUE)]  # filter calls by support or\n",
    "#vcf <- vcf[which(info(vcf)$SUPP_VEC == '1101', TRUE)]           # binary vector (MDLG)\n",
    "# fix: CI{POS,END}} type: CharacterList->IntegerList\n",
    "info(vcf)$CIPOS <- IntegerList(info(vcf)$CIPOS)\n",
    "info(vcf)$CIEND <- IntegerList(info(vcf)$CIEND)"
   ]
  },
  {
   "cell_type": "markdown",
   "metadata": {},
   "source": [
    "### evaluate SV break-points based on the truth set"
   ]
  },
  {
   "cell_type": "code",
   "execution_count": 18,
   "metadata": {},
   "outputs": [
    {
     "name": "stderr",
     "output_type": "stream",
     "text": [
      "Warning message in .Seqinfo.mergexy(x, y):\n",
      "“Each of the 2 combined objects has sequence levels not in the other:\n"
     ]
    },
    {
     "name": "stderr",
     "output_type": "stream",
     "text": [
      "  - in 'x': 080418_Consensus_Vector_Sequence_NIST_SEQUENCING_ASSEMBLY_noRestrict_rev, ERCC-00002, ERCC-00003, ERCC-00004, ERCC-00007, ERCC-00009, ERCC-00012, ERCC-00013, ERCC-00014, ERCC-00016, ERCC-00017, ERCC-00018, ERCC-00019, ERCC-00022, ERCC-00023, ERCC-00024, ERCC-00025, ERCC-00028, ERCC-00031, ERCC-00033, ERCC-00034, ERCC-00035, ERCC-00039, ERCC-00040, ERCC-00041, ERCC-00042, ERCC-00043, ERCC-00044, ERCC-00046, ERCC-00048, ERCC-00051, ERCC-00053, ERCC-00054, ERCC-00057, ERCC-00058, ERCC-00059, ERCC-00060, ERCC-00061, ERCC-00062, ERCC-00067, ERCC-00069, ERCC-00071, ERCC-00073, ERCC-00074, ERCC-00075, ERCC-00076, ERCC-00077, ERCC-00078, ERCC-00079, ERCC-00081, ERCC-00083, ERCC-00084, ERCC-00085, ERCC-00086, ERCC-00092, ERCC-00095, ERCC-00096, ERCC-00097, ERCC-00098, ERCC-00099, ERCC-00104, ERCC-00108, ERCC-00109, ERCC-00111, ERCC-00112, ERCC-00113, ERCC-00116, ERCC-00117, ERCC-00120, ERCC-00123, ERCC-00126, ERCC-00128, ERCC-00130, ERCC-00131, ERCC-00134, ERCC-00136, ERCC-00137, ERCC-00138, ERCC-00142, ERCC-00143, ERCC-00144, ERCC-00145, ERCC-00147, ERCC-00148, ERCC-00150, ERCC-00154, ERCC-00156, ERCC-00157, ERCC-00158, ERCC-00160, ERCC-00162, ERCC-00163, ERCC-00164, ERCC-00165, ERCC-00168, ERCC-00170, ERCC-00171, GL000191.1, GL000192.1, GL000193.1, GL000194.1, GL000195.1, GL000196.1, GL000197.1, GL000198.1, GL000199.1, GL000200.1, GL000201.1, GL000202.1, GL000203.1, GL000204.1, GL000205.1, GL000206.1, GL000207.1, GL000208.1, GL000209.1, GL000210.1, GL000211.1, GL000212.1, GL000213.1, GL000214.1, GL000215.1, GL000216.1, GL000217.1, GL000218.1, GL000219.1, GL000220.1, GL000221.1, GL000222.1, GL000223.1, GL000224.1, GL000225.1, GL000226.1, GL000227.1, GL000228.1, GL000229.1, GL000230.1, GL000231.1, GL000232.1, GL000233.1, GL000234.1, GL000235.1, GL000236.1, GL000237.1, GL000238.1, GL000239.1, GL000240.1, GL000241.1, GL000242.1, GL000243.1, GL000244.1, GL000245.1, GL000246.1, GL000247.1, GL000248.1, GL000249.1, MT, 1 66442 MantaINS_2_0_0_1_0_0 T TATATAATATAATATATATTATATAATATAAATATATATTATATTATATAATATAATATATATTATATAATATATTTTATTATATAAATATATATTATATTATATA 588 PASS SUPP=1;SUPP_VEC=1000;SVLEN=105;SVTYPE=INS;SVMETHOD=SURVIVOR1.0.6;CHR2=1;END=66442;CIPOS=0,0;CIEND=0,0;STRANDS=+- GT:PSV:LN:DR:ST:QV:TY:ID:RAL:AAL:CO 0/1:NA:105:12,19:+-:588:INS:MantaINS_2_0_0_1_0_0:T:TATATAATATAATATATATTATATAATATAAATATATATTATATTATATAATATAATATATATTATATAATATATTTTATTATATAAATATATATTATATTATATA:1_66442-1_66442 ./.:NaN:0:0,0:--:NaN:NaN:NaN:NAN:NAN:NAN ./.:NaN:0:0,0:--:NaN:NaN:NaN:NAN:NAN:NAN ./.:NaN:0:0,0:--:NaN:NaN:NaN:NAN:NAN:NAN, 1 1531046 MantaDEL_70_1_1_6_8_0 CAGACAGACAGACAGAGAGAGCAGAACAGGGAGAGACAGAGAGACACAGAGACAGAGAGGCAAACAGAGACAGAGAGACAGACAGAGAGAGCAGAATGGGGAGAGACACAGAGACAGAGACAGAGACAGAGAGAGGCAGACAGAGACAGAGAGAGAGACAGACAGACACAGAGCAGAACAGGGAGAGACAGAGAGAGAGAGACAGAGAGAGGCAGACAGAGACAGAGAGAGAGACAGACACAGAGCAGAACAGGGAGAGACAGAGAGAGAGAGAGACAGAGAGAGGCAGACAGAGAGAGAGAGAGAGACAGACACAGAGAGAGCAGAACAGGGAGAAACAGAGACAGAGAGCGAGAGAGACAGACACAGAGAGAGGCAGACAGAGACAGAGAGAGACAGACAGACACAGAGAGAGCAGAACGGGGAGAGACAGAGAGACAGAGAGAAACAGAGACAGAGACAGAGAGAGGCAGACAGAG C 66 PASS SUPP=1;SUPP_VEC=1000;SVLEN=-478;SVTYPE=DEL;SVMETHOD=SURVIVOR1.0.6;CHR2=1;END=1531524;CIPOS=0,0;CIEND=0,0;STRANDS=+- GT:PSV:LN:DR:ST:QV:TY:ID:RAL:AAL:CO 0/1:NA:478:47,12:+-:66:DEL:MantaDEL_70_1_1_6_8_0:CAGACAGACAGACAGAGAGAGCAGAACAGGGAGAGACAGAGAGACACAGAGACAGAGAGGCAAACAGAGACAGAGAGACAGACAGAGAGAGCAGAATGGGGAGAGACACAGAGACAGAGACAGAGACAGAGAGAGGCAGACAGAGACAGAGAGAGAGACAGACAGACACAGAGCAGAACAGGGAGAGACAGAGAGAGAGAGACAGAGAGAGGCAGACAGAGACAGAGAGAGAGACAGACACAGAGCAGAACAGGGAGAGACAGAGAGAGAGAGAGACAGAGAGAGGCAGACAGAGAGAGAGAGAGAGACAGACACAGAGAGAGCAGAACAGGGAGAAACAGAGACAGAGAGCGAGAGAGACAGACACAGAGAGAGGCAGACAGAGACAGAGAGAGACAGACAGACACAGAGAGAGCAGAACGGGGAGAGACAGAGAGACAGAGAGAAACAGAGACAGAGACAGAGAGAGGCAGACAGAG:C:1_1531046-1_1531524 ./.:NaN:0:0,0:--:NaN:NaN:NaN:NAN:NAN:NAN ./.:NaN:0:0,0:--:NaN:NaN:NaN:NAN:NAN:NAN ./.:NaN:0:0,0:--:NaN:NaN:NaN:NAN:NAN:NAN, 1 1598413 MantaDEL_62_0_0_0_0_0 ACACGCCTGTAATCCCAGCTACTTGGGAGGCTGAGGCAGGAGAATCACTTCAACCCGGGAGGCGGAGGTTGCAGTGAGCCGAGATCAAACCAGAGAAATCCAGCTCTGGGTGACAGAGCAAGACTCTGTTTCGGGAAAAATAAAATACATAGGCAGGGCGCGGTGGCT A 739 PASS SUPP=1;SUPP_VEC=1000;SVLEN=-167;SVTYPE=DEL;SVMETHOD=SURVIVOR1.0.6;CHR2=1;END=1598580;CIPOS=0,0;CIEND=0,0;STRANDS=+- GT:PSV:LN:DR:ST:QV:TY:ID:RAL:AAL:CO 1/1:NA:167:1,25:+-:739:DEL:MantaDEL_62_0_0_0_0_0:ACACGCCTGTAATCCCAGCTACTTGGGAGGCTGAGGCAGGAGAATCACTTCAACCCGGGAGGCGGAGGTTGCAGTGAGCCGAGATCAAACCAGAGAAATCCAGCTCTGGGTGACAGAGCAAGACTCTGTTTCGGGAAAAATAAAATACATAGGCAGGGCGCGGTGGCT:A:1_1598413-1_1598580 ./.:NaN:0:0,0:--:NaN:NaN:NaN:NAN:NAN:NAN ./.:NaN:0:0,0:--:NaN:NaN:NaN:NAN:NAN:NAN ./.:NaN:0:0,0:--:NaN:NaN:NaN:NAN:NAN:NAN, 1 1880373 MantaINS_93_0_0_0_0_0 T TCCCTCCCTTCTTTCCTTCCCTTTCCCTCCCTCCCTTCCTTCCTCTTTCCTTCCTTCCTTTCCCTCCCTTACTCCTTCCTTCCCTTCCCCTTCCTTCTTCCTTCTCTC 976 PASS SUPP=1;SUPP_VEC=1000;SVLEN=107;SVTYPE=INS;SVMETHOD=SURVIVOR1.0.6;CHR2=1;END=1880373;CIPOS=0,0;CIEND=0,0;STRANDS=+- GT:PSV:LN:DR:ST:QV:TY:ID:RAL:AAL:CO 1/1:NA:107:0,32:+-:976:INS:MantaINS_93_0_0_0_0_0:T:TCCCTCCCTTCTTTCCTTCCCTTTCCCTCCCTCCCTTCCTTCCTCTTTCCTTCCTTCCTTTCCCTCCCTTACTCCTTCCTTCCCTTCCCCTTCCTTCTTCCTTCTCTC:1_1880373-1_1880373 ./.:NaN:0:0,0:--:NaN:NaN:NaN:NAN:NAN:NAN ./.:NaN:0:0,0:--:NaN:NaN:NaN:NAN:NAN:NAN ./.:NaN:0:0,0:--:NaN:NaN:NaN:NAN:NAN:NAN, 1 2959216 MantaINS_154_0_0_0_0_0 C CGGCACGCACCACCACACCCGCATGCACCACCGCACCTGGCATGCACCACCGCACCTG 512 PASS SUPP=1;SUPP_VEC=1000;SVLEN=57;SVTYPE=INS;SVMETHOD=SURVIVOR1.0.6;CHR2=1;END=2959216;CIPOS=0,0;CIEND=0,0;STRANDS=+- GT:PSV:LN:DR:ST:QV:TY:ID:RAL:AAL:CO 1/1:NA:57:0,17:+-:512:INS:MantaINS_154_0_0_0_0_0:C:CGGCACGCACCACCACACCCGCATGCACCACCGCACCTGGCATGCACCACCGCACCTG:1_2959216-1_2959216 ./.:NaN:0:0,0:--:NaN:NaN:NaN:NAN:NAN:NAN ./.:NaN:0:0,0:--:NaN:NaN:NaN:NAN:NAN:NAN ./.:NaN:0:0,0:--:NaN:NaN:NaN:NAN:NAN:NAN, 1 3092626 MantaDUP_TANDEM_149_0_1_0_0_0 A <DUP:TANDEM> 490 PASS SUPP=1;SUPP_VEC=1000;SVLEN=223;SVTYPE=DUP;SVMETHOD=SURVIVOR1.0.6;CHR2=1;END=3092849;CIPOS=0,0;CIEND=0,0;STRANDS=-+ GT:PSV:LN:DR:ST:QV:TY:ID:RAL:AAL:CO 0/1:NA:223:56,21:-+:490:DUP:MantaDUP_TANDEM_149_0_1_0_0_0:NA:NA:1_3092626-1_3092849 ./.:NaN:0:0,0:--:NaN:NaN:NaN:NAN:NAN:NAN ./.:NaN:0:0,0:--:NaN:NaN:NaN:NAN:NAN:NAN ./.:NaN:0:0,0:--:NaN:NaN:NaN:NAN:NAN:NAN, 1 3092854 MantaDEL_149_0_0_0_0_0 CTATCCATCTGTCCATACATCCATCTATTCTTCCATCCATCCCTCCATCCATTCATCCCCTGTTCTCCTGGAGGCATTCACACCTTGAGGTGGCCTTTGGGGAAGAGCTGCCTCATGCTGGGTCCTGCCTCTTTCAGAGCAGGGCAGCACAGCTCCTCAGAGCAGGAAGACCCTTCTGGCAGACACCAGGCTGCATCCATCCATCCATCCACCCACCCATTGATTCACCCACCCATCCATTCATCCATTCACTCATTAACCCATCCATGCACTCATTCATTTATCCATTCTTCCTTCCTTCTGTCCATCCATCCATCATCCATTCATCTATCCATCCATCCATGTACCCATCTATCCCCTCATCTATCCATCCAGCCATTCATTCACCTATCTATGCATTCATCCACCATCTGTCCATCTATCCATCCATCCATCCATCCATCCATCCATCCATCTATTCTTCCATCCATCCCTCCATCCATCCATCCCCTTATAA CC 81 PASS SUPP=1;SUPP_VEC=1000;SVLEN=-495;SVTYPE=DEL;SVMETHOD=SURVIVOR1.0.6;CHR2=1;END=3093349;CIPOS=0,0;CIEND=0,0;STRANDS=+- GT:PSV:LN:DR:ST:QV:TY:ID:RAL:AAL:CO 0/1:NA:495:92,13:+-:81:DEL:MantaDEL_149_0_0_0_0_0:CTATCCATCTGTCCATACATCCATCTATTCTTCCATCCATCCCTCCATCCATTCATCCCCTGTTCTCCTGGAGGCATTCACACCTTGAGGTGGCCTTTGGGGAAGAGCTGCCTCATGCTGGGTCCTGCCTCTTTCAGAGCAGGGCAGCACAGCTCCTCAGAGCAGGAAGACCCTTCTGGCAGACACCAGGCTGCATCCATCCATCCATCCACCCACCCATTGATTCACCCACCCATCCATTCATCCATTCACTCATTAACCCATCCATGCACTCATTCATTTATCCATTCTTCCTTCCTTCTGTCCATCCATCCATCATCCATTCATCTATCCATCCATCCATGTACCCATCTATCCCCTCATCTATCCATCCAGCCATTCATTCACCTATCTATGCATTCATCCACCATCTGTCCATCTATCCATCCATCCATCCATCCATCCATCCATCCATCTATTCTTCCATCCATCCCTCCATCCATCCATCCCCTTATAA:CC:1_3092854-1_3093349 ./.:NaN:0:0,0:--:NaN:NaN:NaN:NAN:NAN:NAN ./.:NaN:0:0,0:--:NaN:NaN:NaN:NAN:NAN:NAN ./.:NaN:0:0,0:--:NaN:NaN:NaN:NAN:NAN:NAN, 1 3098102 MantaDEL_160_0_0_1_4_3 ACGGTCTTACACACGCAGTCTTACACACGCAGTCTTACACACGGTCTTACATATGGTCTTACACATGCAGTCTTACACACGGTCTTACACATGCA AAGCG 409 PASS SUPP=1;SUPP_VEC=1000;SVLEN=-94;SVTYPE=DEL;SVMETHOD=SURVIVOR1.0.6;CHR2=1;END=3098196;CIPOS=0,0;CIEND=0,0;STRANDS=+- GT:PSV:LN:DR:ST:QV:TY:ID:RAL:AAL:CO 0/1:NA:94:32,17:+-:409:DEL:MantaDEL_160_0_0_1_4_3:ACGGTCTTACACACGCAGTCTTACACACGCAGTCTTACACACGGTCTTACATATGGTCTTACACATGCAGTCTTACACACGGTCTTACACATGCA:AAGCG:1_3098102-1_3098196 ./.:NaN:0:0,0:--:NaN:NaN:NaN:NAN:NAN:NAN ./.:NaN:0:0,0:--:NaN:NaN:NaN:NAN:NAN:NAN ./.:NaN:0:0,0:--:NaN:NaN:Na”Warning message in .Seqinfo.mergexy(x, y):\n",
      "“Each of the 2 combined objects has sequence levels not in the other:\n"
     ]
    },
    {
     "name": "stderr",
     "output_type": "stream",
     "text": [
      "  - in 'x': 080418_Consensus_Vector_Sequence_NIST_SEQUENCING_ASSEMBLY_noRestrict_rev, ERCC-00002, ERCC-00003, ERCC-00004, ERCC-00007, ERCC-00009, ERCC-00012, ERCC-00013, ERCC-00014, ERCC-00016, ERCC-00017, ERCC-00018, ERCC-00019, ERCC-00022, ERCC-00023, ERCC-00024, ERCC-00025, ERCC-00028, ERCC-00031, ERCC-00033, ERCC-00034, ERCC-00035, ERCC-00039, ERCC-00040, ERCC-00041, ERCC-00042, ERCC-00043, ERCC-00044, ERCC-00046, ERCC-00048, ERCC-00051, ERCC-00053, ERCC-00054, ERCC-00057, ERCC-00058, ERCC-00059, ERCC-00060, ERCC-00061, ERCC-00062, ERCC-00067, ERCC-00069, ERCC-00071, ERCC-00073, ERCC-00074, ERCC-00075, ERCC-00076, ERCC-00077, ERCC-00078, ERCC-00079, ERCC-00081, ERCC-00083, ERCC-00084, ERCC-00085, ERCC-00086, ERCC-00092, ERCC-00095, ERCC-00096, ERCC-00097, ERCC-00098, ERCC-00099, ERCC-00104, ERCC-00108, ERCC-00109, ERCC-00111, ERCC-00112, ERCC-00113, ERCC-00116, ERCC-00117, ERCC-00120, ERCC-00123, ERCC-00126, ERCC-00128, ERCC-00130, ERCC-00131, ERCC-00134, ERCC-00136, ERCC-00137, ERCC-00138, ERCC-00142, ERCC-00143, ERCC-00144, ERCC-00145, ERCC-00147, ERCC-00148, ERCC-00150, ERCC-00154, ERCC-00156, ERCC-00157, ERCC-00158, ERCC-00160, ERCC-00162, ERCC-00163, ERCC-00164, ERCC-00165, ERCC-00168, ERCC-00170, ERCC-00171, GL000191.1, GL000192.1, GL000193.1, GL000194.1, GL000195.1, GL000196.1, GL000197.1, GL000198.1, GL000199.1, GL000200.1, GL000201.1, GL000202.1, GL000203.1, GL000204.1, GL000205.1, GL000206.1, GL000207.1, GL000208.1, GL000209.1, GL000210.1, GL000211.1, GL000212.1, GL000213.1, GL000214.1, GL000215.1, GL000216.1, GL000217.1, GL000218.1, GL000219.1, GL000220.1, GL000221.1, GL000222.1, GL000223.1, GL000224.1, GL000225.1, GL000226.1, GL000227.1, GL000228.1, GL000229.1, GL000230.1, GL000231.1, GL000232.1, GL000233.1, GL000234.1, GL000235.1, GL000236.1, GL000237.1, GL000238.1, GL000239.1, GL000240.1, GL000241.1, GL000242.1, GL000243.1, GL000244.1, GL000245.1, GL000246.1, GL000247.1, GL000248.1, GL000249.1, MT, 1 66442 MantaINS_2_0_0_1_0_0 T TATATAATATAATATATATTATATAATATAAATATATATTATATTATATAATATAATATATATTATATAATATATTTTATTATATAAATATATATTATATTATATA 588 PASS SUPP=1;SUPP_VEC=1000;SVLEN=105;SVTYPE=INS;SVMETHOD=SURVIVOR1.0.6;CHR2=1;END=66442;CIPOS=0,0;CIEND=0,0;STRANDS=+- GT:PSV:LN:DR:ST:QV:TY:ID:RAL:AAL:CO 0/1:NA:105:12,19:+-:588:INS:MantaINS_2_0_0_1_0_0:T:TATATAATATAATATATATTATATAATATAAATATATATTATATTATATAATATAATATATATTATATAATATATTTTATTATATAAATATATATTATATTATATA:1_66442-1_66442 ./.:NaN:0:0,0:--:NaN:NaN:NaN:NAN:NAN:NAN ./.:NaN:0:0,0:--:NaN:NaN:NaN:NAN:NAN:NAN ./.:NaN:0:0,0:--:NaN:NaN:NaN:NAN:NAN:NAN, 1 1531046 MantaDEL_70_1_1_6_8_0 CAGACAGACAGACAGAGAGAGCAGAACAGGGAGAGACAGAGAGACACAGAGACAGAGAGGCAAACAGAGACAGAGAGACAGACAGAGAGAGCAGAATGGGGAGAGACACAGAGACAGAGACAGAGACAGAGAGAGGCAGACAGAGACAGAGAGAGAGACAGACAGACACAGAGCAGAACAGGGAGAGACAGAGAGAGAGAGACAGAGAGAGGCAGACAGAGACAGAGAGAGAGACAGACACAGAGCAGAACAGGGAGAGACAGAGAGAGAGAGAGACAGAGAGAGGCAGACAGAGAGAGAGAGAGAGACAGACACAGAGAGAGCAGAACAGGGAGAAACAGAGACAGAGAGCGAGAGAGACAGACACAGAGAGAGGCAGACAGAGACAGAGAGAGACAGACAGACACAGAGAGAGCAGAACGGGGAGAGACAGAGAGACAGAGAGAAACAGAGACAGAGACAGAGAGAGGCAGACAGAG C 66 PASS SUPP=1;SUPP_VEC=1000;SVLEN=-478;SVTYPE=DEL;SVMETHOD=SURVIVOR1.0.6;CHR2=1;END=1531524;CIPOS=0,0;CIEND=0,0;STRANDS=+- GT:PSV:LN:DR:ST:QV:TY:ID:RAL:AAL:CO 0/1:NA:478:47,12:+-:66:DEL:MantaDEL_70_1_1_6_8_0:CAGACAGACAGACAGAGAGAGCAGAACAGGGAGAGACAGAGAGACACAGAGACAGAGAGGCAAACAGAGACAGAGAGACAGACAGAGAGAGCAGAATGGGGAGAGACACAGAGACAGAGACAGAGACAGAGAGAGGCAGACAGAGACAGAGAGAGAGACAGACAGACACAGAGCAGAACAGGGAGAGACAGAGAGAGAGAGACAGAGAGAGGCAGACAGAGACAGAGAGAGAGACAGACACAGAGCAGAACAGGGAGAGACAGAGAGAGAGAGAGACAGAGAGAGGCAGACAGAGAGAGAGAGAGAGACAGACACAGAGAGAGCAGAACAGGGAGAAACAGAGACAGAGAGCGAGAGAGACAGACACAGAGAGAGGCAGACAGAGACAGAGAGAGACAGACAGACACAGAGAGAGCAGAACGGGGAGAGACAGAGAGACAGAGAGAAACAGAGACAGAGACAGAGAGAGGCAGACAGAG:C:1_1531046-1_1531524 ./.:NaN:0:0,0:--:NaN:NaN:NaN:NAN:NAN:NAN ./.:NaN:0:0,0:--:NaN:NaN:NaN:NAN:NAN:NAN ./.:NaN:0:0,0:--:NaN:NaN:NaN:NAN:NAN:NAN, 1 1598413 MantaDEL_62_0_0_0_0_0 ACACGCCTGTAATCCCAGCTACTTGGGAGGCTGAGGCAGGAGAATCACTTCAACCCGGGAGGCGGAGGTTGCAGTGAGCCGAGATCAAACCAGAGAAATCCAGCTCTGGGTGACAGAGCAAGACTCTGTTTCGGGAAAAATAAAATACATAGGCAGGGCGCGGTGGCT A 739 PASS SUPP=1;SUPP_VEC=1000;SVLEN=-167;SVTYPE=DEL;SVMETHOD=SURVIVOR1.0.6;CHR2=1;END=1598580;CIPOS=0,0;CIEND=0,0;STRANDS=+- GT:PSV:LN:DR:ST:QV:TY:ID:RAL:AAL:CO 1/1:NA:167:1,25:+-:739:DEL:MantaDEL_62_0_0_0_0_0:ACACGCCTGTAATCCCAGCTACTTGGGAGGCTGAGGCAGGAGAATCACTTCAACCCGGGAGGCGGAGGTTGCAGTGAGCCGAGATCAAACCAGAGAAATCCAGCTCTGGGTGACAGAGCAAGACTCTGTTTCGGGAAAAATAAAATACATAGGCAGGGCGCGGTGGCT:A:1_1598413-1_1598580 ./.:NaN:0:0,0:--:NaN:NaN:NaN:NAN:NAN:NAN ./.:NaN:0:0,0:--:NaN:NaN:NaN:NAN:NAN:NAN ./.:NaN:0:0,0:--:NaN:NaN:NaN:NAN:NAN:NAN, 1 1880373 MantaINS_93_0_0_0_0_0 T TCCCTCCCTTCTTTCCTTCCCTTTCCCTCCCTCCCTTCCTTCCTCTTTCCTTCCTTCCTTTCCCTCCCTTACTCCTTCCTTCCCTTCCCCTTCCTTCTTCCTTCTCTC 976 PASS SUPP=1;SUPP_VEC=1000;SVLEN=107;SVTYPE=INS;SVMETHOD=SURVIVOR1.0.6;CHR2=1;END=1880373;CIPOS=0,0;CIEND=0,0;STRANDS=+- GT:PSV:LN:DR:ST:QV:TY:ID:RAL:AAL:CO 1/1:NA:107:0,32:+-:976:INS:MantaINS_93_0_0_0_0_0:T:TCCCTCCCTTCTTTCCTTCCCTTTCCCTCCCTCCCTTCCTTCCTCTTTCCTTCCTTCCTTTCCCTCCCTTACTCCTTCCTTCCCTTCCCCTTCCTTCTTCCTTCTCTC:1_1880373-1_1880373 ./.:NaN:0:0,0:--:NaN:NaN:NaN:NAN:NAN:NAN ./.:NaN:0:0,0:--:NaN:NaN:NaN:NAN:NAN:NAN ./.:NaN:0:0,0:--:NaN:NaN:NaN:NAN:NAN:NAN, 1 2959216 MantaINS_154_0_0_0_0_0 C CGGCACGCACCACCACACCCGCATGCACCACCGCACCTGGCATGCACCACCGCACCTG 512 PASS SUPP=1;SUPP_VEC=1000;SVLEN=57;SVTYPE=INS;SVMETHOD=SURVIVOR1.0.6;CHR2=1;END=2959216;CIPOS=0,0;CIEND=0,0;STRANDS=+- GT:PSV:LN:DR:ST:QV:TY:ID:RAL:AAL:CO 1/1:NA:57:0,17:+-:512:INS:MantaINS_154_0_0_0_0_0:C:CGGCACGCACCACCACACCCGCATGCACCACCGCACCTGGCATGCACCACCGCACCTG:1_2959216-1_2959216 ./.:NaN:0:0,0:--:NaN:NaN:NaN:NAN:NAN:NAN ./.:NaN:0:0,0:--:NaN:NaN:NaN:NAN:NAN:NAN ./.:NaN:0:0,0:--:NaN:NaN:NaN:NAN:NAN:NAN, 1 3092626 MantaDUP_TANDEM_149_0_1_0_0_0 A <DUP:TANDEM> 490 PASS SUPP=1;SUPP_VEC=1000;SVLEN=223;SVTYPE=DUP;SVMETHOD=SURVIVOR1.0.6;CHR2=1;END=3092849;CIPOS=0,0;CIEND=0,0;STRANDS=-+ GT:PSV:LN:DR:ST:QV:TY:ID:RAL:AAL:CO 0/1:NA:223:56,21:-+:490:DUP:MantaDUP_TANDEM_149_0_1_0_0_0:NA:NA:1_3092626-1_3092849 ./.:NaN:0:0,0:--:NaN:NaN:NaN:NAN:NAN:NAN ./.:NaN:0:0,0:--:NaN:NaN:NaN:NAN:NAN:NAN ./.:NaN:0:0,0:--:NaN:NaN:NaN:NAN:NAN:NAN, 1 3092854 MantaDEL_149_0_0_0_0_0 CTATCCATCTGTCCATACATCCATCTATTCTTCCATCCATCCCTCCATCCATTCATCCCCTGTTCTCCTGGAGGCATTCACACCTTGAGGTGGCCTTTGGGGAAGAGCTGCCTCATGCTGGGTCCTGCCTCTTTCAGAGCAGGGCAGCACAGCTCCTCAGAGCAGGAAGACCCTTCTGGCAGACACCAGGCTGCATCCATCCATCCATCCACCCACCCATTGATTCACCCACCCATCCATTCATCCATTCACTCATTAACCCATCCATGCACTCATTCATTTATCCATTCTTCCTTCCTTCTGTCCATCCATCCATCATCCATTCATCTATCCATCCATCCATGTACCCATCTATCCCCTCATCTATCCATCCAGCCATTCATTCACCTATCTATGCATTCATCCACCATCTGTCCATCTATCCATCCATCCATCCATCCATCCATCCATCCATCTATTCTTCCATCCATCCCTCCATCCATCCATCCCCTTATAA CC 81 PASS SUPP=1;SUPP_VEC=1000;SVLEN=-495;SVTYPE=DEL;SVMETHOD=SURVIVOR1.0.6;CHR2=1;END=3093349;CIPOS=0,0;CIEND=0,0;STRANDS=+- GT:PSV:LN:DR:ST:QV:TY:ID:RAL:AAL:CO 0/1:NA:495:92,13:+-:81:DEL:MantaDEL_149_0_0_0_0_0:CTATCCATCTGTCCATACATCCATCTATTCTTCCATCCATCCCTCCATCCATTCATCCCCTGTTCTCCTGGAGGCATTCACACCTTGAGGTGGCCTTTGGGGAAGAGCTGCCTCATGCTGGGTCCTGCCTCTTTCAGAGCAGGGCAGCACAGCTCCTCAGAGCAGGAAGACCCTTCTGGCAGACACCAGGCTGCATCCATCCATCCATCCACCCACCCATTGATTCACCCACCCATCCATTCATCCATTCACTCATTAACCCATCCATGCACTCATTCATTTATCCATTCTTCCTTCCTTCTGTCCATCCATCCATCATCCATTCATCTATCCATCCATCCATGTACCCATCTATCCCCTCATCTATCCATCCAGCCATTCATTCACCTATCTATGCATTCATCCACCATCTGTCCATCTATCCATCCATCCATCCATCCATCCATCCATCCATCTATTCTTCCATCCATCCCTCCATCCATCCATCCCCTTATAA:CC:1_3092854-1_3093349 ./.:NaN:0:0,0:--:NaN:NaN:NaN:NAN:NAN:NAN ./.:NaN:0:0,0:--:NaN:NaN:NaN:NAN:NAN:NAN ./.:NaN:0:0,0:--:NaN:NaN:NaN:NAN:NAN:NAN, 1 3098102 MantaDEL_160_0_0_1_4_3 ACGGTCTTACACACGCAGTCTTACACACGCAGTCTTACACACGGTCTTACATATGGTCTTACACATGCAGTCTTACACACGGTCTTACACATGCA AAGCG 409 PASS SUPP=1;SUPP_VEC=1000;SVLEN=-94;SVTYPE=DEL;SVMETHOD=SURVIVOR1.0.6;CHR2=1;END=3098196;CIPOS=0,0;CIEND=0,0;STRANDS=+- GT:PSV:LN:DR:ST:QV:TY:ID:RAL:AAL:CO 0/1:NA:94:32,17:+-:409:DEL:MantaDEL_160_0_0_1_4_3:ACGGTCTTACACACGCAGTCTTACACACGCAGTCTTACACACGGTCTTACATATGGTCTTACACATGCAGTCTTACACACGGTCTTACACATGCA:AAGCG:1_3098102-1_3098196 ./.:NaN:0:0,0:--:NaN:NaN:NaN:NAN:NAN:NAN ./.:NaN:0:0,0:--:NaN:NaN:NaN:NAN:NAN:NAN ./.:NaN:0:0,0:--:NaN:NaN:Na”\n",
      "### Performance metrics ###\n",
      "min.supp = 3\n",
      "\n"
     ]
    }
   ],
   "source": [
    "gr <- breakpointRanges(vcf)\n",
    "gr <- excludeRegions(gr, excl.gr)\n",
    "hits <- getHits(gr, true.gr)\n",
    "callset <- file_path_sans_ext(vcf.outfile)\n",
    "pm <- getPerfMetrics(callset, hits, n.true)\n",
    "hits.df <- rbind(hits.df, data.frame(pm))\n",
    "message('\\n### Performance metrics ###')\n",
    "message('min.supp = ', min.supp, '\\n')"
   ]
  },
  {
   "cell_type": "markdown",
   "metadata": {},
   "source": [
    "### write performance metrics into CSV file"
   ]
  },
  {
   "cell_type": "code",
   "execution_count": 19,
   "metadata": {},
   "outputs": [
    {
     "data": {
      "text/html": [
       "<table>\n",
       "<caption>A data.frame: 5 × 7</caption>\n",
       "<thead>\n",
       "\t<tr><th scope=col>callset</th><th scope=col>n</th><th scope=col>tp</th><th scope=col>fp</th><th scope=col>fn</th><th scope=col>precision</th><th scope=col>recall</th></tr>\n",
       "\t<tr><th scope=col>&lt;fct&gt;</th><th scope=col>&lt;int&gt;</th><th scope=col>&lt;dbl&gt;</th><th scope=col>&lt;dbl&gt;</th><th scope=col>&lt;dbl&gt;</th><th scope=col>&lt;dbl&gt;</th><th scope=col>&lt;dbl&gt;</th></tr>\n",
       "</thead>\n",
       "<tbody>\n",
       "\t<tr><td>manta </td><td> 9084</td><td>4444</td><td>4640</td><td> 846</td><td>48.9</td><td>84.0</td></tr>\n",
       "\t<tr><td>delly </td><td>12042</td><td>4514</td><td>7528</td><td> 776</td><td>37.5</td><td>85.3</td></tr>\n",
       "\t<tr><td>lumpy </td><td>  382</td><td> 262</td><td> 120</td><td>5028</td><td>68.6</td><td> 5.0</td></tr>\n",
       "\t<tr><td>gridss</td><td> 5386</td><td>4134</td><td>1252</td><td>1156</td><td>76.8</td><td>78.1</td></tr>\n",
       "\t<tr><td>merge </td><td> 3660</td><td>3224</td><td> 436</td><td>2066</td><td>88.1</td><td>60.9</td></tr>\n",
       "</tbody>\n",
       "</table>\n"
      ],
      "text/latex": [
       "A data.frame: 5 × 7\n",
       "\\begin{tabular}{r|lllllll}\n",
       " callset & n & tp & fp & fn & precision & recall\\\\\n",
       " <fct> & <int> & <dbl> & <dbl> & <dbl> & <dbl> & <dbl>\\\\\n",
       "\\hline\n",
       "\t manta  &  9084 & 4444 & 4640 &  846 & 48.9 & 84.0\\\\\n",
       "\t delly  & 12042 & 4514 & 7528 &  776 & 37.5 & 85.3\\\\\n",
       "\t lumpy  &   382 &  262 &  120 & 5028 & 68.6 &  5.0\\\\\n",
       "\t gridss &  5386 & 4134 & 1252 & 1156 & 76.8 & 78.1\\\\\n",
       "\t merge  &  3660 & 3224 &  436 & 2066 & 88.1 & 60.9\\\\\n",
       "\\end{tabular}\n"
      ],
      "text/markdown": [
       "\n",
       "A data.frame: 5 × 7\n",
       "\n",
       "| callset &lt;fct&gt; | n &lt;int&gt; | tp &lt;dbl&gt; | fp &lt;dbl&gt; | fn &lt;dbl&gt; | precision &lt;dbl&gt; | recall &lt;dbl&gt; |\n",
       "|---|---|---|---|---|---|---|\n",
       "| manta  |  9084 | 4444 | 4640 |  846 | 48.9 | 84.0 |\n",
       "| delly  | 12042 | 4514 | 7528 |  776 | 37.5 | 85.3 |\n",
       "| lumpy  |   382 |  262 |  120 | 5028 | 68.6 |  5.0 |\n",
       "| gridss |  5386 | 4134 | 1252 | 1156 | 76.8 | 78.1 |\n",
       "| merge  |  3660 | 3224 |  436 | 2066 | 88.1 | 60.9 |\n",
       "\n"
      ],
      "text/plain": [
       "  callset n     tp   fp   fn   precision recall\n",
       "1 manta    9084 4444 4640  846 48.9      84.0  \n",
       "2 delly   12042 4514 7528  776 37.5      85.3  \n",
       "3 lumpy     382  262  120 5028 68.6       5.0  \n",
       "4 gridss   5386 4134 1252 1156 76.8      78.1  \n",
       "5 merge    3660 3224  436 2066 88.1      60.9  "
      ]
     },
     "metadata": {},
     "output_type": "display_data"
    }
   ],
   "source": [
    "hits.df"
   ]
  },
  {
   "cell_type": "code",
   "execution_count": 20,
   "metadata": {},
   "outputs": [],
   "source": [
    "csv.file <- paste0(names(truth.sets)[sel.idx], '_', 'metrics.csv')\n",
    "write.table(hits.df, file=csv.file, row.names=FALSE, col.names=TRUE,\n",
    "            quote=FALSE, sep=',')"
   ]
  }
 ],
 "metadata": {
  "kernelspec": {
   "display_name": "R",
   "language": "R",
   "name": "ir"
  },
  "language_info": {
   "codemirror_mode": "r",
   "file_extension": ".r",
   "mimetype": "text/x-r-source",
   "name": "R",
   "pygments_lexer": "r",
   "version": "3.6.1"
  }
 },
 "nbformat": 4,
 "nbformat_minor": 2
}
