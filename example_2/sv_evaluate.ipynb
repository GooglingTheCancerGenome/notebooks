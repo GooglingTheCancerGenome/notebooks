{
 "cells": [
  {
   "cell_type": "markdown",
   "metadata": {},
   "source": [
    "## Evaluate SV callsets"
   ]
  },
  {
   "cell_type": "markdown",
   "metadata": {},
   "source": [
    "### [SV callers](https://doi.org/10.5281/zenodo.1217111)\n",
    "- Manta\n",
    "- DELLY\n",
    "- LUMPY\n",
    "- GRIDSS\n",
    "\n",
    "### SV truth sets (germline)\n",
    "- [Personalis/1000 Genomes Project](https://ftp-trace.ncbi.nlm.nih.gov/giab/ftp/technical/svclassify_Manuscript/Supplementary_Information/Personalis_1000_Genomes_deduplicated_deletions.bed)\n",
    "  data ([Parikh et al. ,2016](https://doi.org/10.1186/s12864-016-2366-2)) for SV calls in the NA12878 [sample](https://ftp-trace.ncbi.nlm.nih.gov/giab/ftp/data/NA12878/NIST_NA12878_HG001_HiSeq_300x/RMNISTHS_30xdownsample.bam)\n",
    "- [PacBio/Moleculo](https://static-content.springer.com/esm/art%3A10.1186%2Fgb-2014-15-6-r84/MediaObjects/13059_2013_3363_MOESM4_ESM.zip) data ([Layer et al., 2014](https://doi.org/10.1186/gb-2014-15-6-r84)) for SV calls in the NA12878 sample\n",
    "- [dbVar](https://www.ncbi.nlm.nih.gov/dbvar/studies/nstd167/) [nstd167](https://ftp.ncbi.nlm.nih.gov/pub/dbVar/data/Homo_sapiens/by_study/vcf/nstd167.GRCh37.variant_call.vcf.gz) data ([Wenger et al., 2019](https://doi.org/10.1038/s41587-019-0217-9)) for SV calls in the NA24385 [sample](https://ftp-trace.ncbi.nlm.nih.gov/giab/ftp/data/AshkenazimTrio/HG002_NA24385_son/NIST_Illumina_2x250bps/novoalign_bams/HG002.hs37d5.2x250.bam)\n",
    "- [dbVar](https://www.ncbi.nlm.nih.gov/dbvar/studies/nstd137/) [nstd137](https://ftp.ncbi.nlm.nih.gov/pub/dbVar/data/Homo_sapiens/by_study/vcf/nstd137.GRCh37.variant_call.vcf.gz) data ([Huddlestone et al., 2017](https://dx.doi.org/10.1101%2Fgr.214007.116)) for SV calls in the CHM1_CHM13 [sample](https://identifiers.org/ena.embl:ERX1413368)\n",
    "\n",
    "### Exclusion lists\n",
    "- [ENCODE:ENCFF001TDO](http://identifiers.org/encode/ENCFF001TDO)\n",
    "- [CEPH](https://doi.org/10.1186/gb-2014-15-6-r84#ref-CR28) (Layer et al., 2014)\n"
   ]
  },
  {
   "cell_type": "code",
   "execution_count": null,
   "metadata": {},
   "outputs": [],
   "source": [
    "library(tools)\n",
    "suppressPackageStartupMessages(require(StructuralVariantAnnotation))"
   ]
  },
  {
   "cell_type": "markdown",
   "metadata": {},
   "source": [
    "### create a list of data sets"
   ]
  },
  {
   "cell_type": "code",
   "execution_count": null,
   "metadata": {},
   "outputs": [],
   "source": [
    "samples <- c('NA12878', 'NA24385', 'CHM1_CHM13')\n",
    "truth.sets <- list(\n",
    "    Personalis1kGP='Personalis_1000_Genomes_deduplicated_deletions.bed',\n",
    "    PacbioMoleculo='3717462611446476_add4.bedpe',\n",
    "    dbVar_nstd167='nstd167.GRCh37.variant_call.vcf.gz',\n",
    "    dbVar_nstd137='nstd137.GRCh37.variant_call.vcf.gz')\n",
    "excl.lists <- c('ENCFF001TDO.bed', 'ceph18.b37.lumpy.exclude.2014-01-15.bed')  # exclusion lists\n",
    "dts <- list(c(1,1,1), c(1,2,2), c(2,3,1), c(3,4,1))  # pair samples & truth sets & excl. lists via index"
   ]
  },
  {
   "cell_type": "markdown",
   "metadata": {},
   "source": [
    "### user input"
   ]
  },
  {
   "cell_type": "code",
   "execution_count": null,
   "metadata": {},
   "outputs": [],
   "source": [
    "min.supp <- 3  # min. number of supporting callers\n",
    "min.svLen <- -1  # currently set dynamically in [11]\n",
    "sel.idx <- 1  # select a data sets [1-4]"
   ]
  },
  {
   "cell_type": "code",
   "execution_count": null,
   "metadata": {},
   "outputs": [],
   "source": [
    "sample <- samples[dts[[sel.idx]][1]]\n",
    "ts <- names(truth.sets[dts[[sel.idx]][2]])\n",
    "base.dir <- file.path('..', '..')\n",
    "ts.file <- file.path(base.dir, sample, 'in', truth.sets[dts[[sel.idx]][2][[1]]])\n",
    "excl.file <- file.path(base.dir, sample, 'in', excl.lists[dts[[sel.idx]][3]])\n",
    "print(dts[[sel.idx]])\n",
    "print(sample)\n",
    "print(ts)\n",
    "print(ts.file)\n",
    "print(excl.file)"
   ]
  },
  {
   "cell_type": "markdown",
   "metadata": {},
   "source": [
    "### helper functions"
   ]
  },
  {
   "cell_type": "code",
   "execution_count": null,
   "metadata": {},
   "outputs": [],
   "source": [
    "# get VCF file path given a dataset and a caller\n",
    "getVcf <- function(dts, caller) {\n",
    "    vcf.file <- file.path(base.dir, dts, 'out', '3', 'S3', paste0(caller, '_out'), paste0(caller, '.vcf'))\n",
    "    print(vcf.file)\n",
    "    if (file.exists(vcf.file)) {\n",
    "        return(vcf.file)\n",
    "    }\n",
    "    return(NULL)\n",
    "}"
   ]
  },
  {
   "cell_type": "code",
   "execution_count": null,
   "metadata": {},
   "outputs": [],
   "source": [
    "# assign SV types\n",
    "# https://github.com/PapenfussLab/gridss/blob/7b1fedfed32af9e03ed5c6863d368a821a4c699f/example/simple-event-annotation.R#L9\n",
    "getSvType <- function(gr) {\n",
    "    return(ifelse(seqnames(gr) != seqnames(partner(gr)), 'CTX',\n",
    "        ifelse(gr$insLen >= abs(gr$svLen) * 0.7, 'INS',\n",
    "            ifelse(strand(gr) == strand(partner(gr)), 'INV',\n",
    "                ifelse(xor(start(gr) < start(partner(gr)), strand(gr) == '-'),\n",
    "                    'DEL', 'DUP')))))\n",
    "}"
   ]
  },
  {
   "cell_type": "code",
   "execution_count": null,
   "metadata": {},
   "outputs": [],
   "source": [
    "# compute performance metrics for a callset\n",
    "getPerfMetrics <- function(callset, hits, n.true) {\n",
    "    n <- length(hits)\n",
    "    tp <- sum(hits)\n",
    "    fp <- n - tp\n",
    "    fn <- n.true - tp\n",
    "    prec <- round(tp * 100 / n, digits=1)\n",
    "    rec <- round(tp * 100 / n.true, digits=1)\n",
    "    lst <- list(callset=callset, n=n, tp=tp, fp=fp, fn=fn, precision=prec,\n",
    "                recall=rec)\n",
    "    return(replace(lst, is.na(lst), 0))\n",
    "}"
   ]
  },
  {
   "cell_type": "code",
   "execution_count": null,
   "metadata": {},
   "outputs": [],
   "source": [
    "# exclude genomic regions\n",
    "excludeRegions <- function(query.gr, subject.gr) {\n",
    "    return(query.gr[!(overlapsAny(query.gr, subject.gr) |\n",
    "                      overlapsAny(partner(query.gr), subject.gr)), ])\n",
    "}"
   ]
  },
  {
   "cell_type": "code",
   "execution_count": null,
   "metadata": {},
   "outputs": [],
   "source": [
    "# count breakpoint overlaps (hits)\n",
    "getHits <- function(query.gr, subject.gr) {\n",
    "    return(countBreakpointOverlaps(query.gr, subject.gr, maxgap=100,\n",
    "                                   sizemargin=0.25, ignore.strand=TRUE,\n",
    "                                   restrictMarginToSizeMultiple=0.5,\n",
    "                                   countOnlyBest=TRUE))\n",
    "}"
   ]
  },
  {
   "cell_type": "code",
   "execution_count": null,
   "metadata": {},
   "outputs": [],
   "source": [
    "getRegionsFromTruthSet <- function(ts.file) {  # handle BED(PE) and VCF files\n",
    "    if(file_ext(ts.file) %in% c('vcf', 'gz')) {\n",
    "        vcf <- VariantAnnotation::readVcf(ts.file)\n",
    "        # fix: SVLEN type: CharacterList->IntegerList\n",
    "        info(vcf)$SVLEN <- IntegerList(info(vcf)$SVLEN)\n",
    "        return(breakpointRanges(vcf))\n",
    "    }\n",
    "\n",
    "    if(file_ext(ts.file) == 'bed') {\n",
    "        bedpe.file <- paste0(file_path_sans_ext(ts.file), '.bedpe')\n",
    "        cmd <- paste(\"awk 'BEGIN {a=0; OFS=\\\"\\t\\\"} NR>1 {print $1,$2,$2+1,$1,$3,\\\n",
    "                     $3+1,\\\"DEL_\\\" a,-1,\\\"+\\\",\\\"+\\\",\\\"DEL\\\"; a+=1}'\", ts.file,\n",
    "                     '>', bedpe.file)\n",
    "        system(cmd)\n",
    "        ts.file <- bedpe.file\n",
    "    }\n",
    "    return(pairs2breakpointgr(rtracklayer::import(ts.file)))\n",
    "}"
   ]
  },
  {
   "cell_type": "markdown",
   "metadata": {},
   "source": [
    "### import SVs from a truth set"
   ]
  },
  {
   "cell_type": "code",
   "execution_count": null,
   "metadata": {},
   "outputs": [],
   "source": [
    "true.gr <- getRegionsFromTruthSet(ts.file)\n",
    "seqlevelsStyle(true.gr) <- 'NCBI'  # chr[X] -> [X]\n",
    "if(min.svLen < 0) {\n",
    "    min.svLen <- min(abs(end(partner(true.gr)) - start(true.gr)) + 1)\n",
    "}\n",
    "message('### Truth set ###')\n",
    "message('input = ', ts.file)\n",
    "message('n = ', length(true.gr))\n",
    "message('min.svLen = ', min.svLen)"
   ]
  },
  {
   "cell_type": "markdown",
   "metadata": {},
   "source": [
    "### filter SVs by an exclusion list"
   ]
  },
  {
   "cell_type": "code",
   "execution_count": null,
   "metadata": {},
   "outputs": [],
   "source": [
    "excl.gr <- rtracklayer::import(excl.file)\n",
    "seqlevelsStyle(excl.gr) <- 'NCBI'  # chr[X] -> X\n",
    "message('\\n### Exclusion list ###')\n",
    "message('input = ', excl.file)\n",
    "print(seqnames(excl.gr))\n",
    "true.gr <- excludeRegions(true.gr, excl.gr)\n",
    "n.true <- length(true.gr)\n",
    "message('\\n### Truth set filtered by the exclusion list ###')\n",
    "message('n = ', n.true)\n",
    "message('min.svLen = ', min.svLen)"
   ]
  },
  {
   "cell_type": "markdown",
   "metadata": {},
   "source": [
    "### import SV callsets from VCF files"
   ]
  },
  {
   "cell_type": "code",
   "execution_count": null,
   "metadata": {},
   "outputs": [],
   "source": [
    "callers <- c('manta', 'delly', 'lumpy', 'gridss')\n",
    "hits.df <- data.frame(callset=character(), n=numeric(), tp=numeric(),\n",
    "                      fp=numeric(), precision=numeric(), recall=numeric())\n",
    "for (c in callers) {\n",
    "  vcf.file <- getVcf(sample, c)\n",
    "  vcf <- VariantAnnotation::readVcf(vcf.file)\n",
    "  # select only DELs\n",
    "  gr <- breakpointRanges(vcf)\n",
    "  gr$svtype <- getSvType(gr)\n",
    "  gr <- gr[gr$svtype == 'DEL']\n",
    "  message('\\n### All DELs ###')\n",
    "  message('# ', c)\n",
    "  message('n = ', length(gr))\n",
    "  print(summary(abs(gr$svLen)))\n",
    "\n",
    "  message('\\n### DELs svLen != NA ###')\n",
    "  gr <- gr[!is.na(gr$svLen)]\n",
    "  message('# ', c)\n",
    "  message('n = ', length(gr))\n",
    "  print(summary(abs(gr$svLen)))\n",
    "\n",
    "  gr <- gr[abs(gr$svLen) >= min.svLen]\n",
    "  message('\\n### DELs svLen >= min.svLen ###')\n",
    "  message('# ', c)\n",
    "  message('n = ', length(gr))\n",
    "  print(summary(abs(gr$svLen)))\n",
    "\n",
    "  gr <- excludeRegions(gr, excl.gr)\n",
    "  message('\\n### DELs >= min.svLen AND filtered by the exclusion list ###')\n",
    "  message('# ', c)\n",
    "  message('n = ', length(gr))\n",
    "  print(summary(abs(gr$svLen)))\n",
    "\n",
    "  hits <- getHits(gr, true.gr)\n",
    "  pm <- getPerfMetrics(c, hits, n.true)\n",
    "  hits.df <- rbind(hits.df, data.frame(pm))\n",
    "}"
   ]
  },
  {
   "cell_type": "markdown",
   "metadata": {},
   "source": [
    "### import merged callset from VCF file"
   ]
  },
  {
   "cell_type": "code",
   "execution_count": null,
   "metadata": {},
   "outputs": [],
   "source": [
    "# fix: replace ':' by '_' in ID & SAMPLE fields\n",
    "vcf.infile <- file.path(base.dir, sample, 'out', '3', 'S3', 'all.vcf')\n",
    "vcf.outfile <- 'merge.vcf'\n",
    "cmd <- paste(\"awk '{if ($1 ~ /^#/){print} else {id=$3; gsub(\\\":\\\",\\\"_\\\",$3);\\\n",
    "             gsub(id,$3,$10); print}}'\", vcf.infile, '>', vcf.outfile)\n",
    "system(cmd)"
   ]
  },
  {
   "cell_type": "code",
   "execution_count": null,
   "metadata": {},
   "outputs": [],
   "source": [
    "vcf.outfile\n",
    "vcf <- VariantAnnotation::readVcf(vcf.outfile)\n",
    "# fix: INFO/CI{END,POS} types: String->Integer\n",
    "header(vcf)\n",
    "info(header(vcf))$Type[1:2] <- c(\"Integer\", \"Integer\")\n",
    "vcf <- vcf[which(info(vcf)$SVTYPE == 'DEL')]  # keep only deletions\n",
    "vcf <- vcf[which(as.integer(info(vcf)$SUPP) >= min.supp, TRUE)]  # filter calls by support or\n",
    "#vcf <- vcf[which(info(vcf)$SUPP_VEC == '1101', TRUE)]           # binary vector (MDLG)\n",
    "# fix: CI{POS,END}} type: CharacterList->IntegerList\n",
    "info(vcf)$CIPOS <- IntegerList(info(vcf)$CIPOS)\n",
    "info(vcf)$CIEND <- IntegerList(info(vcf)$CIEND)"
   ]
  },
  {
   "cell_type": "markdown",
   "metadata": {},
   "source": [
    "### evaluate SV break-points"
   ]
  },
  {
   "cell_type": "code",
   "execution_count": null,
   "metadata": {},
   "outputs": [],
   "source": [
    "gr <- breakpointRanges(vcf)\n",
    "gr <- excludeRegions(gr, excl.gr)\n",
    "hits <- getHits(gr, true.gr)\n",
    "callset <- file_path_sans_ext(vcf.outfile)\n",
    "pm <- getPerfMetrics(callset, hits, n.true)\n",
    "hits.df <- rbind(hits.df, data.frame(pm))\n",
    "message('\\n### Performance metrics ###')\n",
    "message('min.supp = ', min.supp, '\\n')"
   ]
  },
  {
   "cell_type": "markdown",
   "metadata": {},
   "source": [
    "### write CSV file with performance metrics"
   ]
  },
  {
   "cell_type": "code",
   "execution_count": null,
   "metadata": {},
   "outputs": [],
   "source": [
    "hits.df"
   ]
  },
  {
   "cell_type": "code",
   "execution_count": null,
   "metadata": {},
   "outputs": [],
   "source": [
    "csv.file <- paste0('metrics_', sample, '_', ts, '.csv')\n",
    "write.table(hits.df, file=csv.file, row.names=FALSE, col.names=TRUE,\n",
    "            quote=FALSE, sep=',')"
   ]
  }
 ],
 "metadata": {
  "kernelspec": {
   "display_name": "R",
   "language": "R",
   "name": "ir"
  },
  "language_info": {
   "codemirror_mode": "r",
   "file_extension": ".r",
   "mimetype": "text/x-r-source",
   "name": "R",
   "pygments_lexer": "r",
   "version": "3.6.3"
  }
 },
 "nbformat": 4,
 "nbformat_minor": 2
}
