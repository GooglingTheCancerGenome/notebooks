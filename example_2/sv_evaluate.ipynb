{
 "cells": [
  {
   "cell_type": "markdown",
   "metadata": {},
   "source": [
    "## Evaluate SV callsets"
   ]
  },
  {
   "cell_type": "markdown",
   "metadata": {},
   "source": [
    "### [SV callers](https://doi.org/10.5281/zenodo.1217111)\n",
    "- Manta\n",
    "- DELLY\n",
    "- LUMPY\n",
    "- GRIDSS\n",
    "\n",
    "### SV truth sets (germline)\n",
    "- [Personalis/1000 Genomes Project](https://ftp-trace.ncbi.nlm.nih.gov/giab/ftp/technical/svclassify_Manuscript/Supplementary_Information/Personalis_1000_Genomes_deduplicated_deletions.bed)\n",
    "  data ([Parikh et al. ,2016](https://doi.org/10.1186/s12864-016-2366-2)) for SV calls in the NA12878 [sample](https://ftp-trace.ncbi.nlm.nih.gov/giab/ftp/data/NA12878/NIST_NA12878_HG001_HiSeq_300x/RMNISTHS_30xdownsample.bam)\n",
    "- [PacBio/Moleculo](https://static-content.springer.com/esm/art%3A10.1186%2Fgb-2014-15-6-r84/MediaObjects/13059_2013_3363_MOESM4_ESM.zip) data ([Layer et al., 2014](https://doi.org/10.1186/gb-2014-15-6-r84)) for SV calls in the NA12878 sample\n",
    "- [dbVar](https://www.ncbi.nlm.nih.gov/dbvar/studies/nstd167/) [nstd167](https://ftp.ncbi.nlm.nih.gov/pub/dbVar/data/Homo_sapiens/by_study/vcf/nstd167.GRCh37.variant_call.vcf.gz) data ([Wenger et al., 2019](https://doi.org/10.1038/s41587-019-0217-9)) for SV calls in the NA24385 [sample](https://ftp-trace.ncbi.nlm.nih.gov/giab/ftp/data/AshkenazimTrio/HG002_NA24385_son/NIST_Illumina_2x250bps/novoalign_bams/HG002.hs37d5.2x250.bam)\n",
    "- [dbVar](https://www.ncbi.nlm.nih.gov/dbvar/studies/nstd137/) [nstd137](https://ftp.ncbi.nlm.nih.gov/pub/dbVar/data/Homo_sapiens/by_study/vcf/nstd137.GRCh37.variant_call.vcf.gz) data ([Huddlestone et al., 2017](https://dx.doi.org/10.1101%2Fgr.214007.116)) for SV calls in the CHM1_CHM13 [sample](https://identifiers.org/ena.embl:ERX1413368)\n",
    "\n",
    "### Exclusion lists\n",
    "- [ENCODE:ENCFF001TDO](http://identifiers.org/encode/ENCFF001TDO)\n",
    "- [CEPH](https://doi.org/10.1186/gb-2014-15-6-r84#ref-CR28) (Layer et al., 2014)\n"
   ]
  },
  {
   "cell_type": "code",
   "execution_count": 1,
   "metadata": {},
   "outputs": [],
   "source": [
    "library(tools)\n",
    "suppressPackageStartupMessages(require(StructuralVariantAnnotation))"
   ]
  },
  {
   "cell_type": "markdown",
   "metadata": {},
   "source": [
    "### data sets"
   ]
  },
  {
   "cell_type": "code",
   "execution_count": 2,
   "metadata": {},
   "outputs": [],
   "source": [
    "samples <- c('NA12878', 'NA24385', 'CHM1_CHM13')\n",
    "truth.sets <- list(\n",
    "    Personalis1kGP='Personalis_1000_Genomes_deduplicated_deletions.bed',\n",
    "    PacbioMoleculo='3717462611446476_add4.bedpe',\n",
    "    dbVar_nstd167='nstd167.GRCh37.variant_call.vcf.gz',\n",
    "    dbVar_nstd137='nstd137.GRCh37.variant_call.vcf.gz')\n",
    "excl.lists <- c('ENCFF001TDO.bed', 'ceph18.b37.lumpy.exclude.2014-01-15.bed')  # exclusion lists\n",
    "map <- list(c(1,1,1), c(1,2,2), c(2,3,1), c(3,4,1))  # pair samples & truth sets & excl. lists via index"
   ]
  },
  {
   "cell_type": "markdown",
   "metadata": {},
   "source": [
    "### user input"
   ]
  },
  {
   "cell_type": "code",
   "execution_count": 3,
   "metadata": {},
   "outputs": [],
   "source": [
    "min.supp <- 3  # min. number of supporting callers"
   ]
  },
  {
   "cell_type": "code",
   "execution_count": 4,
   "metadata": {},
   "outputs": [],
   "source": [
    "base.dir <- file.path('..', '..')"
   ]
  },
  {
   "cell_type": "code",
   "execution_count": 5,
   "metadata": {},
   "outputs": [
    {
     "name": "stdout",
     "output_type": "stream",
     "text": [
      "[1] 3 4 1\n",
      "[1] \"CHM1_CHM13\"\n",
      "[1] \"dbVar_nstd137\"\n",
      "[1] \"../../CHM1_CHM13/in/nstd137.GRCh37.variant_call.vcf.gz\"\n",
      "[1] \"../../CHM1_CHM13/in/ENCFF001TDO.bed\"\n"
     ]
    }
   ],
   "source": [
    "sel.idx <- 4  # select a data sets in the map [1-4] \n",
    "sample <- samples[map[[sel.idx]][1]]\n",
    "ts <- names(truth.sets[map[[sel.idx]][2]])\n",
    "ts.file <- file.path(base.dir, sample, 'in', truth.sets[map[[sel.idx]][2][[1]]])\n",
    "excl.file <- file.path(base.dir, sample, 'in', excl.lists[map[[sel.idx]][3]])\n",
    "print(map[[sel.idx]])\n",
    "print(sample)\n",
    "print(ts)\n",
    "print(ts.file)\n",
    "print(excl.file)"
   ]
  },
  {
   "cell_type": "markdown",
   "metadata": {},
   "source": [
    "### helper functions"
   ]
  },
  {
   "cell_type": "code",
   "execution_count": 6,
   "metadata": {},
   "outputs": [],
   "source": [
    "# get VCF file path given dataset and caller\n",
    "getVcf <- function(dts, caller) {\n",
    "    vcf.file <- file.path(base.dir, dts, 'out', '3', 'S3', paste0(caller, '_out'), paste0(caller, '.vcf'))\n",
    "    print(vcf.file)\n",
    "    if (file.exists(vcf.file)) {\n",
    "        return(vcf.file)\n",
    "    }\n",
    "    return(NULL)\n",
    "}"
   ]
  },
  {
   "cell_type": "code",
   "execution_count": 7,
   "metadata": {},
   "outputs": [],
   "source": [
    "# assign SV types\n",
    "# https://github.com/PapenfussLab/gridss/blob/7b1fedfed32af9e03ed5c6863d368a821a4c699f/example/simple-event-annotation.R#L9\n",
    "getSvType <- function(gr) {\n",
    "    return(ifelse(seqnames(gr) != seqnames(partner(gr)), 'CTX',\n",
    "        ifelse(gr$insLen >= abs(gr$svLen) * 0.7, 'INS',\n",
    "            ifelse(strand(gr) == strand(partner(gr)), 'INV',\n",
    "                ifelse(xor(start(gr) < start(partner(gr)), strand(gr) == '-'),\n",
    "                    'DEL', 'DUP')))))\n",
    "}"
   ]
  },
  {
   "cell_type": "code",
   "execution_count": 8,
   "metadata": {},
   "outputs": [],
   "source": [
    "# compute performance metrics for a callset\n",
    "getPerfMetrics <- function(callset, hits, n.true) {\n",
    "    n <- length(hits)\n",
    "    tp <- sum(hits)\n",
    "    fp <- n - tp\n",
    "    fn <- n.true - tp\n",
    "    prec <- round(tp * 100 / n, digits=1)\n",
    "    rec <- round(tp * 100 / n.true, digits=1)\n",
    "    return(list(callset=callset, n=n, tp=tp, fp=fp, fn=fn, precision=prec,\n",
    "                recall=rec))\n",
    "}"
   ]
  },
  {
   "cell_type": "code",
   "execution_count": 9,
   "metadata": {},
   "outputs": [],
   "source": [
    "# exclude genomic regions\n",
    "excludeRegions <- function(query.gr, subject.gr) {\n",
    "    return(query.gr[!(overlapsAny(query.gr, subject.gr) |\n",
    "                      overlapsAny(partner(query.gr), subject.gr)), ])\n",
    "}"
   ]
  },
  {
   "cell_type": "code",
   "execution_count": 10,
   "metadata": {},
   "outputs": [],
   "source": [
    "# count breakpoint overlaps (hits)\n",
    "getHits <- function(query.gr, subject.gr) {\n",
    "    return(countBreakpointOverlaps(query.gr, subject.gr, maxgap=100,\n",
    "                                   sizemargin=0.25, ignore.strand=TRUE,\n",
    "                                   restrictMarginToSizeMultiple=0.5,\n",
    "                                   countOnlyBest=TRUE))\n",
    "}"
   ]
  },
  {
   "cell_type": "code",
   "execution_count": 11,
   "metadata": {},
   "outputs": [],
   "source": [
    "getRegionsFromTruthSet <- function(ts.file) {  # handle BED(PE) and VCF files\n",
    "    if(file_ext(ts.file) %in% c('vcf', 'gz')) {\n",
    "        vcf <- VariantAnnotation::readVcf(ts.file)\n",
    "        # fix: SVLEN type: CharacterList->IntegerList\n",
    "        info(vcf)$SVLEN <- IntegerList(info(vcf)$SVLEN)\n",
    "        return(breakpointRanges(vcf))\n",
    "    }\n",
    "\n",
    "    if(file_ext(ts.file) == 'bed') {\n",
    "        bedpe.file <- paste0(file_path_sans_ext(ts.file), '.bedpe')\n",
    "        cmd <- paste(\"awk 'BEGIN {a=0; OFS=\\\"\\t\\\"} NR>1 {print $1,$2,$2+1,$1,$3,\\\n",
    "                     $3+1,\\\"DEL_\\\" a,-1,\\\"+\\\",\\\"+\\\",\\\"DEL\\\"; a+=1}'\", ts.file,\n",
    "                     '>', bedpe.file)\n",
    "        system(cmd)\n",
    "        ts.file <- bedpe.file\n",
    "    }\n",
    "    return(pairs2breakpointgr(rtracklayer::import(ts.file)))\n",
    "}"
   ]
  },
  {
   "cell_type": "markdown",
   "metadata": {},
   "source": [
    "### import SVs from a truth set"
   ]
  },
  {
   "cell_type": "code",
   "execution_count": 12,
   "metadata": {},
   "outputs": [
    {
     "name": "stderr",
     "output_type": "stream",
     "text": [
      "### Truth set ###\n",
      "\n",
      "input = ../../CHM1_CHM13/in/nstd137.GRCh37.variant_call.vcf.gz\n",
      "\n",
      "n = 68342\n",
      "\n",
      "min.svLen = 2\n",
      "\n"
     ]
    }
   ],
   "source": [
    "true.gr <- getRegionsFromTruthSet(ts.file)\n",
    "seqlevelsStyle(true.gr) <- 'NCBI'  # chr[X] -> [X]\n",
    "min.svLen <- min(abs(end(partner(true.gr)) - start(true.gr)) + 1)\n",
    "message('### Truth set ###')\n",
    "message('input = ', ts.file)\n",
    "message('n = ', length(true.gr))\n",
    "message('min.svLen = ', min.svLen)"
   ]
  },
  {
   "cell_type": "markdown",
   "metadata": {},
   "source": [
    "### filter SVs by an exclusion list"
   ]
  },
  {
   "cell_type": "code",
   "execution_count": 13,
   "metadata": {},
   "outputs": [
    {
     "name": "stderr",
     "output_type": "stream",
     "text": [
      "\n",
      "### Exclusion list ###\n",
      "\n",
      "input = ../../CHM1_CHM13/in/ENCFF001TDO.bed\n",
      "\n"
     ]
    },
    {
     "name": "stdout",
     "output_type": "stream",
     "text": [
      "factor-Rle of length 411 with 25 runs\n",
      "  Lengths:  27  12  13   8   2   4   1  10 ...  14  10  18  13  23   1  25 118\n",
      "  Values :   1  10  11  12  13  14  15  16 ...   5   6   7   8   9   M   X   Y\n",
      "Levels(25): 1 10 11 12 13 14 15 16 17 18 19 2 20 21 22 3 4 5 6 7 8 9 M X Y\n"
     ]
    },
    {
     "name": "stderr",
     "output_type": "stream",
     "text": [
      "Warning message in .Seqinfo.mergexy(x, y):\n",
      "“Each of the 2 combined objects has sequence levels not in the other:\n",
      "  - in 'x': GL000194.1, GL000208.1, GL000214.1, GL000217.1, GL000219.1, GL000224.1, GL000225.1, GL000233.1, GL383561.2, JH636052.4, JH806585.1, KE332502.1, NT_113885.1, NT_113901.1, NT_113916.2, NT_113923.1, NT_113930.1, NT_113961.1, NT_167212.1, NT_167213.1, NT_167214.1, NT_167225.1, NT_167226.1, NT_167229.1, NT_167230.1, NT_167234.1, NW_003315903.1, NW_003315911.1, NW_003315912.1, NW_003315923.1, NW_003315924.1, NW_003315925.1, NW_003315926.1, NW_003315932.1, NW_003315937.1, NW_003315947.1, NW_003315948.2, NW_003315949.1, NW_003315950.2, NW_003315968.1, NW_003571030.1, NW_003571034.1, NW_003571035.1, NW_003571040.1, NW_003571042.1, NW_003571046.1, NW_003571048.1, NW_003571051.1, NW_003571064.2, NW_003871055.3, NW_003871056.3, NW_003871060.1, NW_003871064.1, NW_003871068.1, NW_003871087.1, NW_003871088.1, NW_003871089.1, NW_003871094.1, NW_003871095.1, NW_003871100.1, NW_003871103.3, NW_004070863.1, NW_004070865.1, NW_004070866.1, NW_004070867.1, NW_004070869.1, NW_004070870.1, NW_004070871.1, NW_004070872.2, NW_004070877.1, NW_004070880.2, NW_004070881.1, NW_004070885.1, NW_004070887.1, NW_004070888.1, NW_004070889.1, NW_004070890.2, NW_004070891.1, NW_004166863.1, NW_004166865.1, NW_004504300.1, NW_004504301.1, NW_004504304.1, NW_004775427.1, NW_004775429.1, NW_004775432.1, NW_004775433.1, NW_004775434.1\n",
      "  - in 'y': M\n",
      "  Make sure to always combine/compare objects based on the same reference\n",
      "  genome (use suppressWarnings() to suppress this warning).”\n",
      "Warning message in .Seqinfo.mergexy(x, y):\n",
      "“Each of the 2 combined objects has sequence levels not in the other:\n",
      "  - in 'x': GL000194.1, GL000208.1, GL000214.1, GL000217.1, GL000219.1, GL000224.1, GL000225.1, GL000233.1, GL383561.2, JH636052.4, JH806585.1, KE332502.1, NT_113885.1, NT_113901.1, NT_113916.2, NT_113923.1, NT_113930.1, NT_113961.1, NT_167212.1, NT_167213.1, NT_167214.1, NT_167225.1, NT_167226.1, NT_167229.1, NT_167230.1, NT_167234.1, NW_003315903.1, NW_003315911.1, NW_003315912.1, NW_003315923.1, NW_003315924.1, NW_003315925.1, NW_003315926.1, NW_003315932.1, NW_003315937.1, NW_003315947.1, NW_003315948.2, NW_003315949.1, NW_003315950.2, NW_003315968.1, NW_003571030.1, NW_003571034.1, NW_003571035.1, NW_003571040.1, NW_003571042.1, NW_003571046.1, NW_003571048.1, NW_003571051.1, NW_003571064.2, NW_003871055.3, NW_003871056.3, NW_003871060.1, NW_003871064.1, NW_003871068.1, NW_003871087.1, NW_003871088.1, NW_003871089.1, NW_003871094.1, NW_003871095.1, NW_003871100.1, NW_003871103.3, NW_004070863.1, NW_004070865.1, NW_004070866.1, NW_004070867.1, NW_004070869.1, NW_004070870.1, NW_004070871.1, NW_004070872.2, NW_004070877.1, NW_004070880.2, NW_004070881.1, NW_004070885.1, NW_004070887.1, NW_004070888.1, NW_004070889.1, NW_004070890.2, NW_004070891.1, NW_004166863.1, NW_004166865.1, NW_004504300.1, NW_004504301.1, NW_004504304.1, NW_004775427.1, NW_004775429.1, NW_004775432.1, NW_004775433.1, NW_004775434.1\n",
      "  - in 'y': M\n",
      "  Make sure to always combine/compare objects based on the same reference\n",
      "  genome (use suppressWarnings() to suppress this warning).”\n",
      "\n",
      "### Truth set filtered by the exclusion list ###\n",
      "\n",
      "n = 67412\n",
      "\n",
      "min.svLen = 2\n",
      "\n"
     ]
    }
   ],
   "source": [
    "excl.gr <- rtracklayer::import(excl.file)\n",
    "seqlevelsStyle(excl.gr) <- 'NCBI'  # chr[X] -> X\n",
    "message('\\n### Exclusion list ###')\n",
    "message('input = ', excl.file)\n",
    "print(seqnames(excl.gr))\n",
    "true.gr <- excludeRegions(true.gr, excl.gr)\n",
    "min.svlen <- min(abs(end(partner(true.gr)) - start(true.gr)) + 1)\n",
    "n.true <- length(true.gr)\n",
    "message('\\n### Truth set filtered by the exclusion list ###')\n",
    "message('n = ', n.true)\n",
    "message('min.svLen = ', min.svLen)"
   ]
  },
  {
   "cell_type": "markdown",
   "metadata": {},
   "source": [
    "### import SV callsets from VCF files"
   ]
  },
  {
   "cell_type": "code",
   "execution_count": 14,
   "metadata": {},
   "outputs": [
    {
     "name": "stdout",
     "output_type": "stream",
     "text": [
      "[1] \"../../CHM1_CHM13/out/3/S3/manta_out/manta.vcf\"\n"
     ]
    },
    {
     "name": "stderr",
     "output_type": "stream",
     "text": [
      "\n",
      "### All DELs ###\n",
      "\n",
      "# manta\n",
      "\n",
      "n = 8928\n",
      "\n"
     ]
    },
    {
     "name": "stdout",
     "output_type": "stream",
     "text": [
      "     Min.   1st Qu.    Median      Mean   3rd Qu.      Max. \n",
      "-81790539      -343      -202   -104885       -76       -36 \n"
     ]
    },
    {
     "name": "stderr",
     "output_type": "stream",
     "text": [
      "\n",
      "### DELs svLen != NA ###\n",
      "\n",
      "# manta\n",
      "\n",
      "n = 8928\n",
      "\n"
     ]
    },
    {
     "name": "stdout",
     "output_type": "stream",
     "text": [
      "     Min.   1st Qu.    Median      Mean   3rd Qu.      Max. \n",
      "-81790539      -343      -202   -104885       -76       -36 \n"
     ]
    },
    {
     "name": "stderr",
     "output_type": "stream",
     "text": [
      "\n",
      "### DELs svLen >= min.svLen ###\n",
      "\n",
      "# manta\n",
      "\n",
      "n = 8928\n",
      "\n"
     ]
    },
    {
     "name": "stdout",
     "output_type": "stream",
     "text": [
      "     Min.   1st Qu.    Median      Mean   3rd Qu.      Max. \n",
      "-81790539      -343      -202   -104885       -76       -36 \n"
     ]
    },
    {
     "name": "stderr",
     "output_type": "stream",
     "text": [
      "Warning message in .Seqinfo.mergexy(x, y):\n",
      "“Each of the 2 combined objects has sequence levels not in the other:\n",
      "  - in 'x': MT, GL000207.1, GL000226.1, GL000229.1, GL000231.1, GL000210.1, GL000239.1, GL000235.1, GL000201.1, GL000247.1, GL000245.1, GL000197.1, GL000203.1, GL000246.1, GL000249.1, GL000196.1, GL000248.1, GL000244.1, GL000238.1, GL000202.1, GL000234.1, GL000232.1, GL000206.1, GL000240.1, GL000236.1, GL000241.1, GL000243.1, GL000242.1, GL000230.1, GL000237.1, GL000233.1, GL000204.1, GL000198.1, GL000208.1, GL000191.1, GL000227.1, GL000228.1, GL000214.1, GL000221.1, GL000209.1, GL000218.1, GL000220.1, GL000213.1, GL000211.1, GL000199.1, GL000217.1, GL000216.1, GL000215.1, GL000205.1, GL000219.1, GL000224.1, GL000223.1, GL000195.1, GL000212.1, GL000222.1, GL000200.1, GL000193.1, GL000194.1, GL000225.1, GL000192.1, NC_007605\n",
      "  - in 'y': M\n",
      "  Make sure to always combine/compare objects based on the same reference\n",
      "  genome (use suppressWarnings() to suppress this warning).”\n",
      "Warning message in .Seqinfo.mergexy(x, y):\n",
      "“Each of the 2 combined objects has sequence levels not in the other:\n",
      "  - in 'x': MT, GL000207.1, GL000226.1, GL000229.1, GL000231.1, GL000210.1, GL000239.1, GL000235.1, GL000201.1, GL000247.1, GL000245.1, GL000197.1, GL000203.1, GL000246.1, GL000249.1, GL000196.1, GL000248.1, GL000244.1, GL000238.1, GL000202.1, GL000234.1, GL000232.1, GL000206.1, GL000240.1, GL000236.1, GL000241.1, GL000243.1, GL000242.1, GL000230.1, GL000237.1, GL000233.1, GL000204.1, GL000198.1, GL000208.1, GL000191.1, GL000227.1, GL000228.1, GL000214.1, GL000221.1, GL000209.1, GL000218.1, GL000220.1, GL000213.1, GL000211.1, GL000199.1, GL000217.1, GL000216.1, GL000215.1, GL000205.1, GL000219.1, GL000224.1, GL000223.1, GL000195.1, GL000212.1, GL000222.1, GL000200.1, GL000193.1, GL000194.1, GL000225.1, GL000192.1, NC_007605\n",
      "  - in 'y': M\n",
      "  Make sure to always combine/compare objects based on the same reference\n",
      "  genome (use suppressWarnings() to suppress this warning).”\n",
      "\n",
      "### DELs >= min.svlen AND filtered by the exclusion list ###\n",
      "\n",
      "# manta\n",
      "\n",
      "n = 8838\n",
      "\n"
     ]
    },
    {
     "name": "stdout",
     "output_type": "stream",
     "text": [
      "     Min.   1st Qu.    Median      Mean   3rd Qu.      Max. \n",
      "-81790539      -341      -202   -103433       -75       -36 \n"
     ]
    },
    {
     "name": "stderr",
     "output_type": "stream",
     "text": [
      "Warning message in .Seqinfo.mergexy(x, y):\n",
      "“Each of the 2 combined objects has sequence levels not in the other:\n",
      "  - in 'x': MT, GL000207.1, GL000226.1, GL000229.1, GL000231.1, GL000210.1, GL000239.1, GL000235.1, GL000201.1, GL000247.1, GL000245.1, GL000197.1, GL000203.1, GL000246.1, GL000249.1, GL000196.1, GL000248.1, GL000244.1, GL000238.1, GL000202.1, GL000234.1, GL000232.1, GL000206.1, GL000240.1, GL000236.1, GL000241.1, GL000243.1, GL000242.1, GL000230.1, GL000237.1, GL000204.1, GL000198.1, GL000191.1, GL000227.1, GL000228.1, GL000221.1, GL000209.1, GL000218.1, GL000220.1, GL000213.1, GL000211.1, GL000199.1, GL000216.1, GL000215.1, GL000205.1, GL000223.1, GL000195.1, GL000212.1, GL000222.1, GL000200.1, GL000193.1, GL000192.1, NC_007605\n",
      "  - in 'y': GL383561.2, JH636052.4, JH806585.1, KE332502.1, NT_113885.1, NT_113901.1, NT_113916.2, NT_113923.1, NT_113930.1, NT_113961.1, NT_167212.1, NT_167213.1, NT_167214.1, NT_167225.1, NT_167226.1, NT_167229.1, NT_167230.1, NT_167234.1, NW_003315903.1, NW_003315911.1, NW_003315912.1, NW_003315923.1, NW_003315924.1, NW_003315925.1, NW_003315926.1, NW_003315932.1, NW_003315937.1, NW_003315947.1, NW_003315948.2, NW_003315949.1, NW_003315950.2, NW_003315968.1, NW_003571030.1, NW_003571034.1, NW_003571035.1, NW_003571040.1, NW_003571042.1, NW_003571046.1, NW_003571048.1, NW_003571051.1, NW_003571064.2, NW_003871055.3, NW_003871056.3, NW_003871060.1, NW_003871064.1, NW_003871068.1, NW_003871087.1, NW_003871088.1, NW_003871089.1, NW_003871094.1, NW_003871095.1, NW_003871100.1, NW_003871103.3, NW_004070863.1, NW_004070865.1, NW_004070866.1, NW_004070867.1, NW_004070869.1, NW_004070870.1, NW_004070871.1, NW_004070872.2, NW_004070877.1, NW_004070880.2, NW_004070881.1, NW_004070885.1, NW_004070887.1, NW_004070888.1, NW_004070889.1, NW_004070890.2, NW_004070891.1, NW_004166863.1, NW_004166865.1, NW_004504300.1, NW_004504301.1, NW_004504304.1, NW_004775427.1, NW_004775429.1, NW_004775432.1, NW_004775433.1, NW_004775434.1\n",
      "  Make sure to always combine/compare objects based on the same reference\n",
      "  genome (use suppressWarnings() to suppress this warning).”\n",
      "Warning message in .Seqinfo.mergexy(x, y):\n",
      "“Each of the 2 combined objects has sequence levels not in the other:\n",
      "  - in 'x': MT, GL000207.1, GL000226.1, GL000229.1, GL000231.1, GL000210.1, GL000239.1, GL000235.1, GL000201.1, GL000247.1, GL000245.1, GL000197.1, GL000203.1, GL000246.1, GL000249.1, GL000196.1, GL000248.1, GL000244.1, GL000238.1, GL000202.1, GL000234.1, GL000232.1, GL000206.1, GL000240.1, GL000236.1, GL000241.1, GL000243.1, GL000242.1, GL000230.1, GL000237.1, GL000204.1, GL000198.1, GL000191.1, GL000227.1, GL000228.1, GL000221.1, GL000209.1, GL000218.1, GL000220.1, GL000213.1, GL000211.1, GL000199.1, GL000216.1, GL000215.1, GL000205.1, GL000223.1, GL000195.1, GL000212.1, GL000222.1, GL000200.1, GL000193.1, GL000192.1, NC_007605\n",
      "  - in 'y': GL383561.2, JH636052.4, JH806585.1, KE332502.1, NT_113885.1, NT_113901.1, NT_113916.2, NT_113923.1, NT_113930.1, NT_113961.1, NT_167212.1, NT_167213.1, NT_167214.1, NT_167225.1, NT_167226.1, NT_167229.1, NT_167230.1, NT_167234.1, NW_003315903.1, NW_003315911.1, NW_003315912.1, NW_003315923.1, NW_003315924.1, NW_003315925.1, NW_003315926.1, NW_003315932.1, NW_003315937.1, NW_003315947.1, NW_003315948.2, NW_003315949.1, NW_003315950.2, NW_003315968.1, NW_003571030.1, NW_003571034.1, NW_003571035.1, NW_003571040.1, NW_003571042.1, NW_003571046.1, NW_003571048.1, NW_003571051.1, NW_003571064.2, NW_003871055.3, NW_003871056.3, NW_003871060.1, NW_003871064.1, NW_003871068.1, NW_003871087.1, NW_003871088.1, NW_003871089.1, NW_003871094.1, NW_003871095.1, NW_003871100.1, NW_003871103.3, NW_004070863.1, NW_004070865.1, NW_004070866.1, NW_004070867.1, NW_004070869.1, NW_004070870.1, NW_004070871.1, NW_004070872.2, NW_004070877.1, NW_004070880.2, NW_004070881.1, NW_004070885.1, NW_004070887.1, NW_004070888.1, NW_004070889.1, NW_004070890.2, NW_004070891.1, NW_004166863.1, NW_004166865.1, NW_004504300.1, NW_004504301.1, NW_004504304.1, NW_004775427.1, NW_004775429.1, NW_004775432.1, NW_004775433.1, NW_004775434.1\n",
      "  Make sure to always combine/compare objects based on the same reference\n",
      "  genome (use suppressWarnings() to suppress this warning).”\n"
     ]
    },
    {
     "name": "stdout",
     "output_type": "stream",
     "text": [
      "[1] \"../../CHM1_CHM13/out/3/S3/delly_out/delly.vcf\"\n"
     ]
    },
    {
     "name": "stderr",
     "output_type": "stream",
     "text": [
      "Warning message in .breakpointRanges(x, ...):\n",
      "“Removing 1474 unpaired breakend variants BND00000016, BND00000020, BND00000047, BND00000053, BND00000074, BND00000076, BND00000077, BND00000078, BND00000161, BND00000168, BND00000315, BND00000720, BND00000785, BND00000787, BND00000839, BND00000842, BND00000852, BND00000851, BND00000874, BND00000910, BND00000912, BND00001090, BND00001117, BND00001126, BND00001136, BND00001137, BND00001145, BND00001222, BND00001262, BND00001293, BND00001325, BND00001324, BND00001332, BND00001378, BND00001404, BND00001476, BND00001482, BND00001533, BND00001570, BND00001603, BND00001605, BND00001668, BND00001687, BND00001877, BND00002904, BND00003150, BND00003153, BND00003152, BND00003173, BND00003253, BND00003272, BND00003336, BND00003389, BND00003421, BND00003430, BND00003495, BND00003522, BND00003625, BND00003637, BND00003654, BND00003718, BND00003746, BND00003770, BND00003929, BND00003931, BND00003932, BND00003935, BND00003942, BND00003992, BND00004023, BND00004050, BND00004071, BND00004072, BND00004150, BND00004153, BND00004244, BND00004248, BND00004255, BND00004303, BND00004369, BND00004402, BND00004430, BND00004440, BND00004591, BND00004618, BND00004619, BND00004682, BND00004688, BND00004715, BND00004748, BND00004798, BND00004823, BND00004830, BND00004837, BND00004847, BND00004883, BND00004935, BND00004949, BND00004950, BND00005007, BND00005029, BND00005081, BND00005099, BND00005107, BND00005123, BND00005124, BND00005153, BND00005184, BND00005212, BND00005222, BND00005221, BND00005225, BND00005227, BND00005228, BND00005230, BND00005392, BND00005400, BND00005453, BND00005470, BND00005479, BND00005503, BND00005542, BND00005551, BND00005562, BND00005613, BND00005620, BND00005627, BND00005626, BND00005645, BND00005648, BND00005653, BND00005658, BND00005700, BND00005757, BND00005768, BND00005770, BND00005796, BND00005861, BND00005920, BND00005923, BND00005930, BND00005970, BND00006040, BND00006147, BND00006256, BND00006363, BND00006373, BND00006377, BND00006387, BND00006404, BND00006401, BND00006420, BND00006455, BND00006461, BND00006472, BND00006473, BND00006470, BND00006468, BND00006486, BND00006497, BND00006519, BND00006904, BND00006979, BND00006981, BND00006988, BND00007028, BND00007057, BND00007248, BND00007263, BND00007262, BND00007284, BND00007485, BND00007484, BND00007499, BND00007504, BND00007531, BND00007544, BND00007573, BND00007585, BND00007626, BND00007631, BND00007721, BND00007787, BND00007792, BND00008039, BND00008132, BND00008180, BND00008228, BND00008229, BND00008247, BND00008292, BND00008300, BND00008439, BND00008440, BND00008452, BND00008466, BND00008477, BND00008491, BND00008532, BND00008547, BND00008554, BND00008576, BND00008694, BND00008710, BND00008757, BND00008770, BND00008799, BND00008854, BND00008878, BND00008884, BND00008947, BND00008948, BND00008976, BND00009020, BND00009105, BND00009344, BND00009402, BND00009470, BND00009477, BND00009489, BND00009506, BND00009509, BND00009572, BND00009900, BND00009904, BND00009905, BND00009908, BND00010047, BND00010112, BND00010156, BND00010228, BND00010230, BND00010374, BND00010470, BND00010489, BND00010504, BND00010546, BND00010582, BND00010615, BND00010647, BND00010672, BND00010694, BND00010731, BND00010733, BND00010907, BND00011230, BND00011319, BND00011330, BND00011353, BND00011339, BND00011378, BND00011382, BND00011397, BND00011435, BND00011583, BND00011764, BND00012189, BND00012607, BND00013149, BND00014103, BND00014427, BND00014464, BND00014499, BND00014506, BND00014507, BND00014509, BND00014530, BND00014531, BND00014533, BND00014543, BND00014548, BND00014578, BND00014614, BND00014623, BND00014661, BND00014869, BND00014912, BND00014925, BND00014927, BND00014984, BND00014999, BND00015005, BND00015020, BND00015022, BND00015029, BND00015066, BND00015067, BND00015072, BND00015089, BND00015098, BND00015103, BND00015123, BND00015180, BND00015220, BND00015247, BND00015263, BND00015266, BND00015310, BND00015349, BND00015354, BND00015406, BND00015453, BND00015465, BND00015515, BND00015533, BND00015580, BND00015624, BND00015666, BND00015692, BND00015727, BND00015807, BND00015812, BND00015826, BND00015843, BND00015875, BND00015924, BND00015923, BND00015943, BND00016781, BND00017365, BND00017374, BND00017445, BND00017610, BND00017633, BND00017703, BND00017717, BND00017748, BND00017752, BND00017753, BND00017760, BND00017763, BND00017893, BND00017897, BND00017922, BND00017932, BND00017934, BND00017943, BND00017985, BND00017990, BND00018010, BND00018011, BND00018023, BND00018024, BND00018056, BND00018094, BND00018101, BND00018103, BND00018156, BND00018158, BND00018257, BND00018329, BND00018349, BND00018525, BND00019780, BND00019865, BND00019866, BND00019901, BND00019910, BND00019912, BND00020048, BND00020050, BND00020076, BND00020142, BND00020147, BND00020158, BND00020189, BND00020191, BND00020378, BND00020380, BND00020381, BND00020440, BND00020449, BND00020477, BND00020476, BND00020485, BND00020493, BND00020508, BND00020568, BND00020594, BND00020617, BND00020616, BND00020649, BND00020656, BND00020719, BND00020740, BND00020756, BND00020768, BND00020813, BND00020814, BND00020824, BND00020832, BND00020841, BND00020849, BND00020852, BND00020875, BND00020963, BND00020966, BND00020976, BND00020981, BND00020992, BND00021010, BND00021015, BND00021045, BND00021046, BND00021047, BND00021050, BND00021054, BND00021055, BND00021142, BND00021155, BND00021159, BND00021170, BND00021171, BND00021203, BND00021211, BND00021232, BND00021231, BND00021266, BND00021269, BND00021329, BND00021363, BND00021487, BND00021506, BND00021516, BND00021613, BND00021676, BND00021693, BND00021699, BND00021757, BND00021788, BND00021800, BND00022132, BND00022148, BND00022150, BND00022167, BND00022166, BND00022171, BND00022168, BND00022194, BND00022217, BND00022256, BND00022255, BND00022331, BND00022338, BND00022407, BND00022444, BND00022446, BND00022463, BND00022531, BND00022568, BND00022569, BND00022611, BND00022685, BND00022688, BND00022738, BND00022741, BND00022745, BND00022760, BND00022770, BND00022792, BND00022813, BND00022824, BND00022834, BND00022843, BND00022844, BND00022879, BND00022895, BND00022953, BND00022955, BND00023059, BND00023079, BND00023153, BND00023147, BND00023331, BND00023349, BND00023460, BND00023470, BND00023473, BND00023476, BND00023501, BND00023502, BND00023547, BND00023548, BND00023581, BND00023582, BND00023584, BND00023591, BND00023592, BND00023593, BND00023595, BND00023596, BND00023597, BND00023598, BND00023613, BND00023639, BND00023649, BND00023677, BND00023745, BND00023744, BND00023781, BND00023844, BND00023845, BND00023846, BND00023921, BND00023947, BND00023971, BND00024015, BND00024059, BND00024060, BND00024108, BND00024114, BND00024117, BND00024153, BND00024162, BND00024225, BND00024274, BND00024275, BND00024309, BND00024310, BND00024328, BND00024329, BND00024359, BND00024505, BND00024506, BND00024593, BND00024662, BND00024663, BND00024665, BND00024677, BND00024744, BND00024797, BND00024811, BND00024823, BND00024923, BND00024931, BND00024940, BND00024959, BND00024961, BND00024963, BND00024973, BND00024995, BND00025021, BND00025028, BND00025072, BND00025075, BND00025108, BND00025137, BND00025155, BND00025161, BND00025163, BND00025164, BND00025172, BND00025175, BND00025177, BND00025178, BND00025181, BND00025186, BND00025187, BND00025188, BND00025206, BND00025213, BND00025219, BND00025744, BND00026060, BND00026068, BND00026097, BND00026102, BND00026103, BND00026104, BND00026107, BND00026109, BND00026110, BND00026112, BND00026118, BND00026130, BND00026136, BND00026174, BND00026191, BND00026269, BND00026309, BND00026328, BND00026376, BND00026555, BND00026681, BND00026696, BND00026739, BND00026870, BND00026949, BND00026963, BND00027018, BND00027751, BND00027936, BND00028014, BND00028051, BND00028107, BND00028108, BND00028122, BND00028124, BND00028129, BND00028171, BND00028217, BND00028258, BND00028280, BND00028306, BND00028378, BND00028386, BND00028402, BND00028434, BND00028447, BND00028452, BND00028455, BND00028456, BND00028540, BND00028561, BND00028605, BND00028671, BND00028787, BND00028791, BND00028827, BND00028833, BND00028869, BND00028946, BND00028959, BND00029051, BND00029053, BND00029060, BND00029144”\n"
     ]
    },
    {
     "name": "stderr",
     "output_type": "stream",
     "text": [
      "Warning message in valid.GenomicRanges.seqinfo(x, suggest.trim = TRUE):\n",
      "“GRanges object contains 7 out-of-bound ranges located on sequences MT,\n",
      "  GL000226.1, and GL000207.1. Note that ranges located on a sequence\n",
      "  whose length is unknown (NA) or on a circular sequence are not\n",
      "  considered out-of-bound (use seqlengths() and isCircular() to get the\n",
      "  lengths and circularity flags of the underlying sequences). You can use\n",
      "  trim() to trim these ranges. See ?`trim,GenomicRanges-method` for more\n",
      "  information.”\n",
      "Warning message in valid.GenomicRanges.seqinfo(x, suggest.trim = TRUE):\n",
      "“GRanges object contains 7 out-of-bound ranges located on sequences MT,\n",
      "  GL000226.1, and GL000207.1. Note that ranges located on a sequence\n",
      "  whose length is unknown (NA) or on a circular sequence are not\n",
      "  considered out-of-bound (use seqlengths() and isCircular() to get the\n",
      "  lengths and circularity flags of the underlying sequences). You can use\n",
      "  trim() to trim these ranges. See ?`trim,GenomicRanges-method` for more\n",
      "  information.”\n",
      "Warning message in valid.GenomicRanges.seqinfo(x, suggest.trim = TRUE):\n",
      "“GRanges object contains 7 out-of-bound ranges located on sequences MT,\n",
      "  GL000226.1, and GL000207.1. Note that ranges located on a sequence\n",
      "  whose length is unknown (NA) or on a circular sequence are not\n",
      "  considered out-of-bound (use seqlengths() and isCircular() to get the\n",
      "  lengths and circularity flags of the underlying sequences). You can use\n",
      "  trim() to trim these ranges. See ?`trim,GenomicRanges-method` for more\n",
      "  information.”\n",
      "Warning message in valid.GenomicRanges.seqinfo(x, suggest.trim = TRUE):\n",
      "“GRanges object contains 7 out-of-bound ranges located on sequences MT,\n",
      "  GL000226.1, and GL000207.1. Note that ranges located on a sequence\n",
      "  whose length is unknown (NA) or on a circular sequence are not\n",
      "  considered out-of-bound (use seqlengths() and isCircular() to get the\n",
      "  lengths and circularity flags of the underlying sequences). You can use\n",
      "  trim() to trim these ranges. See ?`trim,GenomicRanges-method` for more\n",
      "  information.”\n",
      "Warning message in valid.GenomicRanges.seqinfo(x, suggest.trim = TRUE):\n",
      "“GRanges object contains 7 out-of-bound ranges located on sequences MT,\n",
      "  GL000226.1, and GL000207.1. Note that ranges located on a sequence\n",
      "  whose length is unknown (NA) or on a circular sequence are not\n",
      "  considered out-of-bound (use seqlengths() and isCircular() to get the\n",
      "  lengths and circularity flags of the underlying sequences). You can use\n",
      "  trim() to trim these ranges. See ?`trim,GenomicRanges-method` for more\n",
      "  information.”\n",
      "\n",
      "### All DELs ###\n",
      "\n",
      "# delly\n",
      "\n",
      "n = 27560\n",
      "\n"
     ]
    },
    {
     "name": "stdout",
     "output_type": "stream",
     "text": [
      "     Min.   1st Qu.    Median      Mean   3rd Qu.      Max. \n",
      "     -570       -68       -28    377563       -18 223472791 \n"
     ]
    },
    {
     "name": "stderr",
     "output_type": "stream",
     "text": [
      "\n",
      "### DELs svLen != NA ###\n",
      "\n",
      "# delly\n",
      "\n",
      "n = 27560\n",
      "\n"
     ]
    },
    {
     "name": "stdout",
     "output_type": "stream",
     "text": [
      "     Min.   1st Qu.    Median      Mean   3rd Qu.      Max. \n",
      "     -570       -68       -28    377563       -18 223472791 \n"
     ]
    },
    {
     "name": "stderr",
     "output_type": "stream",
     "text": [
      "\n",
      "### DELs svLen >= min.svLen ###\n",
      "\n",
      "# delly\n",
      "\n",
      "n = 27560\n",
      "\n"
     ]
    },
    {
     "name": "stdout",
     "output_type": "stream",
     "text": [
      "     Min.   1st Qu.    Median      Mean   3rd Qu.      Max. \n",
      "     -570       -68       -28    377563       -18 223472791 \n"
     ]
    },
    {
     "name": "stderr",
     "output_type": "stream",
     "text": [
      "Warning message in .Seqinfo.mergexy(x, y):\n",
      "“Each of the 2 combined objects has sequence levels not in the other:\n",
      "  - in 'x': MT, GL000207.1, GL000226.1, GL000229.1, GL000231.1, GL000210.1, GL000239.1, GL000235.1, GL000201.1, GL000247.1, GL000245.1, GL000197.1, GL000203.1, GL000246.1, GL000249.1, GL000196.1, GL000248.1, GL000244.1, GL000238.1, GL000202.1, GL000234.1, GL000232.1, GL000206.1, GL000240.1, GL000236.1, GL000241.1, GL000243.1, GL000242.1, GL000230.1, GL000237.1, GL000233.1, GL000204.1, GL000198.1, GL000208.1, GL000191.1, GL000227.1, GL000228.1, GL000214.1, GL000221.1, GL000209.1, GL000218.1, GL000220.1, GL000213.1, GL000211.1, GL000199.1, GL000217.1, GL000216.1, GL000215.1, GL000205.1, GL000219.1, GL000224.1, GL000223.1, GL000195.1, GL000212.1, GL000222.1, GL000200.1, GL000193.1, GL000194.1, GL000225.1, GL000192.1, NC_007605\n",
      "  - in 'y': M\n",
      "  Make sure to always combine/compare objects based on the same reference\n",
      "  genome (use suppressWarnings() to suppress this warning).”\n",
      "Warning message in .Seqinfo.mergexy(x, y):\n",
      "“Each of the 2 combined objects has sequence levels not in the other:\n",
      "  - in 'x': MT, GL000207.1, GL000226.1, GL000229.1, GL000231.1, GL000210.1, GL000239.1, GL000235.1, GL000201.1, GL000247.1, GL000245.1, GL000197.1, GL000203.1, GL000246.1, GL000249.1, GL000196.1, GL000248.1, GL000244.1, GL000238.1, GL000202.1, GL000234.1, GL000232.1, GL000206.1, GL000240.1, GL000236.1, GL000241.1, GL000243.1, GL000242.1, GL000230.1, GL000237.1, GL000233.1, GL000204.1, GL000198.1, GL000208.1, GL000191.1, GL000227.1, GL000228.1, GL000214.1, GL000221.1, GL000209.1, GL000218.1, GL000220.1, GL000213.1, GL000211.1, GL000199.1, GL000217.1, GL000216.1, GL000215.1, GL000205.1, GL000219.1, GL000224.1, GL000223.1, GL000195.1, GL000212.1, GL000222.1, GL000200.1, GL000193.1, GL000194.1, GL000225.1, GL000192.1, NC_007605\n",
      "  - in 'y': M\n",
      "  Make sure to always combine/compare objects based on the same reference\n",
      "  genome (use suppressWarnings() to suppress this warning).”\n",
      "\n",
      "### DELs >= min.svlen AND filtered by the exclusion list ###\n",
      "\n",
      "# delly\n",
      "\n",
      "n = 26806\n",
      "\n"
     ]
    },
    {
     "name": "stdout",
     "output_type": "stream",
     "text": [
      "     Min.   1st Qu.    Median      Mean   3rd Qu.      Max. \n",
      "     -570       -67       -28    358404       -18 205246010 \n"
     ]
    },
    {
     "name": "stderr",
     "output_type": "stream",
     "text": [
      "Warning message in .Seqinfo.mergexy(x, y):\n",
      "“Each of the 2 combined objects has sequence levels not in the other:\n",
      "  - in 'x': MT, GL000207.1, GL000226.1, GL000229.1, GL000231.1, GL000210.1, GL000239.1, GL000235.1, GL000201.1, GL000247.1, GL000245.1, GL000197.1, GL000203.1, GL000246.1, GL000249.1, GL000196.1, GL000248.1, GL000244.1, GL000238.1, GL000202.1, GL000234.1, GL000232.1, GL000206.1, GL000240.1, GL000236.1, GL000241.1, GL000243.1, GL000242.1, GL000230.1, GL000237.1, GL000204.1, GL000198.1, GL000191.1, GL000227.1, GL000228.1, GL000221.1, GL000209.1, GL000218.1, GL000220.1, GL000213.1, GL000211.1, GL000199.1, GL000216.1, GL000215.1, GL000205.1, GL000223.1, GL000195.1, GL000212.1, GL000222.1, GL000200.1, GL000193.1, GL000192.1, NC_007605\n",
      "  - in 'y': GL383561.2, JH636052.4, JH806585.1, KE332502.1, NT_113885.1, NT_113901.1, NT_113916.2, NT_113923.1, NT_113930.1, NT_113961.1, NT_167212.1, NT_167213.1, NT_167214.1, NT_167225.1, NT_167226.1, NT_167229.1, NT_167230.1, NT_167234.1, NW_003315903.1, NW_003315911.1, NW_003315912.1, NW_003315923.1, NW_003315924.1, NW_003315925.1, NW_003315926.1, NW_003315932.1, NW_003315937.1, NW_003315947.1, NW_003315948.2, NW_003315949.1, NW_003315950.2, NW_003315968.1, NW_003571030.1, NW_003571034.1, NW_003571035.1, NW_003571040.1, NW_003571042.1, NW_003571046.1, NW_003571048.1, NW_003571051.1, NW_003571064.2, NW_003871055.3, NW_003871056.3, NW_003871060.1, NW_003871064.1, NW_003871068.1, NW_003871087.1, NW_003871088.1, NW_003871089.1, NW_003871094.1, NW_003871095.1, NW_003871100.1, NW_003871103.3, NW_004070863.1, NW_004070865.1, NW_004070866.1, NW_004070867.1, NW_004070869.1, NW_004070870.1, NW_004070871.1, NW_004070872.2, NW_004070877.1, NW_004070880.2, NW_004070881.1, NW_004070885.1, NW_004070887.1, NW_004070888.1, NW_004070889.1, NW_004070890.2, NW_004070891.1, NW_004166863.1, NW_004166865.1, NW_004504300.1, NW_004504301.1, NW_004504304.1, NW_004775427.1, NW_004775429.1, NW_004775432.1, NW_004775433.1, NW_004775434.1\n",
      "  Make sure to always combine/compare objects based on the same reference\n",
      "  genome (use suppressWarnings() to suppress this warning).”\n",
      "Warning message in .Seqinfo.mergexy(x, y):\n",
      "“Each of the 2 combined objects has sequence levels not in the other:\n",
      "  - in 'x': MT, GL000207.1, GL000226.1, GL000229.1, GL000231.1, GL000210.1, GL000239.1, GL000235.1, GL000201.1, GL000247.1, GL000245.1, GL000197.1, GL000203.1, GL000246.1, GL000249.1, GL000196.1, GL000248.1, GL000244.1, GL000238.1, GL000202.1, GL000234.1, GL000232.1, GL000206.1, GL000240.1, GL000236.1, GL000241.1, GL000243.1, GL000242.1, GL000230.1, GL000237.1, GL000204.1, GL000198.1, GL000191.1, GL000227.1, GL000228.1, GL000221.1, GL000209.1, GL000218.1, GL000220.1, GL000213.1, GL000211.1, GL000199.1, GL000216.1, GL000215.1, GL000205.1, GL000223.1, GL000195.1, GL000212.1, GL000222.1, GL000200.1, GL000193.1, GL000192.1, NC_007605\n",
      "  - in 'y': GL383561.2, JH636052.4, JH806585.1, KE332502.1, NT_113885.1, NT_113901.1, NT_113916.2, NT_113923.1, NT_113930.1, NT_113961.1, NT_167212.1, NT_167213.1, NT_167214.1, NT_167225.1, NT_167226.1, NT_167229.1, NT_167230.1, NT_167234.1, NW_003315903.1, NW_003315911.1, NW_003315912.1, NW_003315923.1, NW_003315924.1, NW_003315925.1, NW_003315926.1, NW_003315932.1, NW_003315937.1, NW_003315947.1, NW_003315948.2, NW_003315949.1, NW_003315950.2, NW_003315968.1, NW_003571030.1, NW_003571034.1, NW_003571035.1, NW_003571040.1, NW_003571042.1, NW_003571046.1, NW_003571048.1, NW_003571051.1, NW_003571064.2, NW_003871055.3, NW_003871056.3, NW_003871060.1, NW_003871064.1, NW_003871068.1, NW_003871087.1, NW_003871088.1, NW_003871089.1, NW_003871094.1, NW_003871095.1, NW_003871100.1, NW_003871103.3, NW_004070863.1, NW_004070865.1, NW_004070866.1, NW_004070867.1, NW_004070869.1, NW_004070870.1, NW_004070871.1, NW_004070872.2, NW_004070877.1, NW_004070880.2, NW_004070881.1, NW_004070885.1, NW_004070887.1, NW_004070888.1, NW_004070889.1, NW_004070890.2, NW_004070891.1, NW_004166863.1, NW_004166865.1, NW_004504300.1, NW_004504301.1, NW_004504304.1, NW_004775427.1, NW_004775429.1, NW_004775432.1, NW_004775433.1, NW_004775434.1\n",
      "  Make sure to always combine/compare objects based on the same reference\n",
      "  genome (use suppressWarnings() to suppress this warning).”\n"
     ]
    },
    {
     "name": "stdout",
     "output_type": "stream",
     "text": [
      "[1] \"../../CHM1_CHM13/out/3/S3/lumpy_out/lumpy.vcf\"\n"
     ]
    },
    {
     "name": "stderr",
     "output_type": "stream",
     "text": [
      "\n",
      "### All DELs ###\n",
      "\n",
      "# lumpy\n",
      "\n",
      "n = 0\n",
      "\n"
     ]
    },
    {
     "name": "stdout",
     "output_type": "stream",
     "text": [
      "   Min. 1st Qu.  Median    Mean 3rd Qu.    Max. \n",
      "                                                \n"
     ]
    },
    {
     "name": "stderr",
     "output_type": "stream",
     "text": [
      "\n",
      "### DELs svLen != NA ###\n",
      "\n",
      "# lumpy\n",
      "\n",
      "n = 0\n",
      "\n"
     ]
    },
    {
     "name": "stdout",
     "output_type": "stream",
     "text": [
      "   Min. 1st Qu.  Median    Mean 3rd Qu.    Max. \n",
      "                                                \n"
     ]
    },
    {
     "name": "stderr",
     "output_type": "stream",
     "text": [
      "\n",
      "### DELs svLen >= min.svLen ###\n",
      "\n",
      "# lumpy\n",
      "\n",
      "n = 0\n",
      "\n"
     ]
    },
    {
     "name": "stdout",
     "output_type": "stream",
     "text": [
      "   Min. 1st Qu.  Median    Mean 3rd Qu.    Max. \n",
      "                                                \n"
     ]
    },
    {
     "name": "stderr",
     "output_type": "stream",
     "text": [
      "Warning message in .Seqinfo.mergexy(x, y):\n",
      "“Each of the 2 combined objects has sequence levels not in the other:\n",
      "  - in 'x': MT, GL000207.1, GL000208.1, GL000214.1, GL000220.1, GL000199.1, GL000216.1, GL000205.1, GL000219.1, GL000224.1, GL000195.1, GL000193.1, GL000225.1, GL000235.1, GL000234.1, GL000232.1, GL000233.1, GL000194.1, GL000192.1, GL000229.1, GL000231.1, GL000211.1, GL000212.1, GL000222.1, GL000198.1, GL000237.1, GL000201.1, GL000241.1, GL000203.1, GL000226.1, GL000210.1, GL000217.1, GL000228.1, GL000230.1, GL000218.1\n",
      "  - in 'y': M\n",
      "  Make sure to always combine/compare objects based on the same reference\n",
      "  genome (use suppressWarnings() to suppress this warning).”\n",
      "Warning message in .Seqinfo.mergexy(x, y):\n",
      "“Each of the 2 combined objects has sequence levels not in the other:\n",
      "  - in 'x': MT, GL000207.1, GL000208.1, GL000214.1, GL000220.1, GL000199.1, GL000216.1, GL000205.1, GL000219.1, GL000224.1, GL000195.1, GL000193.1, GL000225.1, GL000235.1, GL000234.1, GL000232.1, GL000233.1, GL000194.1, GL000192.1, GL000229.1, GL000231.1, GL000211.1, GL000212.1, GL000222.1, GL000198.1, GL000237.1, GL000201.1, GL000241.1, GL000203.1, GL000226.1, GL000210.1, GL000217.1, GL000228.1, GL000230.1, GL000218.1\n",
      "  - in 'y': M\n",
      "  Make sure to always combine/compare objects based on the same reference\n",
      "  genome (use suppressWarnings() to suppress this warning).”\n",
      "\n",
      "### DELs >= min.svlen AND filtered by the exclusion list ###\n",
      "\n",
      "# lumpy\n",
      "\n",
      "n = 0\n",
      "\n"
     ]
    },
    {
     "name": "stdout",
     "output_type": "stream",
     "text": [
      "   Min. 1st Qu.  Median    Mean 3rd Qu.    Max. \n",
      "                                                \n"
     ]
    },
    {
     "name": "stderr",
     "output_type": "stream",
     "text": [
      "Warning message in .Seqinfo.mergexy(x, y):\n",
      "“Each of the 2 combined objects has sequence levels not in the other:\n",
      "  - in 'x': MT, GL000207.1, GL000220.1, GL000199.1, GL000216.1, GL000205.1, GL000195.1, GL000193.1, GL000235.1, GL000234.1, GL000232.1, GL000192.1, GL000229.1, GL000231.1, GL000211.1, GL000212.1, GL000222.1, GL000198.1, GL000237.1, GL000201.1, GL000241.1, GL000203.1, GL000226.1, GL000210.1, GL000228.1, GL000230.1, GL000218.1\n",
      "  - in 'y': GL383561.2, JH636052.4, JH806585.1, KE332502.1, NT_113885.1, NT_113901.1, NT_113916.2, NT_113923.1, NT_113930.1, NT_113961.1, NT_167212.1, NT_167213.1, NT_167214.1, NT_167225.1, NT_167226.1, NT_167229.1, NT_167230.1, NT_167234.1, NW_003315903.1, NW_003315911.1, NW_003315912.1, NW_003315923.1, NW_003315924.1, NW_003315925.1, NW_003315926.1, NW_003315932.1, NW_003315937.1, NW_003315947.1, NW_003315948.2, NW_003315949.1, NW_003315950.2, NW_003315968.1, NW_003571030.1, NW_003571034.1, NW_003571035.1, NW_003571040.1, NW_003571042.1, NW_003571046.1, NW_003571048.1, NW_003571051.1, NW_003571064.2, NW_003871055.3, NW_003871056.3, NW_003871060.1, NW_003871064.1, NW_003871068.1, NW_003871087.1, NW_003871088.1, NW_003871089.1, NW_003871094.1, NW_003871095.1, NW_003871100.1, NW_003871103.3, NW_004070863.1, NW_004070865.1, NW_004070866.1, NW_004070867.1, NW_004070869.1, NW_004070870.1, NW_004070871.1, NW_004070872.2, NW_004070877.1, NW_004070880.2, NW_004070881.1, NW_004070885.1, NW_004070887.1, NW_004070888.1, NW_004070889.1, NW_004070890.2, NW_004070891.1, NW_004166863.1, NW_004166865.1, NW_004504300.1, NW_004504301.1, NW_004504304.1, NW_004775427.1, NW_004775429.1, NW_004775432.1, NW_004775433.1, NW_004775434.1\n",
      "  Make sure to always combine/compare objects based on the same reference\n",
      "  genome (use suppressWarnings() to suppress this warning).”\n",
      "Warning message in .Seqinfo.mergexy(x, y):\n",
      "“Each of the 2 combined objects has sequence levels not in the other:\n",
      "  - in 'x': MT, GL000207.1, GL000220.1, GL000199.1, GL000216.1, GL000205.1, GL000195.1, GL000193.1, GL000235.1, GL000234.1, GL000232.1, GL000192.1, GL000229.1, GL000231.1, GL000211.1, GL000212.1, GL000222.1, GL000198.1, GL000237.1, GL000201.1, GL000241.1, GL000203.1, GL000226.1, GL000210.1, GL000228.1, GL000230.1, GL000218.1\n",
      "  - in 'y': GL383561.2, JH636052.4, JH806585.1, KE332502.1, NT_113885.1, NT_113901.1, NT_113916.2, NT_113923.1, NT_113930.1, NT_113961.1, NT_167212.1, NT_167213.1, NT_167214.1, NT_167225.1, NT_167226.1, NT_167229.1, NT_167230.1, NT_167234.1, NW_003315903.1, NW_003315911.1, NW_003315912.1, NW_003315923.1, NW_003315924.1, NW_003315925.1, NW_003315926.1, NW_003315932.1, NW_003315937.1, NW_003315947.1, NW_003315948.2, NW_003315949.1, NW_003315950.2, NW_003315968.1, NW_003571030.1, NW_003571034.1, NW_003571035.1, NW_003571040.1, NW_003571042.1, NW_003571046.1, NW_003571048.1, NW_003571051.1, NW_003571064.2, NW_003871055.3, NW_003871056.3, NW_003871060.1, NW_003871064.1, NW_003871068.1, NW_003871087.1, NW_003871088.1, NW_003871089.1, NW_003871094.1, NW_003871095.1, NW_003871100.1, NW_003871103.3, NW_004070863.1, NW_004070865.1, NW_004070866.1, NW_004070867.1, NW_004070869.1, NW_004070870.1, NW_004070871.1, NW_004070872.2, NW_004070877.1, NW_004070880.2, NW_004070881.1, NW_004070885.1, NW_004070887.1, NW_004070888.1, NW_004070889.1, NW_004070890.2, NW_004070891.1, NW_004166863.1, NW_004166865.1, NW_004504300.1, NW_004504301.1, NW_004504304.1, NW_004775427.1, NW_004775429.1, NW_004775432.1, NW_004775433.1, NW_004775434.1\n",
      "  Make sure to always combine/compare objects based on the same reference\n",
      "  genome (use suppressWarnings() to suppress this warning).”\n"
     ]
    },
    {
     "name": "stdout",
     "output_type": "stream",
     "text": [
      "[1] \"../../CHM1_CHM13/out/3/S3/gridss_out/gridss.vcf\"\n"
     ]
    },
    {
     "name": "stderr",
     "output_type": "stream",
     "text": [
      "Warning message in .breakpointRanges(x, ...):\n",
      "“Removing 49 unpaired breakend variants gridss0_9843h, gridss0_10086h, gridss6_9953h, gridss9_20110o, gridss39_11175o, gridss41_8679o, gridss42_16285h, gridss51_7123h, gridss56_7698h, gridss56_14956o, gridss61_3401o, gridss64_7036o, gridss70_9642h, gridss90_2640h, gridss97_7400h, gridss101_10840o, gridss103_5566h, gridss109_14305h, gridss114_8848o, gridss115_4584o, gridss115_11920h, gridss121_6414h, gridss135_9803o, gridss139_7771o, gridss143_11642h, gridss144_6557o, gridss159_7572h, gridss168_7686h, gridss171_7829o, gridss190_8194h, gridss198_6243h, gridss207_10180h, gridss210_9962h, gridss211_5696h, gridss226_3026o, gridss234_6764o, gridss243_9621o, gridss244_9373h, gridss249_6883o, gridss260_1533h, gridss262_9526o, gridss274_867o, gridss275_7185o, gridss278_3489o, gridss296_5764h, gridss301_2590o, gridss305_1185o, gridss310_1083o, gridss317_12426o”\n",
      "\n",
      "### All DELs ###\n",
      "\n",
      "# gridss\n",
      "\n",
      "n = 8502\n",
      "\n"
     ]
    },
    {
     "name": "stdout",
     "output_type": "stream",
     "text": [
      "      Min.    1st Qu.     Median       Mean    3rd Qu.       Max. \n",
      "-122193018       -339       -157     -78092        -43        -17 \n"
     ]
    },
    {
     "name": "stderr",
     "output_type": "stream",
     "text": [
      "\n",
      "### DELs svLen != NA ###\n",
      "\n",
      "# gridss\n",
      "\n",
      "n = 8502\n",
      "\n"
     ]
    },
    {
     "name": "stdout",
     "output_type": "stream",
     "text": [
      "      Min.    1st Qu.     Median       Mean    3rd Qu.       Max. \n",
      "-122193018       -339       -157     -78092        -43        -17 \n"
     ]
    },
    {
     "name": "stderr",
     "output_type": "stream",
     "text": [
      "\n",
      "### DELs svLen >= min.svLen ###\n",
      "\n",
      "# gridss\n",
      "\n",
      "n = 8502\n",
      "\n"
     ]
    },
    {
     "name": "stdout",
     "output_type": "stream",
     "text": [
      "      Min.    1st Qu.     Median       Mean    3rd Qu.       Max. \n",
      "-122193018       -339       -157     -78092        -43        -17 \n"
     ]
    },
    {
     "name": "stderr",
     "output_type": "stream",
     "text": [
      "Warning message in .Seqinfo.mergexy(x, y):\n",
      "“Each of the 2 combined objects has sequence levels not in the other:\n",
      "  - in 'x': MT, GL000207.1, GL000226.1, GL000229.1, GL000231.1, GL000210.1, GL000239.1, GL000235.1, GL000201.1, GL000247.1, GL000245.1, GL000197.1, GL000203.1, GL000246.1, GL000249.1, GL000196.1, GL000248.1, GL000244.1, GL000238.1, GL000202.1, GL000234.1, GL000232.1, GL000206.1, GL000240.1, GL000236.1, GL000241.1, GL000243.1, GL000242.1, GL000230.1, GL000237.1, GL000233.1, GL000204.1, GL000198.1, GL000208.1, GL000191.1, GL000227.1, GL000228.1, GL000214.1, GL000221.1, GL000209.1, GL000218.1, GL000220.1, GL000213.1, GL000211.1, GL000199.1, GL000217.1, GL000216.1, GL000215.1, GL000205.1, GL000219.1, GL000224.1, GL000223.1, GL000195.1, GL000212.1, GL000222.1, GL000200.1, GL000193.1, GL000194.1, GL000225.1, GL000192.1, NC_007605\n",
      "  - in 'y': M\n",
      "  Make sure to always combine/compare objects based on the same reference\n",
      "  genome (use suppressWarnings() to suppress this warning).”\n",
      "Warning message in .Seqinfo.mergexy(x, y):\n",
      "“Each of the 2 combined objects has sequence levels not in the other:\n",
      "  - in 'x': MT, GL000207.1, GL000226.1, GL000229.1, GL000231.1, GL000210.1, GL000239.1, GL000235.1, GL000201.1, GL000247.1, GL000245.1, GL000197.1, GL000203.1, GL000246.1, GL000249.1, GL000196.1, GL000248.1, GL000244.1, GL000238.1, GL000202.1, GL000234.1, GL000232.1, GL000206.1, GL000240.1, GL000236.1, GL000241.1, GL000243.1, GL000242.1, GL000230.1, GL000237.1, GL000233.1, GL000204.1, GL000198.1, GL000208.1, GL000191.1, GL000227.1, GL000228.1, GL000214.1, GL000221.1, GL000209.1, GL000218.1, GL000220.1, GL000213.1, GL000211.1, GL000199.1, GL000217.1, GL000216.1, GL000215.1, GL000205.1, GL000219.1, GL000224.1, GL000223.1, GL000195.1, GL000212.1, GL000222.1, GL000200.1, GL000193.1, GL000194.1, GL000225.1, GL000192.1, NC_007605\n",
      "  - in 'y': M\n",
      "  Make sure to always combine/compare objects based on the same reference\n",
      "  genome (use suppressWarnings() to suppress this warning).”\n",
      "\n",
      "### DELs >= min.svlen AND filtered by the exclusion list ###\n",
      "\n",
      "# gridss\n",
      "\n",
      "n = 8372\n",
      "\n"
     ]
    },
    {
     "name": "stdout",
     "output_type": "stream",
     "text": [
      "      Min.    1st Qu.     Median       Mean    3rd Qu.       Max. \n",
      "-122193018       -338       -154     -79180        -42        -17 \n"
     ]
    },
    {
     "name": "stderr",
     "output_type": "stream",
     "text": [
      "Warning message in .Seqinfo.mergexy(x, y):\n",
      "“Each of the 2 combined objects has sequence levels not in the other:\n",
      "  - in 'x': MT, GL000207.1, GL000226.1, GL000229.1, GL000231.1, GL000210.1, GL000239.1, GL000235.1, GL000201.1, GL000247.1, GL000245.1, GL000197.1, GL000203.1, GL000246.1, GL000249.1, GL000196.1, GL000248.1, GL000244.1, GL000238.1, GL000202.1, GL000234.1, GL000232.1, GL000206.1, GL000240.1, GL000236.1, GL000241.1, GL000243.1, GL000242.1, GL000230.1, GL000237.1, GL000204.1, GL000198.1, GL000191.1, GL000227.1, GL000228.1, GL000221.1, GL000209.1, GL000218.1, GL000220.1, GL000213.1, GL000211.1, GL000199.1, GL000216.1, GL000215.1, GL000205.1, GL000223.1, GL000195.1, GL000212.1, GL000222.1, GL000200.1, GL000193.1, GL000192.1, NC_007605\n",
      "  - in 'y': GL383561.2, JH636052.4, JH806585.1, KE332502.1, NT_113885.1, NT_113901.1, NT_113916.2, NT_113923.1, NT_113930.1, NT_113961.1, NT_167212.1, NT_167213.1, NT_167214.1, NT_167225.1, NT_167226.1, NT_167229.1, NT_167230.1, NT_167234.1, NW_003315903.1, NW_003315911.1, NW_003315912.1, NW_003315923.1, NW_003315924.1, NW_003315925.1, NW_003315926.1, NW_003315932.1, NW_003315937.1, NW_003315947.1, NW_003315948.2, NW_003315949.1, NW_003315950.2, NW_003315968.1, NW_003571030.1, NW_003571034.1, NW_003571035.1, NW_003571040.1, NW_003571042.1, NW_003571046.1, NW_003571048.1, NW_003571051.1, NW_003571064.2, NW_003871055.3, NW_003871056.3, NW_003871060.1, NW_003871064.1, NW_003871068.1, NW_003871087.1, NW_003871088.1, NW_003871089.1, NW_003871094.1, NW_003871095.1, NW_003871100.1, NW_003871103.3, NW_004070863.1, NW_004070865.1, NW_004070866.1, NW_004070867.1, NW_004070869.1, NW_004070870.1, NW_004070871.1, NW_004070872.2, NW_004070877.1, NW_004070880.2, NW_004070881.1, NW_004070885.1, NW_004070887.1, NW_004070888.1, NW_004070889.1, NW_004070890.2, NW_004070891.1, NW_004166863.1, NW_004166865.1, NW_004504300.1, NW_004504301.1, NW_004504304.1, NW_004775427.1, NW_004775429.1, NW_004775432.1, NW_004775433.1, NW_004775434.1\n",
      "  Make sure to always combine/compare objects based on the same reference\n",
      "  genome (use suppressWarnings() to suppress this warning).”\n",
      "Warning message in .Seqinfo.mergexy(x, y):\n",
      "“Each of the 2 combined objects has sequence levels not in the other:\n",
      "  - in 'x': MT, GL000207.1, GL000226.1, GL000229.1, GL000231.1, GL000210.1, GL000239.1, GL000235.1, GL000201.1, GL000247.1, GL000245.1, GL000197.1, GL000203.1, GL000246.1, GL000249.1, GL000196.1, GL000248.1, GL000244.1, GL000238.1, GL000202.1, GL000234.1, GL000232.1, GL000206.1, GL000240.1, GL000236.1, GL000241.1, GL000243.1, GL000242.1, GL000230.1, GL000237.1, GL000204.1, GL000198.1, GL000191.1, GL000227.1, GL000228.1, GL000221.1, GL000209.1, GL000218.1, GL000220.1, GL000213.1, GL000211.1, GL000199.1, GL000216.1, GL000215.1, GL000205.1, GL000223.1, GL000195.1, GL000212.1, GL000222.1, GL000200.1, GL000193.1, GL000192.1, NC_007605\n",
      "  - in 'y': GL383561.2, JH636052.4, JH806585.1, KE332502.1, NT_113885.1, NT_113901.1, NT_113916.2, NT_113923.1, NT_113930.1, NT_113961.1, NT_167212.1, NT_167213.1, NT_167214.1, NT_167225.1, NT_167226.1, NT_167229.1, NT_167230.1, NT_167234.1, NW_003315903.1, NW_003315911.1, NW_003315912.1, NW_003315923.1, NW_003315924.1, NW_003315925.1, NW_003315926.1, NW_003315932.1, NW_003315937.1, NW_003315947.1, NW_003315948.2, NW_003315949.1, NW_003315950.2, NW_003315968.1, NW_003571030.1, NW_003571034.1, NW_003571035.1, NW_003571040.1, NW_003571042.1, NW_003571046.1, NW_003571048.1, NW_003571051.1, NW_003571064.2, NW_003871055.3, NW_003871056.3, NW_003871060.1, NW_003871064.1, NW_003871068.1, NW_003871087.1, NW_003871088.1, NW_003871089.1, NW_003871094.1, NW_003871095.1, NW_003871100.1, NW_003871103.3, NW_004070863.1, NW_004070865.1, NW_004070866.1, NW_004070867.1, NW_004070869.1, NW_004070870.1, NW_004070871.1, NW_004070872.2, NW_004070877.1, NW_004070880.2, NW_004070881.1, NW_004070885.1, NW_004070887.1, NW_004070888.1, NW_004070889.1, NW_004070890.2, NW_004070891.1, NW_004166863.1, NW_004166865.1, NW_004504300.1, NW_004504301.1, NW_004504304.1, NW_004775427.1, NW_004775429.1, NW_004775432.1, NW_004775433.1, NW_004775434.1\n",
      "  Make sure to always combine/compare objects based on the same reference\n",
      "  genome (use suppressWarnings() to suppress this warning).”\n"
     ]
    }
   ],
   "source": [
    "callers <- c('manta', 'delly', 'lumpy', 'gridss')\n",
    "hits.df <- data.frame(callset=character(), n=numeric(), tp=numeric(),\n",
    "                      fp=numeric(), precision=numeric(), recall=numeric())\n",
    "for (c in callers) {\n",
    "  vcf.file <- getVcf(sample, c)\n",
    "  vcf <- VariantAnnotation::readVcf(vcf.file)\n",
    "  # select only DELs\n",
    "  gr <- breakpointRanges(vcf)\n",
    "  gr$svtype <- getSvType(gr)\n",
    "  gr <- gr[gr$svtype == 'DEL']\n",
    "  message('\\n### All DELs ###')\n",
    "  message('# ', c)\n",
    "  message('n = ', length(gr))\n",
    "  print(summary(gr$svLen))\n",
    "\n",
    "  message('\\n### DELs svLen != NA ###')\n",
    "  gr <- gr[!is.na(gr$svLen)]\n",
    "  message('# ', c)\n",
    "  message('n = ', length(gr))\n",
    "  print(summary(gr$svLen))\n",
    "\n",
    "  gr <- gr[abs(gr$svLen) >= min.svLen]\n",
    "  message('\\n### DELs svLen >= min.svLen ###')\n",
    "  message('# ', c)\n",
    "  message('n = ', length(gr))\n",
    "  print(summary(gr$svLen))\n",
    "\n",
    "  gr <- excludeRegions(gr, excl.gr)\n",
    "  message('\\n### DELs >= min.svlen AND filtered by the exclusion list ###')\n",
    "  message('# ', c)\n",
    "  message('n = ', length(gr))\n",
    "  print(summary(gr$svLen))\n",
    "\n",
    "  hits <- getHits(gr, true.gr)\n",
    "  pm <- getPerfMetrics(c, hits, n.true)\n",
    "  hits.df <- rbind(hits.df, data.frame(pm))\n",
    "}"
   ]
  },
  {
   "cell_type": "markdown",
   "metadata": {},
   "source": [
    "### import merged callset from VCF file"
   ]
  },
  {
   "cell_type": "code",
   "execution_count": 15,
   "metadata": {},
   "outputs": [],
   "source": [
    "# fix: replace ':' by '_' in ID & SAMPLE fields\n",
    "vcf.infile <- file.path(base.dir, sample, 'out', '3', 'S3', 'all.vcf')\n",
    "vcf.outfile <- 'merge.vcf'\n",
    "cmd <- paste(\"awk '{if ($1 ~ /^#/){print} else {id=$3; gsub(\\\":\\\",\\\"_\\\",$3);\\\n",
    "             gsub(id,$3,$10); print}}'\", vcf.infile, '>', vcf.outfile)\n",
    "system(cmd)"
   ]
  },
  {
   "cell_type": "code",
   "execution_count": 16,
   "metadata": {},
   "outputs": [
    {
     "name": "stderr",
     "output_type": "stream",
     "text": [
      "Warning message in doTryCatch(return(expr), name, parentenv, handler):\n",
      "“record 2 sample CHM1_CHM13_2: fewer FORMAT fields than GENO fields”\n",
      "Warning message in .Seqinfo.mergexy(x, y):\n",
      "“Each of the 2 combined objects has sequence levels not in the other:\n",
      "  - in 'x': GL000191.1, GL000196.1, GL000197.1, GL000200.1, GL000202.1, GL000206.1, GL000209.1, GL000213.1, GL000223.1, GL000227.1, GL000236.1, GL000238.1, GL000239.1, GL000240.1, GL000242.1, GL000243.1, GL000244.1, GL000245.1, GL000246.1, GL000247.1, GL000248.1, GL000249.1, NC_007605\n",
      "  - in 'y': 1 532077 MantaDEL_13_0_0_0_0_0 ACATTCATGCTCACTCATACACACCCAGATCATATATACACTCGTGCACACATTCACACTCATACACACCCAAATCATACTCACATTCATGCACACATGTT A 327 PASS SUPP=1;SUPP_VEC=1000;SVLEN=-100;SVTYPE=DEL;SVMETHOD=SURVIVOR1.0.6;CHR2=1;END=532177;CIPOS=0,0;CIEND=0,0;STRANDS=+- GT:PSV:LN:DR:ST:QV:TY:ID:RAL:AAL:CO 0/1:NA:100:26,15:+-:327:DEL:MantaDEL_13_0_0_0_0_0:ACATTCATGCTCACTCATACACACCCAGATCATATATACACTCGTGCACACATTCACACTCATACACACCCAAATCATACTCACATTCATGCACACATGTT:A:1_532077-1_532177 ./.:NaN:0:0,0:--:NaN:NaN:NaN:NAN:NAN:NAN ./.:NaN:0:0,0:--:NaN:NaN:NaN:NAN:NAN:NAN ./.:NaN:0:0,0:--:NaN:NaN:NaN:NAN:NAN:NAN, 1 826137 MantaDEL_16_22_33_0_3_0 G <DEL> 999 PASS SUPP=1;SUPP_VEC=1000;SVLEN=-3;SVTYPE=DEL;SVMETHOD=SURVIVOR1.0.6;CHR2=1;END=5727343;CIPOS=0,0;CIEND=0,0;STRANDS=+- GT:PSV:LN:DR:ST:QV:TY:ID:RAL:AAL:CO 0/1:NA:3:141,64:+-:999:DEL:MantaDEL_16_22_33_0_3_0:NA:NA:1_826137-1_5727343 ./.:NaN:0:0,0:--:NaN:NaN:NaN:NAN:NAN:NAN ./.:NaN:0:0,0:--:NaN:NaN:NaN:NAN:NAN:NAN ./.:NaN:0:0,0:--:NaN:NaN:NaN:NAN:NAN:NAN, 1 1004127 MantaDUP_TANDEM_41_0_1_0_0_0 C <DUP:TANDEM> 188 PASS SUPP=1;SUPP_VEC=1000;SVLEN=78;SVTYPE=DUP;SVMETHOD=SURVIVOR1.0.6;CHR2=1;END=1004205;CIPOS=0,0;CIEND=0,0;STRANDS=-+ GT:PSV:LN:DR:ST:QV:TY:ID:RAL:AAL:CO 0/1:NA:78:33,15:-+:188:DUP:MantaDUP_TANDEM_41_0_1_0_0_0:NA:NA:1_1004127-1_1004205 ./.:NaN:0:0,0:--:NaN:NaN:NaN:NAN:NAN:NAN ./.:NaN:0:0,0:--:NaN:NaN:NaN:NAN:NAN:NAN ./.:NaN:0:0,0:--:NaN:NaN:NaN:NAN:NAN:NAN, 1 1649522 MantaDEL_186_0_0_0_8_0 CACGCTTTCAGCTAGAGTTTGCTCTTTCTGGTTTTCGGTCTGTGACACACGCA CG 197 PASS SUPP=1;SUPP_VEC=1000;SVLEN=-52;SVTYPE=DEL;SVMETHOD=SURVIVOR1.0.6;CHR2=1;END=1649574;CIPOS=0,0;CIEND=0,0;STRANDS=+- GT:PSV:LN:DR:ST:QV:TY:ID:RAL:AAL:CO 0/1:NA:52:50,16:+-:197:DEL:MantaDEL_186_0_0_0_8_0:CACGCTTTCAGCTAGAGTTTGCTCTTTCTGGTTTTCGGTCTGTGACACACGCA:CG:1_1649522-1_1649574 ./.:NaN:0:0,0:--:NaN:NaN:NaN:NAN:NAN:NAN ./.:NaN:0:0,0:--:NaN:NaN:NaN:NAN:NAN:NAN ./.:NaN:0:0,0:--:NaN:NaN:NaN:NAN:NAN:NAN, 1 1649490 MantaDEL_185_0_0_0_0_0 CTATAGCCCTTCTGAATGGTCTGTGACACACGCACGCTTTCAGCTAGAGTTTGCTCTTTCTGGTTTTCGGTCTGTGACACACGCATGCTTTCAGCTAGAGTTTGCTCTCTCTGGTTTTCGGTCTGTGACACACGCATGCTTTCAGCTAGGGTATTCTCTCTATAGCCCTTCTGAATGGTCTGTGACACACGCATGCTTTCAGGTGGAGTTTGCTCTCTCTGGTTTTCGGTCTGTGACACACGCATGCTTTCAGCTAGAGTATTCTCTCT C 205 PASS SUPP=1;SUPP_VEC=1000;SVLEN=-268;SVTYPE=DEL;SVMETHOD=SURVIVOR1.0.6;CHR2=1;END=1649758;CIPOS=0,0;CIEND=0,0;STRANDS=+- GT:PSV:LN:DR:ST:QV:TY:ID:RAL:AAL:CO 0/1:NA:268:92,22:+-:205:DEL:MantaDEL_185_0_0_0_0_0:CTATAGCCCTTCTGAATGGTCTGTGACACACGCACGCTTTCAGCTAGAGTTTGCTCTTTCTGGTTTTCGGTCTGTGACACACGCATGCTTTCAGCTAGAGTTTGCTCTCTCTGGTTTTCGGTCTGTGACACACGCATGCTTTCAGCTAGGGTATTCTCTCTATAGCCCTTCTGAATGGTCTGTGACACACGCATGCTTTCAGGTGGAGTTTGCTCTCTCTGGTTTTCGGTCTGTGACACACGCATGCTTTCAGCTAGAGTATTCTCTCT:C:1_1649490-1_1649758 ./.:NaN:0:0,0:--:NaN:NaN:NaN:NAN:NAN:NAN ./.:NaN:0:0,0:--:NaN:NaN:NaN:NAN:NAN:NAN ./.:NaN:0:0,0:--:NaN:NaN:NaN:NAN:NAN:NAN, 1 1650550 MantaDEL_186_1_1_2_1_0 GTTTGCTCTCTATAGCCCCTCTGAATGGTCTGTGACACATGCATGCTTTCAGC G 116 PASS SUPP=1;SUPP_VEC=1000;SVLEN=-52;SVTYPE=DEL;SVMETHOD=SURVIVOR1.0.6;CHR2=1;END=1650602;CIPOS=0,0;CIEND=0,0;STRANDS=+- GT:PSV:LN:DR:ST:QV:TY:ID:RAL:AAL:CO 0/1:NA:52:95,10:+-:116:DEL:MantaDEL_186_1_1_2_1_0:GTTTGCTCTCTATAGCCCCTCTGAATGGTCTGTGACACATGCATGCTTTCAGC:G:1_1650550-1_1650602 ./.:NaN:0:0,0:--:NaN:NaN:NaN:NAN:NAN:NAN ./.:NaN:0:0,0:--:NaN:NaN:NaN:NAN:NAN:NAN ./.:NaN:0:0,0:--:NaN:NaN:NaN:NAN:NAN:NAN, 1 1880373 MantaINS_128_0_0_0_2_0 T TCCCTCCCTTCTTTCCTTCCCTTTCCCTCCCTCCCTTCCTTCCTCTTTCCTTCCTTCCTTTCCCTCCCTTACTCCTTCCTTCCTTCCCTTCCCCTTCCTTCTTCCTTCTCTC 245 PASS SUPP=1;SUPP_VEC=1000;SVLEN=111;SVTYPE=INS;SVMETHOD=SURVIVOR1.0.6;CHR2=1;END=1880373;CIPOS=0,0;CIEND=0,0;STRANDS=+- GT:PSV:LN:DR:ST:QV:TY:ID:RAL:AAL:CO 0/1:NA:111:0,23:+-:245:INS:MantaINS_128_0_0_0_2_0:T:TCCCTCCCTTCTTTCCTTCCCTTTCCCTCCCTCCCTTCCTTCCTCTTTCCTTCCTTCCTTTCCCTCCCTTACTCCTTCCTTCCTTCCCTTCCCCTTCCTTCTTCCTTCTCTC:1_1880373-1_1880373 ./.:NaN:0:0,0:--:NaN:NaN:NaN:NAN:NAN:NAN ./.:NaN:0:0,0:--:NaN:NaN:NaN:NAN:NAN:NAN ./.:NaN:0:0,0:--:NaN:NaN:NaN:NAN:NAN:NAN, 1 2143092 4 N <DUP> 674 PASS SUPP=4;SUPP_VEC=1111;SVLEN=261;SVTYPE=DUP;SVMETHOD=SURVIVOR1.0.6;CHR2=1;END=2143633;CIPOS=0,85;CIEND=-7,1;STRANDS=-+ GT:PSV:LN:DR:ST:QV:TY:ID:RAL:AAL:CO 0/1:NA:458:102,32:-+:306:DUP:MantaDUP:TANDEM:125:0:1:0:0:0:NA:NA:1_2143168-1_2143626 0/1:NA:36:65,43:-+:.:DUP:DUP00000019:NA:NA:1_2143169-1_2143626 ./.:NA:541:0,18:-+:.:DUP:4:NA:NA:1_2143092-1_2143633 .:1:NA:8:0,0:++:674:INV:gridss0_16961o:NA:NA:1_2143177-1_2143634, 1 2367908 MantaDEL_168_0_0_0_0_0 TCCTTCCTCCCTCCTCCCCTCCTCCCTCCTCCTCCTTTCCTCCTTCCTCCCTCCTCCTTTCCTCCTTCCTCCCTCCTC T 153 PASS SUPP=1;SUPP_VEC=1000;SVLEN=-77;SVTYPE=DEL;SVMETHOD=SURVIVOR1.0.6;CHR2=1;END=2367985;CIPOS=0,0;CIEND=0,0;STRANDS=+- GT:PSV:LN:DR:ST:QV:TY:ID:RAL:AAL:CO 0/1:NA:77:0,13:+-:153:DEL:MantaDEL_168_0_0_0_0_0:TCCTTCCTCCCTCCTCCCCTCCTCCCTCCTCCTCCTTTCCTCCTTCCTCCCTCCTCCTTTCCTCCTTCCTCCCTCCTC:T:1_2367908-1_2367985 ./.:NaN:0:0,0:--:NaN:NaN:NaN:NAN:NAN:NAN ./.:NaN:0:0,0:--:NaN:NaN:NaN:NAN:NAN:NAN ./.:NaN:0:0,0:--:NaN:NaN:NaN:NAN:NAN:NAN, 1 2942602 MantaDEL_1_902_902_0_8_0 GTGGTGTTGATGGTGATGGTGATGAATACAGTGATGGTGGTGATGATGGTGAGGATGATGATGATGGTGGTGATGA G 562 PASS SUPP=1;SUPP_VEC=1000;SVLEN=-75;SVTYPE=DEL;SVMETHOD=SURVIVOR1.0.6;CHR2=1;END=2942677;CIPOS=0,0;CIEND=0,0;STRANDS=+- GT:PSV:LN:DR:ST:QV:TY:ID:RAL:AAL:CO 0/1:NA:75:11,20:+-:562:DEL:MantaDEL_1_902_902_0_8_0:GTGGTGTTGATGGTGATGGTGATGAATACAGTGATGGTGGTGATGATGGTGAGGATGATGATGATGGTGGTGATGA:G:1_2942602-1_2942677 ./.:NaN:0:0,0:--:NaN:NaN:NaN:NAN:NAN:NAN ./.:NaN:0:0,0:--:NaN:NaN:NaN:NAN:NAN:NAN ./.:NaN:0:0,0:--:NaN:NaN:NaN:NAN:NAN:NAN, 1 3097910 MantaDEL_211_0_0_0_1_2 ACGGTCTTACACACGGTCTTACACACGCAGTCTTACACACGGCCTTACGCATGGTCTTACACAC AA 871 PASS SUPP=1;SUPP_VEC=1000;SVLEN=-63;SVTYPE=DEL;SVMETHOD=SURVIVOR1.0.6;CHR2=1;END=3097973;CIPOS=0,0;CIEND=0,0;STRANDS=+- GT:PSV:LN:DR:ST:QV:TY:ID:RAL:AAL:CO 1/1:NA:63:6,24:+-:871:DEL:MantaDEL_211_0_0_0_1_2:ACGGTCTTACACACGGTCTTACACACGCAGTCTTACACACGGCCTTACGCATGGTCTTACACAC:AA:1_3097910-1_3097973 ./.:NaN:0:0,0:--:NaN:NaN:NaN:NAN:NAN:NAN ./.:NaN:0:0,0:--:NaN:NaN:NaN:NAN:NAN:NAN ./.:NaN:0:0,0:--:NaN:NaN:NaN:NAN:NAN:NAN, 1 3177306 MantaINS_1_905_905_0_7_0 A <INS> 999 PASS SUPP=1;SUPP_VEC=1000;SVLEN=5;SVTYPE=INS;SVMETHOD=SURVIVOR1.0.6;CHR2=1;END=3177306;CIPOS=0,0;CIEND=0,0;STRANDS=+- GT:PSV:LN:DR:ST:QV:TY:ID:RAL:AAL:CO 1/1:NA:5:0,53:+-:999:INS:MantaINS_1_905_905_0_7_0:NA:NA:1_3177306-1_3177306 ./.:NaN:0:0,0:--:NaN:NaN:NaN:NAN:NAN:NAN ./.:NaN:0:0,0:--:NaN:NaN:NaN:NAN:NAN:NAN ./.:NaN:0:0,0:--:NaN:NaN:NaN:NAN:NAN:NAN, 1 3785228 MantaINS_260_0_0_0_0_0 A ACCACACCAGGCCACGCCACACCAAGCCACACCACACCAGGCCACACCACACCAGGCCACACCACACCATACCACACCACACCAGGCCACACCACACCAGGCCACACCACACCACGCCACACCACACCACGCCACACCACACCAGG 999 PASS SUPP=1;SUPP_VEC=1000;SVLEN=145;SVTYPE=INS;SVMETHOD=SURVIVOR1.0.6;CHR2=1;END=3785228;CIPOS=0,0;CIEND=0,0;STRANDS=+- GT:PSV:LN:DR:ST:QV:TY:ID:RAL:AAL:CO 1/1:NA:145:0,41:+-:999:INS:MantaINS_260_0_0_0_0_0:A:ACCACACCAGGCCACGCCACACCAAGCCACACCACACCAGGCCACACCACACCAGGCCACACCACACCATACCACACCACACCAGGCCACACCACACCAGGCCACACCACACCACGCCACACCACACCACGCCACACCACACCAGG:1_3785228-1_3785228 ./.:NaN:0:0,0:--:NaN:NaN:NaN:NAN:NAN:NAN ./.:NaN:0:0,0:--:NaN:NaN:NaN:NAN:NAN:NAN ./.:NaN:0:0,0:--:NaN:NaN:NaN:NAN:NAN:NAN, 1 4059835 MantaDEL_273_0_0_0_0_0 ATACGCCACAGAGAGGGGAGGGGGCCACACTGCCGACGGGGCAGGCCTGGAGTTGCAGGACGTGTCACAGAGAGAGGAAGGGGCCACACTGCTGACGGGGCGGGCCTGGAGTTGCAGGACA ACG 584 PASS SUPP=1;SUPP_VEC=1000;SVLEN=-120;SVTYPE=DEL;SVMETHOD=SURVIVOR1.0.6;CHR2=1;END=4059955;CIPOS=0,0;CIEND=0,0;STRANDS=+- GT:PSV:LN:DR:ST:QV:TY:ID:RAL:AAL:CO 0/1:NA:120:6,32:+-:584:DEL:MantaDEL_273_0_0_0_0_0:ATACGCCACAGAGAGGGGAGGGGGCCACACTGCCGACGGGGCAGGCCTGGAGTTGCAGGACGTGTCACAGAGAGAGGAAGGGGCCACACTGCTGACGGGGCGGGCCTGGAGTTGCAGGACA:ACG:1_4059835-1_4059955 ./.:NaN:0:0,0:--:NaN:NaN:NaN:NAN:NAN:NAN ./.:NaN:0:0,0:--:NaN:NaN:NaN:NAN:NAN:NAN ./.:NaN:0:0,0:--:NaN:NaN:NaN:NAN:NAN:NAN, 1 4396558 MantaINS_1_918_918_0_9_0 C <INS> 999 PASS SUPP=1;SUPP_VEC=1”\n"
     ]
    }
   ],
   "source": [
    "vcf <- VariantAnnotation::readVcf(vcf.outfile)\n",
    "# fix: INFO/CI{END,POS} types: String->Integer\n",
    "info(header(vcf))$Type[1:2] <- c(\"Integer\", \"Integer\")\n",
    "vcf <- vcf[which(info(vcf)$SVTYPE == 'DEL')]  # keep only deletions\n",
    "vcf <- vcf[which(as.integer(info(vcf)$SUPP) >= min.supp, TRUE)]  # filter calls by support or\n",
    "#vcf <- vcf[which(info(vcf)$SUPP_VEC == '1101', TRUE)]           # binary vector (MDLG)\n",
    "# fix: CI{POS,END}} type: CharacterList->IntegerList\n",
    "info(vcf)$CIPOS <- IntegerList(info(vcf)$CIPOS)\n",
    "info(vcf)$CIEND <- IntegerList(info(vcf)$CIEND)"
   ]
  },
  {
   "cell_type": "markdown",
   "metadata": {},
   "source": [
    "### evaluate SV break-points"
   ]
  },
  {
   "cell_type": "code",
   "execution_count": 17,
   "metadata": {},
   "outputs": [
    {
     "name": "stderr",
     "output_type": "stream",
     "text": [
      "Warning message in .Seqinfo.mergexy(x, y):\n",
      "“Each of the 2 combined objects has sequence levels not in the other:\n",
      "  - in 'x': GL000191.1, GL000192.1, GL000193.1, GL000194.1, GL000195.1, GL000196.1, GL000197.1, GL000198.1, GL000199.1, GL000200.1, GL000201.1, GL000202.1, GL000203.1, GL000204.1, GL000205.1, GL000206.1, GL000207.1, GL000208.1, GL000209.1, GL000210.1, GL000211.1, GL000212.1, GL000213.1, GL000214.1, GL000215.1, GL000216.1, GL000217.1, GL000218.1, GL000219.1, GL000220.1, GL000221.1, GL000222.1, GL000223.1, GL000224.1, GL000225.1, GL000226.1, GL000227.1, GL000228.1, GL000229.1, GL000230.1, GL000231.1, GL000232.1, GL000233.1, GL000234.1, GL000235.1, GL000236.1, GL000237.1, GL000238.1, GL000239.1, GL000240.1, GL000241.1, GL000242.1, GL000243.1, GL000244.1, GL000245.1, GL000246.1, GL000247.1, GL000248.1, GL000249.1, MT, NC_007605, 1 532077 MantaDEL_13_0_0_0_0_0 ACATTCATGCTCACTCATACACACCCAGATCATATATACACTCGTGCACACATTCACACTCATACACACCCAAATCATACTCACATTCATGCACACATGTT A 327 PASS SUPP=1;SUPP_VEC=1000;SVLEN=-100;SVTYPE=DEL;SVMETHOD=SURVIVOR1.0.6;CHR2=1;END=532177;CIPOS=0,0;CIEND=0,0;STRANDS=+- GT:PSV:LN:DR:ST:QV:TY:ID:RAL:AAL:CO 0/1:NA:100:26,15:+-:327:DEL:MantaDEL_13_0_0_0_0_0:ACATTCATGCTCACTCATACACACCCAGATCATATATACACTCGTGCACACATTCACACTCATACACACCCAAATCATACTCACATTCATGCACACATGTT:A:1_532077-1_532177 ./.:NaN:0:0,0:--:NaN:NaN:NaN:NAN:NAN:NAN ./.:NaN:0:0,0:--:NaN:NaN:NaN:NAN:NAN:NAN ./.:NaN:0:0,0:--:NaN:NaN:NaN:NAN:NAN:NAN, 1 826137 MantaDEL_16_22_33_0_3_0 G <DEL> 999 PASS SUPP=1;SUPP_VEC=1000;SVLEN=-3;SVTYPE=DEL;SVMETHOD=SURVIVOR1.0.6;CHR2=1;END=5727343;CIPOS=0,0;CIEND=0,0;STRANDS=+- GT:PSV:LN:DR:ST:QV:TY:ID:RAL:AAL:CO 0/1:NA:3:141,64:+-:999:DEL:MantaDEL_16_22_33_0_3_0:NA:NA:1_826137-1_5727343 ./.:NaN:0:0,0:--:NaN:NaN:NaN:NAN:NAN:NAN ./.:NaN:0:0,0:--:NaN:NaN:NaN:NAN:NAN:NAN ./.:NaN:0:0,0:--:NaN:NaN:NaN:NAN:NAN:NAN, 1 1004127 MantaDUP_TANDEM_41_0_1_0_0_0 C <DUP:TANDEM> 188 PASS SUPP=1;SUPP_VEC=1000;SVLEN=78;SVTYPE=DUP;SVMETHOD=SURVIVOR1.0.6;CHR2=1;END=1004205;CIPOS=0,0;CIEND=0,0;STRANDS=-+ GT:PSV:LN:DR:ST:QV:TY:ID:RAL:AAL:CO 0/1:NA:78:33,15:-+:188:DUP:MantaDUP_TANDEM_41_0_1_0_0_0:NA:NA:1_1004127-1_1004205 ./.:NaN:0:0,0:--:NaN:NaN:NaN:NAN:NAN:NAN ./.:NaN:0:0,0:--:NaN:NaN:NaN:NAN:NAN:NAN ./.:NaN:0:0,0:--:NaN:NaN:NaN:NAN:NAN:NAN, 1 1649522 MantaDEL_186_0_0_0_8_0 CACGCTTTCAGCTAGAGTTTGCTCTTTCTGGTTTTCGGTCTGTGACACACGCA CG 197 PASS SUPP=1;SUPP_VEC=1000;SVLEN=-52;SVTYPE=DEL;SVMETHOD=SURVIVOR1.0.6;CHR2=1;END=1649574;CIPOS=0,0;CIEND=0,0;STRANDS=+- GT:PSV:LN:DR:ST:QV:TY:ID:RAL:AAL:CO 0/1:NA:52:50,16:+-:197:DEL:MantaDEL_186_0_0_0_8_0:CACGCTTTCAGCTAGAGTTTGCTCTTTCTGGTTTTCGGTCTGTGACACACGCA:CG:1_1649522-1_1649574 ./.:NaN:0:0,0:--:NaN:NaN:NaN:NAN:NAN:NAN ./.:NaN:0:0,0:--:NaN:NaN:NaN:NAN:NAN:NAN ./.:NaN:0:0,0:--:NaN:NaN:NaN:NAN:NAN:NAN, 1 1649490 MantaDEL_185_0_0_0_0_0 CTATAGCCCTTCTGAATGGTCTGTGACACACGCACGCTTTCAGCTAGAGTTTGCTCTTTCTGGTTTTCGGTCTGTGACACACGCATGCTTTCAGCTAGAGTTTGCTCTCTCTGGTTTTCGGTCTGTGACACACGCATGCTTTCAGCTAGGGTATTCTCTCTATAGCCCTTCTGAATGGTCTGTGACACACGCATGCTTTCAGGTGGAGTTTGCTCTCTCTGGTTTTCGGTCTGTGACACACGCATGCTTTCAGCTAGAGTATTCTCTCT C 205 PASS SUPP=1;SUPP_VEC=1000;SVLEN=-268;SVTYPE=DEL;SVMETHOD=SURVIVOR1.0.6;CHR2=1;END=1649758;CIPOS=0,0;CIEND=0,0;STRANDS=+- GT:PSV:LN:DR:ST:QV:TY:ID:RAL:AAL:CO 0/1:NA:268:92,22:+-:205:DEL:MantaDEL_185_0_0_0_0_0:CTATAGCCCTTCTGAATGGTCTGTGACACACGCACGCTTTCAGCTAGAGTTTGCTCTTTCTGGTTTTCGGTCTGTGACACACGCATGCTTTCAGCTAGAGTTTGCTCTCTCTGGTTTTCGGTCTGTGACACACGCATGCTTTCAGCTAGGGTATTCTCTCTATAGCCCTTCTGAATGGTCTGTGACACACGCATGCTTTCAGGTGGAGTTTGCTCTCTCTGGTTTTCGGTCTGTGACACACGCATGCTTTCAGCTAGAGTATTCTCTCT:C:1_1649490-1_1649758 ./.:NaN:0:0,0:--:NaN:NaN:NaN:NAN:NAN:NAN ./.:NaN:0:0,0:--:NaN:NaN:NaN:NAN:NAN:NAN ./.:NaN:0:0,0:--:NaN:NaN:NaN:NAN:NAN:NAN, 1 1650550 MantaDEL_186_1_1_2_1_0 GTTTGCTCTCTATAGCCCCTCTGAATGGTCTGTGACACATGCATGCTTTCAGC G 116 PASS SUPP=1;SUPP_VEC=1000;SVLEN=-52;SVTYPE=DEL;SVMETHOD=SURVIVOR1.0.6;CHR2=1;END=1650602;CIPOS=0,0;CIEND=0,0;STRANDS=+- GT:PSV:LN:DR:ST:QV:TY:ID:RAL:AAL:CO 0/1:NA:52:95,10:+-:116:DEL:MantaDEL_186_1_1_2_1_0:GTTTGCTCTCTATAGCCCCTCTGAATGGTCTGTGACACATGCATGCTTTCAGC:G:1_1650550-1_1650602 ./.:NaN:0:0,0:--:NaN:NaN:NaN:NAN:NAN:NAN ./.:NaN:0:0,0:--:NaN:NaN:NaN:NAN:NAN:NAN ./.:NaN:0:0,0:--:NaN:NaN:NaN:NAN:NAN:NAN, 1 1880373 MantaINS_128_0_0_0_2_0 T TCCCTCCCTTCTTTCCTTCCCTTTCCCTCCCTCCCTTCCTTCCTCTTTCCTTCCTTCCTTTCCCTCCCTTACTCCTTCCTTCCTTCCCTTCCCCTTCCTTCTTCCTTCTCTC 245 PASS SUPP=1;SUPP_VEC=1000;SVLEN=111;SVTYPE=INS;SVMETHOD=SURVIVOR1.0.6;CHR2=1;END=1880373;CIPOS=0,0;CIEND=0,0;STRANDS=+- GT:PSV:LN:DR:ST:QV:TY:ID:RAL:AAL:CO 0/1:NA:111:0,23:+-:245:INS:MantaINS_128_0_0_0_2_0:T:TCCCTCCCTTCTTTCCTTCCCTTTCCCTCCCTCCCTTCCTTCCTCTTTCCTTCCTTCCTTTCCCTCCCTTACTCCTTCCTTCCTTCCCTTCCCCTTCCTTCTTCCTTCTCTC:1_1880373-1_1880373 ./.:NaN:0:0,0:--:NaN:NaN:NaN:NAN:NAN:NAN ./.:NaN:0:0,0:--:NaN:NaN:NaN:NAN:NAN:NAN ./.:NaN:0:0,0:--:NaN:NaN:NaN:NAN:NAN:NAN, 1 2143092 4 N <DUP> 674 PASS SUPP=4;SUPP_VEC=1111;SVLEN=261;SVTYPE=DUP;SVMETHOD=SURVIVOR1.0.6;CHR2=1;END=2143633;CIPOS=0,85;CIEND=-7,1;STRANDS=-+ GT:PSV:LN:DR:ST:QV:TY:ID:RAL:AAL:CO 0/1:NA:458:102,32:-+:306:DUP:MantaDUP:TANDEM:125:0:1:0:0:0:NA:NA:1_2143168-1_2143626 0/1:NA:36:65,43:-+:.:DUP:DUP00000019:NA:NA:1_2143169-1_2143626 ./.:NA:541:0,18:-+:.:DUP:4:NA:NA:1_2143092-1_2143633 .:1:NA:8:0,0:++:674:INV:gridss0_16961o:NA:NA:1_2143177-1_2143634, 1 2367908 MantaDEL_168_0_0_0_0_0 TCCTTCCTCCCTCCTCCCCTCCTCCCTCCTCCTCCTTTCCTCCTTCCTCCCTCCTCCTTTCCTCCTTCCTCCCTCCTC T 153 PASS SUPP=1;SUPP_VEC=1000;SVLEN=-77;SVTYPE=DEL;SVMETHOD=SURVIVOR1.0.6;CHR2=1;END=2367985;CIPOS=0,0;CIEND=0,0;STRANDS=+- GT:PSV:LN:DR:ST:QV:TY:ID:RAL:AAL:CO 0/1:NA:77:0,13:+-:153:DEL:MantaDEL_168_0_0_0_0_0:TCCTTCCTCCCTCCTCCCCTCCTCCCTCCTCCTCCTTTCCTCCTTCCTCCCTCCTCCTTTCCTCCTTCCTCCCTCCTC:T:1_2367908-1_2367985 ./.:NaN:0:0,0:--:NaN:NaN:NaN:NAN:NAN:NAN ./.:NaN:0:0,0:--:NaN:NaN:NaN:NAN:NAN:NAN ./.:NaN:0:0,0:--:NaN:NaN:NaN:NAN:NAN:NAN, 1 2942602 MantaDEL_1_902_902_0_8_0 GTGGTGTTGATGGTGATGGTGATGAATACAGTGATGGTGGTGATGATGGTGAGGATGATGATGATGGTGGTGATGA G 562 PASS SUPP=1;SUPP_VEC=1000;SVLEN=-75;SVTYPE=DEL;SVMETHOD=SURVIVOR1.0.6;CHR2=1;END=2942677;CIPOS=0,0;CIEND=0,0;STRANDS=+- GT:PSV:LN:DR:ST:QV:TY:ID:RAL:AAL:CO 0/1:NA:75:11,20:+-:562:DEL:MantaDEL_1_902_902_0_8_0:GTGGTGTTGATGGTGATGGTGATGAATACAGTGATGGTGGTGATGATGGTGAGGATGATGATGATGGTGGTGATGA:G:1_2942602-1_2942677 ./.:NaN:0:0,0:--:NaN:NaN:NaN:NAN:NAN:NAN ./.:NaN:0:0,0:--:NaN:NaN:NaN:NAN:NAN:NAN ./.:NaN:0:0,0:--:NaN:NaN:NaN:NAN:NAN:NAN, 1 3097910 MantaDEL_211_0_0_0_1_2 ACGGTCTTACACACGGTCTTACACACGCAGTCTTACACACGGCCTTACGCATGGTCTTACACAC AA 871 PASS SUPP=1;SUPP_VEC=1000;SVLEN=-63;SVTYPE=DEL;SVMETHOD=SURVIVOR1.0.6;CHR2=1;END=3097973;CIPOS=0,0;CIEND=0,0;STRANDS=+- GT:PSV:LN:DR:ST:QV:TY:ID:RAL:AAL:CO 1/1:NA:63:6,24:+-:871:DEL:MantaDEL_211_0_0_0_1_2:ACGGTCTTACACACGGTCTTACACACGCAGTCTTACACACGGCCTTACGCATGGTCTTACACAC:AA:1_3097910-1_3097973 ./.:NaN:0:0,0:--:NaN:NaN:NaN:NAN:NAN:NAN ./.:NaN:0:0,0:--:NaN:NaN:NaN:NAN:NAN:NAN ./.:NaN:0:0,0:--:NaN:NaN:NaN:NAN:NAN:NAN, 1 3177306 MantaINS_1_905_905_0_7_0 A <INS> 999 PASS SUPP=1;SUPP_VEC=1000;SVLEN=5;SVTYPE=INS;SVMETHOD=SURVIVOR1.0.6;CHR2=1;END=3177306;CIPOS=0,0;CIEND=0,0;STRANDS=+- GT:PSV:LN:DR:ST:QV:TY:ID:RAL:AAL:CO 1/1:NA:5:0,53:+-:999:INS:MantaINS_1_905_905_0_7_0:NA:NA:1_3177306-1_3177306 ./.:NaN:0:0,0:--:NaN:NaN:NaN:NAN:NAN:NAN ./.:NaN:0:0,0:--:NaN:NaN:NaN:NAN:NAN:NAN ./.:NaN:0:0,0:--:NaN:NaN:NaN:NAN:NAN:NAN, 1 3785228 MantaINS_260_0_0_0_0_0 A ACCACACCAGGCCACGCCACACCAAGCCACACCACACCAGGCCACACCACACCAGGCCACACCACACCATACCACACCACACCAGGCCACACCACACCAGGCCACACCACACCACGCCACACCACACCACGCCACACCACACCAGG 999 PASS SUPP=1;SUPP_VEC=1000;SVLEN=145;SVTYPE=INS;SVMETHOD=SURVIVOR1.0.6;CHR2=1;END=3785228;CIPOS=0,0;CIEND=0,0;STRANDS=+- GT:PSV:LN:DR:ST:QV:TY:ID:RAL:AAL:CO 1/1:NA:145:0,41:+-:999:INS:MantaINS_260_0_0_0_0_0:A:ACCACACCAGGCCACGCCACACCAAGCCACACCACACCAGGCCACACCACACCAGGCCACACCACACCATACCACACCACACCAGGCCACACCACACCAGGCCACACCACACCACGCCACACCACACCACGCCACACCACACCAGG:1_3785228-1_3785228 ./.:NaN:0:0,0:--:NaN:NaN:NaN:NAN:NAN:NAN ./.:NaN:0:0,0:--:NaN:NaN:NaN:NAN:NAN:NAN ./.:NaN:0:0,0:--:NaN:NaN:NaN:NAN:NAN:NAN, 1 4059835 MantaDEL_273_0_0_0_0_0 ATACGCCACAGAGAGGGGAGGGGGCCACACTGCCGACGGGGCAGGCCTGGAGTTGCAGGACGTGTCACAGAGAGAGGAAGGGGCCACACTGCTGACGGGGCGGGCCTGGAGTTGCAGGACA ACG 584 PASS SUPP=1;SUPP_VEC=1000;SVLEN=-120;SVTYPE=DEL;SVMETHOD=SURVIVOR1.0.6;CHR2=1;END=4059955;CIPOS=0,0;CIEND=0,0”\n"
     ]
    },
    {
     "name": "stderr",
     "output_type": "stream",
     "text": [
      "Warning message in .Seqinfo.mergexy(x, y):\n",
      "“Each of the 2 combined objects has sequence levels not in the other:\n",
      "  - in 'x': GL000191.1, GL000192.1, GL000193.1, GL000194.1, GL000195.1, GL000196.1, GL000197.1, GL000198.1, GL000199.1, GL000200.1, GL000201.1, GL000202.1, GL000203.1, GL000204.1, GL000205.1, GL000206.1, GL000207.1, GL000208.1, GL000209.1, GL000210.1, GL000211.1, GL000212.1, GL000213.1, GL000214.1, GL000215.1, GL000216.1, GL000217.1, GL000218.1, GL000219.1, GL000220.1, GL000221.1, GL000222.1, GL000223.1, GL000224.1, GL000225.1, GL000226.1, GL000227.1, GL000228.1, GL000229.1, GL000230.1, GL000231.1, GL000232.1, GL000233.1, GL000234.1, GL000235.1, GL000236.1, GL000237.1, GL000238.1, GL000239.1, GL000240.1, GL000241.1, GL000242.1, GL000243.1, GL000244.1, GL000245.1, GL000246.1, GL000247.1, GL000248.1, GL000249.1, MT, NC_007605, 1 532077 MantaDEL_13_0_0_0_0_0 ACATTCATGCTCACTCATACACACCCAGATCATATATACACTCGTGCACACATTCACACTCATACACACCCAAATCATACTCACATTCATGCACACATGTT A 327 PASS SUPP=1;SUPP_VEC=1000;SVLEN=-100;SVTYPE=DEL;SVMETHOD=SURVIVOR1.0.6;CHR2=1;END=532177;CIPOS=0,0;CIEND=0,0;STRANDS=+- GT:PSV:LN:DR:ST:QV:TY:ID:RAL:AAL:CO 0/1:NA:100:26,15:+-:327:DEL:MantaDEL_13_0_0_0_0_0:ACATTCATGCTCACTCATACACACCCAGATCATATATACACTCGTGCACACATTCACACTCATACACACCCAAATCATACTCACATTCATGCACACATGTT:A:1_532077-1_532177 ./.:NaN:0:0,0:--:NaN:NaN:NaN:NAN:NAN:NAN ./.:NaN:0:0,0:--:NaN:NaN:NaN:NAN:NAN:NAN ./.:NaN:0:0,0:--:NaN:NaN:NaN:NAN:NAN:NAN, 1 826137 MantaDEL_16_22_33_0_3_0 G <DEL> 999 PASS SUPP=1;SUPP_VEC=1000;SVLEN=-3;SVTYPE=DEL;SVMETHOD=SURVIVOR1.0.6;CHR2=1;END=5727343;CIPOS=0,0;CIEND=0,0;STRANDS=+- GT:PSV:LN:DR:ST:QV:TY:ID:RAL:AAL:CO 0/1:NA:3:141,64:+-:999:DEL:MantaDEL_16_22_33_0_3_0:NA:NA:1_826137-1_5727343 ./.:NaN:0:0,0:--:NaN:NaN:NaN:NAN:NAN:NAN ./.:NaN:0:0,0:--:NaN:NaN:NaN:NAN:NAN:NAN ./.:NaN:0:0,0:--:NaN:NaN:NaN:NAN:NAN:NAN, 1 1004127 MantaDUP_TANDEM_41_0_1_0_0_0 C <DUP:TANDEM> 188 PASS SUPP=1;SUPP_VEC=1000;SVLEN=78;SVTYPE=DUP;SVMETHOD=SURVIVOR1.0.6;CHR2=1;END=1004205;CIPOS=0,0;CIEND=0,0;STRANDS=-+ GT:PSV:LN:DR:ST:QV:TY:ID:RAL:AAL:CO 0/1:NA:78:33,15:-+:188:DUP:MantaDUP_TANDEM_41_0_1_0_0_0:NA:NA:1_1004127-1_1004205 ./.:NaN:0:0,0:--:NaN:NaN:NaN:NAN:NAN:NAN ./.:NaN:0:0,0:--:NaN:NaN:NaN:NAN:NAN:NAN ./.:NaN:0:0,0:--:NaN:NaN:NaN:NAN:NAN:NAN, 1 1649522 MantaDEL_186_0_0_0_8_0 CACGCTTTCAGCTAGAGTTTGCTCTTTCTGGTTTTCGGTCTGTGACACACGCA CG 197 PASS SUPP=1;SUPP_VEC=1000;SVLEN=-52;SVTYPE=DEL;SVMETHOD=SURVIVOR1.0.6;CHR2=1;END=1649574;CIPOS=0,0;CIEND=0,0;STRANDS=+- GT:PSV:LN:DR:ST:QV:TY:ID:RAL:AAL:CO 0/1:NA:52:50,16:+-:197:DEL:MantaDEL_186_0_0_0_8_0:CACGCTTTCAGCTAGAGTTTGCTCTTTCTGGTTTTCGGTCTGTGACACACGCA:CG:1_1649522-1_1649574 ./.:NaN:0:0,0:--:NaN:NaN:NaN:NAN:NAN:NAN ./.:NaN:0:0,0:--:NaN:NaN:NaN:NAN:NAN:NAN ./.:NaN:0:0,0:--:NaN:NaN:NaN:NAN:NAN:NAN, 1 1649490 MantaDEL_185_0_0_0_0_0 CTATAGCCCTTCTGAATGGTCTGTGACACACGCACGCTTTCAGCTAGAGTTTGCTCTTTCTGGTTTTCGGTCTGTGACACACGCATGCTTTCAGCTAGAGTTTGCTCTCTCTGGTTTTCGGTCTGTGACACACGCATGCTTTCAGCTAGGGTATTCTCTCTATAGCCCTTCTGAATGGTCTGTGACACACGCATGCTTTCAGGTGGAGTTTGCTCTCTCTGGTTTTCGGTCTGTGACACACGCATGCTTTCAGCTAGAGTATTCTCTCT C 205 PASS SUPP=1;SUPP_VEC=1000;SVLEN=-268;SVTYPE=DEL;SVMETHOD=SURVIVOR1.0.6;CHR2=1;END=1649758;CIPOS=0,0;CIEND=0,0;STRANDS=+- GT:PSV:LN:DR:ST:QV:TY:ID:RAL:AAL:CO 0/1:NA:268:92,22:+-:205:DEL:MantaDEL_185_0_0_0_0_0:CTATAGCCCTTCTGAATGGTCTGTGACACACGCACGCTTTCAGCTAGAGTTTGCTCTTTCTGGTTTTCGGTCTGTGACACACGCATGCTTTCAGCTAGAGTTTGCTCTCTCTGGTTTTCGGTCTGTGACACACGCATGCTTTCAGCTAGGGTATTCTCTCTATAGCCCTTCTGAATGGTCTGTGACACACGCATGCTTTCAGGTGGAGTTTGCTCTCTCTGGTTTTCGGTCTGTGACACACGCATGCTTTCAGCTAGAGTATTCTCTCT:C:1_1649490-1_1649758 ./.:NaN:0:0,0:--:NaN:NaN:NaN:NAN:NAN:NAN ./.:NaN:0:0,0:--:NaN:NaN:NaN:NAN:NAN:NAN ./.:NaN:0:0,0:--:NaN:NaN:NaN:NAN:NAN:NAN, 1 1650550 MantaDEL_186_1_1_2_1_0 GTTTGCTCTCTATAGCCCCTCTGAATGGTCTGTGACACATGCATGCTTTCAGC G 116 PASS SUPP=1;SUPP_VEC=1000;SVLEN=-52;SVTYPE=DEL;SVMETHOD=SURVIVOR1.0.6;CHR2=1;END=1650602;CIPOS=0,0;CIEND=0,0;STRANDS=+- GT:PSV:LN:DR:ST:QV:TY:ID:RAL:AAL:CO 0/1:NA:52:95,10:+-:116:DEL:MantaDEL_186_1_1_2_1_0:GTTTGCTCTCTATAGCCCCTCTGAATGGTCTGTGACACATGCATGCTTTCAGC:G:1_1650550-1_1650602 ./.:NaN:0:0,0:--:NaN:NaN:NaN:NAN:NAN:NAN ./.:NaN:0:0,0:--:NaN:NaN:NaN:NAN:NAN:NAN ./.:NaN:0:0,0:--:NaN:NaN:NaN:NAN:NAN:NAN, 1 1880373 MantaINS_128_0_0_0_2_0 T TCCCTCCCTTCTTTCCTTCCCTTTCCCTCCCTCCCTTCCTTCCTCTTTCCTTCCTTCCTTTCCCTCCCTTACTCCTTCCTTCCTTCCCTTCCCCTTCCTTCTTCCTTCTCTC 245 PASS SUPP=1;SUPP_VEC=1000;SVLEN=111;SVTYPE=INS;SVMETHOD=SURVIVOR1.0.6;CHR2=1;END=1880373;CIPOS=0,0;CIEND=0,0;STRANDS=+- GT:PSV:LN:DR:ST:QV:TY:ID:RAL:AAL:CO 0/1:NA:111:0,23:+-:245:INS:MantaINS_128_0_0_0_2_0:T:TCCCTCCCTTCTTTCCTTCCCTTTCCCTCCCTCCCTTCCTTCCTCTTTCCTTCCTTCCTTTCCCTCCCTTACTCCTTCCTTCCTTCCCTTCCCCTTCCTTCTTCCTTCTCTC:1_1880373-1_1880373 ./.:NaN:0:0,0:--:NaN:NaN:NaN:NAN:NAN:NAN ./.:NaN:0:0,0:--:NaN:NaN:NaN:NAN:NAN:NAN ./.:NaN:0:0,0:--:NaN:NaN:NaN:NAN:NAN:NAN, 1 2143092 4 N <DUP> 674 PASS SUPP=4;SUPP_VEC=1111;SVLEN=261;SVTYPE=DUP;SVMETHOD=SURVIVOR1.0.6;CHR2=1;END=2143633;CIPOS=0,85;CIEND=-7,1;STRANDS=-+ GT:PSV:LN:DR:ST:QV:TY:ID:RAL:AAL:CO 0/1:NA:458:102,32:-+:306:DUP:MantaDUP:TANDEM:125:0:1:0:0:0:NA:NA:1_2143168-1_2143626 0/1:NA:36:65,43:-+:.:DUP:DUP00000019:NA:NA:1_2143169-1_2143626 ./.:NA:541:0,18:-+:.:DUP:4:NA:NA:1_2143092-1_2143633 .:1:NA:8:0,0:++:674:INV:gridss0_16961o:NA:NA:1_2143177-1_2143634, 1 2367908 MantaDEL_168_0_0_0_0_0 TCCTTCCTCCCTCCTCCCCTCCTCCCTCCTCCTCCTTTCCTCCTTCCTCCCTCCTCCTTTCCTCCTTCCTCCCTCCTC T 153 PASS SUPP=1;SUPP_VEC=1000;SVLEN=-77;SVTYPE=DEL;SVMETHOD=SURVIVOR1.0.6;CHR2=1;END=2367985;CIPOS=0,0;CIEND=0,0;STRANDS=+- GT:PSV:LN:DR:ST:QV:TY:ID:RAL:AAL:CO 0/1:NA:77:0,13:+-:153:DEL:MantaDEL_168_0_0_0_0_0:TCCTTCCTCCCTCCTCCCCTCCTCCCTCCTCCTCCTTTCCTCCTTCCTCCCTCCTCCTTTCCTCCTTCCTCCCTCCTC:T:1_2367908-1_2367985 ./.:NaN:0:0,0:--:NaN:NaN:NaN:NAN:NAN:NAN ./.:NaN:0:0,0:--:NaN:NaN:NaN:NAN:NAN:NAN ./.:NaN:0:0,0:--:NaN:NaN:NaN:NAN:NAN:NAN, 1 2942602 MantaDEL_1_902_902_0_8_0 GTGGTGTTGATGGTGATGGTGATGAATACAGTGATGGTGGTGATGATGGTGAGGATGATGATGATGGTGGTGATGA G 562 PASS SUPP=1;SUPP_VEC=1000;SVLEN=-75;SVTYPE=DEL;SVMETHOD=SURVIVOR1.0.6;CHR2=1;END=2942677;CIPOS=0,0;CIEND=0,0;STRANDS=+- GT:PSV:LN:DR:ST:QV:TY:ID:RAL:AAL:CO 0/1:NA:75:11,20:+-:562:DEL:MantaDEL_1_902_902_0_8_0:GTGGTGTTGATGGTGATGGTGATGAATACAGTGATGGTGGTGATGATGGTGAGGATGATGATGATGGTGGTGATGA:G:1_2942602-1_2942677 ./.:NaN:0:0,0:--:NaN:NaN:NaN:NAN:NAN:NAN ./.:NaN:0:0,0:--:NaN:NaN:NaN:NAN:NAN:NAN ./.:NaN:0:0,0:--:NaN:NaN:NaN:NAN:NAN:NAN, 1 3097910 MantaDEL_211_0_0_0_1_2 ACGGTCTTACACACGGTCTTACACACGCAGTCTTACACACGGCCTTACGCATGGTCTTACACAC AA 871 PASS SUPP=1;SUPP_VEC=1000;SVLEN=-63;SVTYPE=DEL;SVMETHOD=SURVIVOR1.0.6;CHR2=1;END=3097973;CIPOS=0,0;CIEND=0,0;STRANDS=+- GT:PSV:LN:DR:ST:QV:TY:ID:RAL:AAL:CO 1/1:NA:63:6,24:+-:871:DEL:MantaDEL_211_0_0_0_1_2:ACGGTCTTACACACGGTCTTACACACGCAGTCTTACACACGGCCTTACGCATGGTCTTACACAC:AA:1_3097910-1_3097973 ./.:NaN:0:0,0:--:NaN:NaN:NaN:NAN:NAN:NAN ./.:NaN:0:0,0:--:NaN:NaN:NaN:NAN:NAN:NAN ./.:NaN:0:0,0:--:NaN:NaN:NaN:NAN:NAN:NAN, 1 3177306 MantaINS_1_905_905_0_7_0 A <INS> 999 PASS SUPP=1;SUPP_VEC=1000;SVLEN=5;SVTYPE=INS;SVMETHOD=SURVIVOR1.0.6;CHR2=1;END=3177306;CIPOS=0,0;CIEND=0,0;STRANDS=+- GT:PSV:LN:DR:ST:QV:TY:ID:RAL:AAL:CO 1/1:NA:5:0,53:+-:999:INS:MantaINS_1_905_905_0_7_0:NA:NA:1_3177306-1_3177306 ./.:NaN:0:0,0:--:NaN:NaN:NaN:NAN:NAN:NAN ./.:NaN:0:0,0:--:NaN:NaN:NaN:NAN:NAN:NAN ./.:NaN:0:0,0:--:NaN:NaN:NaN:NAN:NAN:NAN, 1 3785228 MantaINS_260_0_0_0_0_0 A ACCACACCAGGCCACGCCACACCAAGCCACACCACACCAGGCCACACCACACCAGGCCACACCACACCATACCACACCACACCAGGCCACACCACACCAGGCCACACCACACCACGCCACACCACACCACGCCACACCACACCAGG 999 PASS SUPP=1;SUPP_VEC=1000;SVLEN=145;SVTYPE=INS;SVMETHOD=SURVIVOR1.0.6;CHR2=1;END=3785228;CIPOS=0,0;CIEND=0,0;STRANDS=+- GT:PSV:LN:DR:ST:QV:TY:ID:RAL:AAL:CO 1/1:NA:145:0,41:+-:999:INS:MantaINS_260_0_0_0_0_0:A:ACCACACCAGGCCACGCCACACCAAGCCACACCACACCAGGCCACACCACACCAGGCCACACCACACCATACCACACCACACCAGGCCACACCACACCAGGCCACACCACACCACGCCACACCACACCACGCCACACCACACCAGG:1_3785228-1_3785228 ./.:NaN:0:0,0:--:NaN:NaN:NaN:NAN:NAN:NAN ./.:NaN:0:0,0:--:NaN:NaN:NaN:NAN:NAN:NAN ./.:NaN:0:0,0:--:NaN:NaN:NaN:NAN:NAN:NAN, 1 4059835 MantaDEL_273_0_0_0_0_0 ATACGCCACAGAGAGGGGAGGGGGCCACACTGCCGACGGGGCAGGCCTGGAGTTGCAGGACGTGTCACAGAGAGAGGAAGGGGCCACACTGCTGACGGGGCGGGCCTGGAGTTGCAGGACA ACG 584 PASS SUPP=1;SUPP_VEC=1000;SVLEN=-120;SVTYPE=DEL;SVMETHOD=SURVIVOR1.0.6;CHR2=1;END=4059955;CIPOS=0,0;CIEND=0,0”\n"
     ]
    },
    {
     "name": "stderr",
     "output_type": "stream",
     "text": [
      "Warning message in .Seqinfo.mergexy(x, y):\n",
      "“Each of the 2 combined objects has sequence levels not in the other:\n",
      "  - in 'x': GL000191.1, GL000192.1, GL000193.1, GL000195.1, GL000196.1, GL000197.1, GL000198.1, GL000199.1, GL000200.1, GL000201.1, GL000202.1, GL000203.1, GL000204.1, GL000205.1, GL000206.1, GL000207.1, GL000209.1, GL000210.1, GL000211.1, GL000212.1, GL000213.1, GL000215.1, GL000216.1, GL000218.1, GL000220.1, GL000221.1, GL000222.1, GL000223.1, GL000226.1, GL000227.1, GL000228.1, GL000229.1, GL000230.1, GL000231.1, GL000232.1, GL000234.1, GL000235.1, GL000236.1, GL000237.1, GL000238.1, GL000239.1, GL000240.1, GL000241.1, GL000242.1, GL000243.1, GL000244.1, GL000245.1, GL000246.1, GL000247.1, GL000248.1, GL000249.1, MT, NC_007605, 1 532077 MantaDEL_13_0_0_0_0_0 ACATTCATGCTCACTCATACACACCCAGATCATATATACACTCGTGCACACATTCACACTCATACACACCCAAATCATACTCACATTCATGCACACATGTT A 327 PASS SUPP=1;SUPP_VEC=1000;SVLEN=-100;SVTYPE=DEL;SVMETHOD=SURVIVOR1.0.6;CHR2=1;END=532177;CIPOS=0,0;CIEND=0,0;STRANDS=+- GT:PSV:LN:DR:ST:QV:TY:ID:RAL:AAL:CO 0/1:NA:100:26,15:+-:327:DEL:MantaDEL_13_0_0_0_0_0:ACATTCATGCTCACTCATACACACCCAGATCATATATACACTCGTGCACACATTCACACTCATACACACCCAAATCATACTCACATTCATGCACACATGTT:A:1_532077-1_532177 ./.:NaN:0:0,0:--:NaN:NaN:NaN:NAN:NAN:NAN ./.:NaN:0:0,0:--:NaN:NaN:NaN:NAN:NAN:NAN ./.:NaN:0:0,0:--:NaN:NaN:NaN:NAN:NAN:NAN, 1 826137 MantaDEL_16_22_33_0_3_0 G <DEL> 999 PASS SUPP=1;SUPP_VEC=1000;SVLEN=-3;SVTYPE=DEL;SVMETHOD=SURVIVOR1.0.6;CHR2=1;END=5727343;CIPOS=0,0;CIEND=0,0;STRANDS=+- GT:PSV:LN:DR:ST:QV:TY:ID:RAL:AAL:CO 0/1:NA:3:141,64:+-:999:DEL:MantaDEL_16_22_33_0_3_0:NA:NA:1_826137-1_5727343 ./.:NaN:0:0,0:--:NaN:NaN:NaN:NAN:NAN:NAN ./.:NaN:0:0,0:--:NaN:NaN:NaN:NAN:NAN:NAN ./.:NaN:0:0,0:--:NaN:NaN:NaN:NAN:NAN:NAN, 1 1004127 MantaDUP_TANDEM_41_0_1_0_0_0 C <DUP:TANDEM> 188 PASS SUPP=1;SUPP_VEC=1000;SVLEN=78;SVTYPE=DUP;SVMETHOD=SURVIVOR1.0.6;CHR2=1;END=1004205;CIPOS=0,0;CIEND=0,0;STRANDS=-+ GT:PSV:LN:DR:ST:QV:TY:ID:RAL:AAL:CO 0/1:NA:78:33,15:-+:188:DUP:MantaDUP_TANDEM_41_0_1_0_0_0:NA:NA:1_1004127-1_1004205 ./.:NaN:0:0,0:--:NaN:NaN:NaN:NAN:NAN:NAN ./.:NaN:0:0,0:--:NaN:NaN:NaN:NAN:NAN:NAN ./.:NaN:0:0,0:--:NaN:NaN:NaN:NAN:NAN:NAN, 1 1649522 MantaDEL_186_0_0_0_8_0 CACGCTTTCAGCTAGAGTTTGCTCTTTCTGGTTTTCGGTCTGTGACACACGCA CG 197 PASS SUPP=1;SUPP_VEC=1000;SVLEN=-52;SVTYPE=DEL;SVMETHOD=SURVIVOR1.0.6;CHR2=1;END=1649574;CIPOS=0,0;CIEND=0,0;STRANDS=+- GT:PSV:LN:DR:ST:QV:TY:ID:RAL:AAL:CO 0/1:NA:52:50,16:+-:197:DEL:MantaDEL_186_0_0_0_8_0:CACGCTTTCAGCTAGAGTTTGCTCTTTCTGGTTTTCGGTCTGTGACACACGCA:CG:1_1649522-1_1649574 ./.:NaN:0:0,0:--:NaN:NaN:NaN:NAN:NAN:NAN ./.:NaN:0:0,0:--:NaN:NaN:NaN:NAN:NAN:NAN ./.:NaN:0:0,0:--:NaN:NaN:NaN:NAN:NAN:NAN, 1 1649490 MantaDEL_185_0_0_0_0_0 CTATAGCCCTTCTGAATGGTCTGTGACACACGCACGCTTTCAGCTAGAGTTTGCTCTTTCTGGTTTTCGGTCTGTGACACACGCATGCTTTCAGCTAGAGTTTGCTCTCTCTGGTTTTCGGTCTGTGACACACGCATGCTTTCAGCTAGGGTATTCTCTCTATAGCCCTTCTGAATGGTCTGTGACACACGCATGCTTTCAGGTGGAGTTTGCTCTCTCTGGTTTTCGGTCTGTGACACACGCATGCTTTCAGCTAGAGTATTCTCTCT C 205 PASS SUPP=1;SUPP_VEC=1000;SVLEN=-268;SVTYPE=DEL;SVMETHOD=SURVIVOR1.0.6;CHR2=1;END=1649758;CIPOS=0,0;CIEND=0,0;STRANDS=+- GT:PSV:LN:DR:ST:QV:TY:ID:RAL:AAL:CO 0/1:NA:268:92,22:+-:205:DEL:MantaDEL_185_0_0_0_0_0:CTATAGCCCTTCTGAATGGTCTGTGACACACGCACGCTTTCAGCTAGAGTTTGCTCTTTCTGGTTTTCGGTCTGTGACACACGCATGCTTTCAGCTAGAGTTTGCTCTCTCTGGTTTTCGGTCTGTGACACACGCATGCTTTCAGCTAGGGTATTCTCTCTATAGCCCTTCTGAATGGTCTGTGACACACGCATGCTTTCAGGTGGAGTTTGCTCTCTCTGGTTTTCGGTCTGTGACACACGCATGCTTTCAGCTAGAGTATTCTCTCT:C:1_1649490-1_1649758 ./.:NaN:0:0,0:--:NaN:NaN:NaN:NAN:NAN:NAN ./.:NaN:0:0,0:--:NaN:NaN:NaN:NAN:NAN:NAN ./.:NaN:0:0,0:--:NaN:NaN:NaN:NAN:NAN:NAN, 1 1650550 MantaDEL_186_1_1_2_1_0 GTTTGCTCTCTATAGCCCCTCTGAATGGTCTGTGACACATGCATGCTTTCAGC G 116 PASS SUPP=1;SUPP_VEC=1000;SVLEN=-52;SVTYPE=DEL;SVMETHOD=SURVIVOR1.0.6;CHR2=1;END=1650602;CIPOS=0,0;CIEND=0,0;STRANDS=+- GT:PSV:LN:DR:ST:QV:TY:ID:RAL:AAL:CO 0/1:NA:52:95,10:+-:116:DEL:MantaDEL_186_1_1_2_1_0:GTTTGCTCTCTATAGCCCCTCTGAATGGTCTGTGACACATGCATGCTTTCAGC:G:1_1650550-1_1650602 ./.:NaN:0:0,0:--:NaN:NaN:NaN:NAN:NAN:NAN ./.:NaN:0:0,0:--:NaN:NaN:NaN:NAN:NAN:NAN ./.:NaN:0:0,0:--:NaN:NaN:NaN:NAN:NAN:NAN, 1 1880373 MantaINS_128_0_0_0_2_0 T TCCCTCCCTTCTTTCCTTCCCTTTCCCTCCCTCCCTTCCTTCCTCTTTCCTTCCTTCCTTTCCCTCCCTTACTCCTTCCTTCCTTCCCTTCCCCTTCCTTCTTCCTTCTCTC 245 PASS SUPP=1;SUPP_VEC=1000;SVLEN=111;SVTYPE=INS;SVMETHOD=SURVIVOR1.0.6;CHR2=1;END=1880373;CIPOS=0,0;CIEND=0,0;STRANDS=+- GT:PSV:LN:DR:ST:QV:TY:ID:RAL:AAL:CO 0/1:NA:111:0,23:+-:245:INS:MantaINS_128_0_0_0_2_0:T:TCCCTCCCTTCTTTCCTTCCCTTTCCCTCCCTCCCTTCCTTCCTCTTTCCTTCCTTCCTTTCCCTCCCTTACTCCTTCCTTCCTTCCCTTCCCCTTCCTTCTTCCTTCTCTC:1_1880373-1_1880373 ./.:NaN:0:0,0:--:NaN:NaN:NaN:NAN:NAN:NAN ./.:NaN:0:0,0:--:NaN:NaN:NaN:NAN:NAN:NAN ./.:NaN:0:0,0:--:NaN:NaN:NaN:NAN:NAN:NAN, 1 2143092 4 N <DUP> 674 PASS SUPP=4;SUPP_VEC=1111;SVLEN=261;SVTYPE=DUP;SVMETHOD=SURVIVOR1.0.6;CHR2=1;END=2143633;CIPOS=0,85;CIEND=-7,1;STRANDS=-+ GT:PSV:LN:DR:ST:QV:TY:ID:RAL:AAL:CO 0/1:NA:458:102,32:-+:306:DUP:MantaDUP:TANDEM:125:0:1:0:0:0:NA:NA:1_2143168-1_2143626 0/1:NA:36:65,43:-+:.:DUP:DUP00000019:NA:NA:1_2143169-1_2143626 ./.:NA:541:0,18:-+:.:DUP:4:NA:NA:1_2143092-1_2143633 .:1:NA:8:0,0:++:674:INV:gridss0_16961o:NA:NA:1_2143177-1_2143634, 1 2367908 MantaDEL_168_0_0_0_0_0 TCCTTCCTCCCTCCTCCCCTCCTCCCTCCTCCTCCTTTCCTCCTTCCTCCCTCCTCCTTTCCTCCTTCCTCCCTCCTC T 153 PASS SUPP=1;SUPP_VEC=1000;SVLEN=-77;SVTYPE=DEL;SVMETHOD=SURVIVOR1.0.6;CHR2=1;END=2367985;CIPOS=0,0;CIEND=0,0;STRANDS=+- GT:PSV:LN:DR:ST:QV:TY:ID:RAL:AAL:CO 0/1:NA:77:0,13:+-:153:DEL:MantaDEL_168_0_0_0_0_0:TCCTTCCTCCCTCCTCCCCTCCTCCCTCCTCCTCCTTTCCTCCTTCCTCCCTCCTCCTTTCCTCCTTCCTCCCTCCTC:T:1_2367908-1_2367985 ./.:NaN:0:0,0:--:NaN:NaN:NaN:NAN:NAN:NAN ./.:NaN:0:0,0:--:NaN:NaN:NaN:NAN:NAN:NAN ./.:NaN:0:0,0:--:NaN:NaN:NaN:NAN:NAN:NAN, 1 2942602 MantaDEL_1_902_902_0_8_0 GTGGTGTTGATGGTGATGGTGATGAATACAGTGATGGTGGTGATGATGGTGAGGATGATGATGATGGTGGTGATGA G 562 PASS SUPP=1;SUPP_VEC=1000;SVLEN=-75;SVTYPE=DEL;SVMETHOD=SURVIVOR1.0.6;CHR2=1;END=2942677;CIPOS=0,0;CIEND=0,0;STRANDS=+- GT:PSV:LN:DR:ST:QV:TY:ID:RAL:AAL:CO 0/1:NA:75:11,20:+-:562:DEL:MantaDEL_1_902_902_0_8_0:GTGGTGTTGATGGTGATGGTGATGAATACAGTGATGGTGGTGATGATGGTGAGGATGATGATGATGGTGGTGATGA:G:1_2942602-1_2942677 ./.:NaN:0:0,0:--:NaN:NaN:NaN:NAN:NAN:NAN ./.:NaN:0:0,0:--:NaN:NaN:NaN:NAN:NAN:NAN ./.:NaN:0:0,0:--:NaN:NaN:NaN:NAN:NAN:NAN, 1 3097910 MantaDEL_211_0_0_0_1_2 ACGGTCTTACACACGGTCTTACACACGCAGTCTTACACACGGCCTTACGCATGGTCTTACACAC AA 871 PASS SUPP=1;SUPP_VEC=1000;SVLEN=-63;SVTYPE=DEL;SVMETHOD=SURVIVOR1.0.6;CHR2=1;END=3097973;CIPOS=0,0;CIEND=0,0;STRANDS=+- GT:PSV:LN:DR:ST:QV:TY:ID:RAL:AAL:CO 1/1:NA:63:6,24:+-:871:DEL:MantaDEL_211_0_0_0_1_2:ACGGTCTTACACACGGTCTTACACACGCAGTCTTACACACGGCCTTACGCATGGTCTTACACAC:AA:1_3097910-1_3097973 ./.:NaN:0:0,0:--:NaN:NaN:NaN:NAN:NAN:NAN ./.:NaN:0:0,0:--:NaN:NaN:NaN:NAN:NAN:NAN ./.:NaN:0:0,0:--:NaN:NaN:NaN:NAN:NAN:NAN, 1 3177306 MantaINS_1_905_905_0_7_0 A <INS> 999 PASS SUPP=1;SUPP_VEC=1000;SVLEN=5;SVTYPE=INS;SVMETHOD=SURVIVOR1.0.6;CHR2=1;END=3177306;CIPOS=0,0;CIEND=0,0;STRANDS=+- GT:PSV:LN:DR:ST:QV:TY:ID:RAL:AAL:CO 1/1:NA:5:0,53:+-:999:INS:MantaINS_1_905_905_0_7_0:NA:NA:1_3177306-1_3177306 ./.:NaN:0:0,0:--:NaN:NaN:NaN:NAN:NAN:NAN ./.:NaN:0:0,0:--:NaN:NaN:NaN:NAN:NAN:NAN ./.:NaN:0:0,0:--:NaN:NaN:NaN:NAN:NAN:NAN, 1 3785228 MantaINS_260_0_0_0_0_0 A ACCACACCAGGCCACGCCACACCAAGCCACACCACACCAGGCCACACCACACCAGGCCACACCACACCATACCACACCACACCAGGCCACACCACACCAGGCCACACCACACCACGCCACACCACACCACGCCACACCACACCAGG 999 PASS SUPP=1;SUPP_VEC=1000;SVLEN=145;SVTYPE=INS;SVMETHOD=SURVIVOR1.0.6;CHR2=1;END=3785228;CIPOS=0,0;CIEND=0,0;STRANDS=+- GT:PSV:LN:DR:ST:QV:TY:ID:RAL:AAL:CO 1/1:NA:145:0,41:+-:999:INS:MantaINS_260_0_0_0_0_0:A:ACCACACCAGGCCACGCCACACCAAGCCACACCACACCAGGCCACACCACACCAGGCCACACCACACCATACCACACCACACCAGGCCACACCACACCAGGCCACACCACACCACGCCACACCACACCACGCCACACCACACCAGG:1_3785228-1_3785228 ./.:NaN:0:0,0:--:NaN:NaN:NaN:NAN:NAN:NAN ./.:NaN:0:0,0:--:NaN:NaN:NaN:NAN:NAN:NAN ./.:NaN:0:0,0:--:NaN:NaN:NaN:NAN:NAN:NAN, 1 4059835 MantaDEL_273_0_0_0_0_0 ATACGCCACAGAGAGGGGAGGGGGCCACACTGCCGACGGGGCAGGCCTGGAGTTGCAGGACGTGTCACAGAGAGAGGAAGGGGCCACACTGCTGACGGGGCGGGCCTGGAGTTGCAGGACA ACG 584 PASS SUPP=1;SUPP_VEC=1000;SVLEN=-120;SVTYPE=DEL;SVMETHOD=SURVIVOR1.0.6;CHR2=1;END=4059955;CIPOS=0,0;CIEND=0,0;STRANDS=+- GT:PSV:LN:DR:ST:QV:TY:ID:RAL:AAL:CO 0/1:NA:120:6,32:+-:584:DEL:MantaDEL_273_0_0_0_0_”\n"
     ]
    },
    {
     "name": "stderr",
     "output_type": "stream",
     "text": [
      "Warning message in .Seqinfo.mergexy(x, y):\n",
      "“Each of the 2 combined objects has sequence levels not in the other:\n",
      "  - in 'x': GL000191.1, GL000192.1, GL000193.1, GL000195.1, GL000196.1, GL000197.1, GL000198.1, GL000199.1, GL000200.1, GL000201.1, GL000202.1, GL000203.1, GL000204.1, GL000205.1, GL000206.1, GL000207.1, GL000209.1, GL000210.1, GL000211.1, GL000212.1, GL000213.1, GL000215.1, GL000216.1, GL000218.1, GL000220.1, GL000221.1, GL000222.1, GL000223.1, GL000226.1, GL000227.1, GL000228.1, GL000229.1, GL000230.1, GL000231.1, GL000232.1, GL000234.1, GL000235.1, GL000236.1, GL000237.1, GL000238.1, GL000239.1, GL000240.1, GL000241.1, GL000242.1, GL000243.1, GL000244.1, GL000245.1, GL000246.1, GL000247.1, GL000248.1, GL000249.1, MT, NC_007605, 1 532077 MantaDEL_13_0_0_0_0_0 ACATTCATGCTCACTCATACACACCCAGATCATATATACACTCGTGCACACATTCACACTCATACACACCCAAATCATACTCACATTCATGCACACATGTT A 327 PASS SUPP=1;SUPP_VEC=1000;SVLEN=-100;SVTYPE=DEL;SVMETHOD=SURVIVOR1.0.6;CHR2=1;END=532177;CIPOS=0,0;CIEND=0,0;STRANDS=+- GT:PSV:LN:DR:ST:QV:TY:ID:RAL:AAL:CO 0/1:NA:100:26,15:+-:327:DEL:MantaDEL_13_0_0_0_0_0:ACATTCATGCTCACTCATACACACCCAGATCATATATACACTCGTGCACACATTCACACTCATACACACCCAAATCATACTCACATTCATGCACACATGTT:A:1_532077-1_532177 ./.:NaN:0:0,0:--:NaN:NaN:NaN:NAN:NAN:NAN ./.:NaN:0:0,0:--:NaN:NaN:NaN:NAN:NAN:NAN ./.:NaN:0:0,0:--:NaN:NaN:NaN:NAN:NAN:NAN, 1 826137 MantaDEL_16_22_33_0_3_0 G <DEL> 999 PASS SUPP=1;SUPP_VEC=1000;SVLEN=-3;SVTYPE=DEL;SVMETHOD=SURVIVOR1.0.6;CHR2=1;END=5727343;CIPOS=0,0;CIEND=0,0;STRANDS=+- GT:PSV:LN:DR:ST:QV:TY:ID:RAL:AAL:CO 0/1:NA:3:141,64:+-:999:DEL:MantaDEL_16_22_33_0_3_0:NA:NA:1_826137-1_5727343 ./.:NaN:0:0,0:--:NaN:NaN:NaN:NAN:NAN:NAN ./.:NaN:0:0,0:--:NaN:NaN:NaN:NAN:NAN:NAN ./.:NaN:0:0,0:--:NaN:NaN:NaN:NAN:NAN:NAN, 1 1004127 MantaDUP_TANDEM_41_0_1_0_0_0 C <DUP:TANDEM> 188 PASS SUPP=1;SUPP_VEC=1000;SVLEN=78;SVTYPE=DUP;SVMETHOD=SURVIVOR1.0.6;CHR2=1;END=1004205;CIPOS=0,0;CIEND=0,0;STRANDS=-+ GT:PSV:LN:DR:ST:QV:TY:ID:RAL:AAL:CO 0/1:NA:78:33,15:-+:188:DUP:MantaDUP_TANDEM_41_0_1_0_0_0:NA:NA:1_1004127-1_1004205 ./.:NaN:0:0,0:--:NaN:NaN:NaN:NAN:NAN:NAN ./.:NaN:0:0,0:--:NaN:NaN:NaN:NAN:NAN:NAN ./.:NaN:0:0,0:--:NaN:NaN:NaN:NAN:NAN:NAN, 1 1649522 MantaDEL_186_0_0_0_8_0 CACGCTTTCAGCTAGAGTTTGCTCTTTCTGGTTTTCGGTCTGTGACACACGCA CG 197 PASS SUPP=1;SUPP_VEC=1000;SVLEN=-52;SVTYPE=DEL;SVMETHOD=SURVIVOR1.0.6;CHR2=1;END=1649574;CIPOS=0,0;CIEND=0,0;STRANDS=+- GT:PSV:LN:DR:ST:QV:TY:ID:RAL:AAL:CO 0/1:NA:52:50,16:+-:197:DEL:MantaDEL_186_0_0_0_8_0:CACGCTTTCAGCTAGAGTTTGCTCTTTCTGGTTTTCGGTCTGTGACACACGCA:CG:1_1649522-1_1649574 ./.:NaN:0:0,0:--:NaN:NaN:NaN:NAN:NAN:NAN ./.:NaN:0:0,0:--:NaN:NaN:NaN:NAN:NAN:NAN ./.:NaN:0:0,0:--:NaN:NaN:NaN:NAN:NAN:NAN, 1 1649490 MantaDEL_185_0_0_0_0_0 CTATAGCCCTTCTGAATGGTCTGTGACACACGCACGCTTTCAGCTAGAGTTTGCTCTTTCTGGTTTTCGGTCTGTGACACACGCATGCTTTCAGCTAGAGTTTGCTCTCTCTGGTTTTCGGTCTGTGACACACGCATGCTTTCAGCTAGGGTATTCTCTCTATAGCCCTTCTGAATGGTCTGTGACACACGCATGCTTTCAGGTGGAGTTTGCTCTCTCTGGTTTTCGGTCTGTGACACACGCATGCTTTCAGCTAGAGTATTCTCTCT C 205 PASS SUPP=1;SUPP_VEC=1000;SVLEN=-268;SVTYPE=DEL;SVMETHOD=SURVIVOR1.0.6;CHR2=1;END=1649758;CIPOS=0,0;CIEND=0,0;STRANDS=+- GT:PSV:LN:DR:ST:QV:TY:ID:RAL:AAL:CO 0/1:NA:268:92,22:+-:205:DEL:MantaDEL_185_0_0_0_0_0:CTATAGCCCTTCTGAATGGTCTGTGACACACGCACGCTTTCAGCTAGAGTTTGCTCTTTCTGGTTTTCGGTCTGTGACACACGCATGCTTTCAGCTAGAGTTTGCTCTCTCTGGTTTTCGGTCTGTGACACACGCATGCTTTCAGCTAGGGTATTCTCTCTATAGCCCTTCTGAATGGTCTGTGACACACGCATGCTTTCAGGTGGAGTTTGCTCTCTCTGGTTTTCGGTCTGTGACACACGCATGCTTTCAGCTAGAGTATTCTCTCT:C:1_1649490-1_1649758 ./.:NaN:0:0,0:--:NaN:NaN:NaN:NAN:NAN:NAN ./.:NaN:0:0,0:--:NaN:NaN:NaN:NAN:NAN:NAN ./.:NaN:0:0,0:--:NaN:NaN:NaN:NAN:NAN:NAN, 1 1650550 MantaDEL_186_1_1_2_1_0 GTTTGCTCTCTATAGCCCCTCTGAATGGTCTGTGACACATGCATGCTTTCAGC G 116 PASS SUPP=1;SUPP_VEC=1000;SVLEN=-52;SVTYPE=DEL;SVMETHOD=SURVIVOR1.0.6;CHR2=1;END=1650602;CIPOS=0,0;CIEND=0,0;STRANDS=+- GT:PSV:LN:DR:ST:QV:TY:ID:RAL:AAL:CO 0/1:NA:52:95,10:+-:116:DEL:MantaDEL_186_1_1_2_1_0:GTTTGCTCTCTATAGCCCCTCTGAATGGTCTGTGACACATGCATGCTTTCAGC:G:1_1650550-1_1650602 ./.:NaN:0:0,0:--:NaN:NaN:NaN:NAN:NAN:NAN ./.:NaN:0:0,0:--:NaN:NaN:NaN:NAN:NAN:NAN ./.:NaN:0:0,0:--:NaN:NaN:NaN:NAN:NAN:NAN, 1 1880373 MantaINS_128_0_0_0_2_0 T TCCCTCCCTTCTTTCCTTCCCTTTCCCTCCCTCCCTTCCTTCCTCTTTCCTTCCTTCCTTTCCCTCCCTTACTCCTTCCTTCCTTCCCTTCCCCTTCCTTCTTCCTTCTCTC 245 PASS SUPP=1;SUPP_VEC=1000;SVLEN=111;SVTYPE=INS;SVMETHOD=SURVIVOR1.0.6;CHR2=1;END=1880373;CIPOS=0,0;CIEND=0,0;STRANDS=+- GT:PSV:LN:DR:ST:QV:TY:ID:RAL:AAL:CO 0/1:NA:111:0,23:+-:245:INS:MantaINS_128_0_0_0_2_0:T:TCCCTCCCTTCTTTCCTTCCCTTTCCCTCCCTCCCTTCCTTCCTCTTTCCTTCCTTCCTTTCCCTCCCTTACTCCTTCCTTCCTTCCCTTCCCCTTCCTTCTTCCTTCTCTC:1_1880373-1_1880373 ./.:NaN:0:0,0:--:NaN:NaN:NaN:NAN:NAN:NAN ./.:NaN:0:0,0:--:NaN:NaN:NaN:NAN:NAN:NAN ./.:NaN:0:0,0:--:NaN:NaN:NaN:NAN:NAN:NAN, 1 2143092 4 N <DUP> 674 PASS SUPP=4;SUPP_VEC=1111;SVLEN=261;SVTYPE=DUP;SVMETHOD=SURVIVOR1.0.6;CHR2=1;END=2143633;CIPOS=0,85;CIEND=-7,1;STRANDS=-+ GT:PSV:LN:DR:ST:QV:TY:ID:RAL:AAL:CO 0/1:NA:458:102,32:-+:306:DUP:MantaDUP:TANDEM:125:0:1:0:0:0:NA:NA:1_2143168-1_2143626 0/1:NA:36:65,43:-+:.:DUP:DUP00000019:NA:NA:1_2143169-1_2143626 ./.:NA:541:0,18:-+:.:DUP:4:NA:NA:1_2143092-1_2143633 .:1:NA:8:0,0:++:674:INV:gridss0_16961o:NA:NA:1_2143177-1_2143634, 1 2367908 MantaDEL_168_0_0_0_0_0 TCCTTCCTCCCTCCTCCCCTCCTCCCTCCTCCTCCTTTCCTCCTTCCTCCCTCCTCCTTTCCTCCTTCCTCCCTCCTC T 153 PASS SUPP=1;SUPP_VEC=1000;SVLEN=-77;SVTYPE=DEL;SVMETHOD=SURVIVOR1.0.6;CHR2=1;END=2367985;CIPOS=0,0;CIEND=0,0;STRANDS=+- GT:PSV:LN:DR:ST:QV:TY:ID:RAL:AAL:CO 0/1:NA:77:0,13:+-:153:DEL:MantaDEL_168_0_0_0_0_0:TCCTTCCTCCCTCCTCCCCTCCTCCCTCCTCCTCCTTTCCTCCTTCCTCCCTCCTCCTTTCCTCCTTCCTCCCTCCTC:T:1_2367908-1_2367985 ./.:NaN:0:0,0:--:NaN:NaN:NaN:NAN:NAN:NAN ./.:NaN:0:0,0:--:NaN:NaN:NaN:NAN:NAN:NAN ./.:NaN:0:0,0:--:NaN:NaN:NaN:NAN:NAN:NAN, 1 2942602 MantaDEL_1_902_902_0_8_0 GTGGTGTTGATGGTGATGGTGATGAATACAGTGATGGTGGTGATGATGGTGAGGATGATGATGATGGTGGTGATGA G 562 PASS SUPP=1;SUPP_VEC=1000;SVLEN=-75;SVTYPE=DEL;SVMETHOD=SURVIVOR1.0.6;CHR2=1;END=2942677;CIPOS=0,0;CIEND=0,0;STRANDS=+- GT:PSV:LN:DR:ST:QV:TY:ID:RAL:AAL:CO 0/1:NA:75:11,20:+-:562:DEL:MantaDEL_1_902_902_0_8_0:GTGGTGTTGATGGTGATGGTGATGAATACAGTGATGGTGGTGATGATGGTGAGGATGATGATGATGGTGGTGATGA:G:1_2942602-1_2942677 ./.:NaN:0:0,0:--:NaN:NaN:NaN:NAN:NAN:NAN ./.:NaN:0:0,0:--:NaN:NaN:NaN:NAN:NAN:NAN ./.:NaN:0:0,0:--:NaN:NaN:NaN:NAN:NAN:NAN, 1 3097910 MantaDEL_211_0_0_0_1_2 ACGGTCTTACACACGGTCTTACACACGCAGTCTTACACACGGCCTTACGCATGGTCTTACACAC AA 871 PASS SUPP=1;SUPP_VEC=1000;SVLEN=-63;SVTYPE=DEL;SVMETHOD=SURVIVOR1.0.6;CHR2=1;END=3097973;CIPOS=0,0;CIEND=0,0;STRANDS=+- GT:PSV:LN:DR:ST:QV:TY:ID:RAL:AAL:CO 1/1:NA:63:6,24:+-:871:DEL:MantaDEL_211_0_0_0_1_2:ACGGTCTTACACACGGTCTTACACACGCAGTCTTACACACGGCCTTACGCATGGTCTTACACAC:AA:1_3097910-1_3097973 ./.:NaN:0:0,0:--:NaN:NaN:NaN:NAN:NAN:NAN ./.:NaN:0:0,0:--:NaN:NaN:NaN:NAN:NAN:NAN ./.:NaN:0:0,0:--:NaN:NaN:NaN:NAN:NAN:NAN, 1 3177306 MantaINS_1_905_905_0_7_0 A <INS> 999 PASS SUPP=1;SUPP_VEC=1000;SVLEN=5;SVTYPE=INS;SVMETHOD=SURVIVOR1.0.6;CHR2=1;END=3177306;CIPOS=0,0;CIEND=0,0;STRANDS=+- GT:PSV:LN:DR:ST:QV:TY:ID:RAL:AAL:CO 1/1:NA:5:0,53:+-:999:INS:MantaINS_1_905_905_0_7_0:NA:NA:1_3177306-1_3177306 ./.:NaN:0:0,0:--:NaN:NaN:NaN:NAN:NAN:NAN ./.:NaN:0:0,0:--:NaN:NaN:NaN:NAN:NAN:NAN ./.:NaN:0:0,0:--:NaN:NaN:NaN:NAN:NAN:NAN, 1 3785228 MantaINS_260_0_0_0_0_0 A ACCACACCAGGCCACGCCACACCAAGCCACACCACACCAGGCCACACCACACCAGGCCACACCACACCATACCACACCACACCAGGCCACACCACACCAGGCCACACCACACCACGCCACACCACACCACGCCACACCACACCAGG 999 PASS SUPP=1;SUPP_VEC=1000;SVLEN=145;SVTYPE=INS;SVMETHOD=SURVIVOR1.0.6;CHR2=1;END=3785228;CIPOS=0,0;CIEND=0,0;STRANDS=+- GT:PSV:LN:DR:ST:QV:TY:ID:RAL:AAL:CO 1/1:NA:145:0,41:+-:999:INS:MantaINS_260_0_0_0_0_0:A:ACCACACCAGGCCACGCCACACCAAGCCACACCACACCAGGCCACACCACACCAGGCCACACCACACCATACCACACCACACCAGGCCACACCACACCAGGCCACACCACACCACGCCACACCACACCACGCCACACCACACCAGG:1_3785228-1_3785228 ./.:NaN:0:0,0:--:NaN:NaN:NaN:NAN:NAN:NAN ./.:NaN:0:0,0:--:NaN:NaN:NaN:NAN:NAN:NAN ./.:NaN:0:0,0:--:NaN:NaN:NaN:NAN:NAN:NAN, 1 4059835 MantaDEL_273_0_0_0_0_0 ATACGCCACAGAGAGGGGAGGGGGCCACACTGCCGACGGGGCAGGCCTGGAGTTGCAGGACGTGTCACAGAGAGAGGAAGGGGCCACACTGCTGACGGGGCGGGCCTGGAGTTGCAGGACA ACG 584 PASS SUPP=1;SUPP_VEC=1000;SVLEN=-120;SVTYPE=DEL;SVMETHOD=SURVIVOR1.0.6;CHR2=1;END=4059955;CIPOS=0,0;CIEND=0,0;STRANDS=+- GT:PSV:LN:DR:ST:QV:TY:ID:RAL:AAL:CO 0/1:NA:120:6,32:+-:584:DEL:MantaDEL_273_0_0_0_0_”\n"
     ]
    },
    {
     "name": "stderr",
     "output_type": "stream",
     "text": [
      "\n",
      "### Performance metrics ###\n",
      "\n",
      "min.supp = 3\n",
      "\n",
      "\n"
     ]
    }
   ],
   "source": [
    "gr <- breakpointRanges(vcf)\n",
    "gr <- excludeRegions(gr, excl.gr)\n",
    "hits <- getHits(gr, true.gr)\n",
    "callset <- file_path_sans_ext(vcf.outfile)\n",
    "pm <- getPerfMetrics(callset, hits, n.true)\n",
    "hits.df <- rbind(hits.df, data.frame(pm))\n",
    "message('\\n### Performance metrics ###')\n",
    "message('min.supp = ', min.supp, '\\n')"
   ]
  },
  {
   "cell_type": "markdown",
   "metadata": {},
   "source": [
    "### write CSV file with performance metrics"
   ]
  },
  {
   "cell_type": "code",
   "execution_count": 18,
   "metadata": {},
   "outputs": [
    {
     "data": {
      "text/html": [
       "<table>\n",
       "<caption>A data.frame: 5 × 7</caption>\n",
       "<thead>\n",
       "\t<tr><th scope=col>callset</th><th scope=col>n</th><th scope=col>tp</th><th scope=col>fp</th><th scope=col>fn</th><th scope=col>precision</th><th scope=col>recall</th></tr>\n",
       "\t<tr><th scope=col>&lt;fct&gt;</th><th scope=col>&lt;int&gt;</th><th scope=col>&lt;dbl&gt;</th><th scope=col>&lt;dbl&gt;</th><th scope=col>&lt;dbl&gt;</th><th scope=col>&lt;dbl&gt;</th><th scope=col>&lt;dbl&gt;</th></tr>\n",
       "</thead>\n",
       "<tbody>\n",
       "\t<tr><td>manta </td><td> 8838</td><td>6516</td><td> 2322</td><td>60896</td><td>73.7</td><td> 9.7</td></tr>\n",
       "\t<tr><td>delly </td><td>26806</td><td>6966</td><td>19840</td><td>60446</td><td>26.0</td><td>10.3</td></tr>\n",
       "\t<tr><td>lumpy </td><td>    0</td><td>   0</td><td>    0</td><td>67412</td><td> NaN</td><td> 0.0</td></tr>\n",
       "\t<tr><td>gridss</td><td> 8372</td><td>5142</td><td> 3230</td><td>62270</td><td>61.4</td><td> 7.6</td></tr>\n",
       "\t<tr><td>merge </td><td> 3750</td><td>3534</td><td>  216</td><td>63878</td><td>94.2</td><td> 5.2</td></tr>\n",
       "</tbody>\n",
       "</table>\n"
      ],
      "text/latex": [
       "A data.frame: 5 × 7\n",
       "\\begin{tabular}{lllllll}\n",
       " callset & n & tp & fp & fn & precision & recall\\\\\n",
       " <fct> & <int> & <dbl> & <dbl> & <dbl> & <dbl> & <dbl>\\\\\n",
       "\\hline\n",
       "\t manta  &  8838 & 6516 &  2322 & 60896 & 73.7 &  9.7\\\\\n",
       "\t delly  & 26806 & 6966 & 19840 & 60446 & 26.0 & 10.3\\\\\n",
       "\t lumpy  &     0 &    0 &     0 & 67412 &  NaN &  0.0\\\\\n",
       "\t gridss &  8372 & 5142 &  3230 & 62270 & 61.4 &  7.6\\\\\n",
       "\t merge  &  3750 & 3534 &   216 & 63878 & 94.2 &  5.2\\\\\n",
       "\\end{tabular}\n"
      ],
      "text/markdown": [
       "\n",
       "A data.frame: 5 × 7\n",
       "\n",
       "| callset &lt;fct&gt; | n &lt;int&gt; | tp &lt;dbl&gt; | fp &lt;dbl&gt; | fn &lt;dbl&gt; | precision &lt;dbl&gt; | recall &lt;dbl&gt; |\n",
       "|---|---|---|---|---|---|---|\n",
       "| manta  |  8838 | 6516 |  2322 | 60896 | 73.7 |  9.7 |\n",
       "| delly  | 26806 | 6966 | 19840 | 60446 | 26.0 | 10.3 |\n",
       "| lumpy  |     0 |    0 |     0 | 67412 |  NaN |  0.0 |\n",
       "| gridss |  8372 | 5142 |  3230 | 62270 | 61.4 |  7.6 |\n",
       "| merge  |  3750 | 3534 |   216 | 63878 | 94.2 |  5.2 |\n",
       "\n"
      ],
      "text/plain": [
       "  callset n     tp   fp    fn    precision recall\n",
       "1 manta    8838 6516  2322 60896 73.7       9.7  \n",
       "2 delly   26806 6966 19840 60446 26.0      10.3  \n",
       "3 lumpy       0    0     0 67412  NaN       0.0  \n",
       "4 gridss   8372 5142  3230 62270 61.4       7.6  \n",
       "5 merge    3750 3534   216 63878 94.2       5.2  "
      ]
     },
     "metadata": {},
     "output_type": "display_data"
    }
   ],
   "source": [
    "hits.df"
   ]
  },
  {
   "cell_type": "code",
   "execution_count": 19,
   "metadata": {},
   "outputs": [],
   "source": [
    "csv.file <- paste0('metrics_', sample, '_', ts, '.csv')\n",
    "write.table(hits.df, file=csv.file, row.names=FALSE, col.names=TRUE,\n",
    "            quote=FALSE, sep=',')"
   ]
  }
 ],
 "metadata": {
  "kernelspec": {
   "display_name": "R",
   "language": "R",
   "name": "ir"
  },
  "language_info": {
   "codemirror_mode": "r",
   "file_extension": ".r",
   "mimetype": "text/x-r-source",
   "name": "R",
   "pygments_lexer": "r",
   "version": "3.6.3"
  }
 },
 "nbformat": 4,
 "nbformat_minor": 2
}
