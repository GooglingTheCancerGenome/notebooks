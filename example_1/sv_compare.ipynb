{
 "cells": [
  {
   "cell_type": "markdown",
   "metadata": {},
   "source": [
    "## Compare SV callsets in Venn and UpSet diagrams"
   ]
  },
  {
   "cell_type": "markdown",
   "metadata": {},
   "source": [
    "\n",
    "### [SV callers](https://doi.org/10.5281/zenodo.1217111)\n",
    "- Manta\n",
    "- DELLY\n",
    "- LUMPY\n",
    "- GRIDSS \n",
    "\n",
    "### WGS samples\n",
    "- _germline_ calls in single-sample data:\n",
    "  - NA12878 [sample](https://ftp-trace.ncbi.nlm.nih.gov/giab/ftp/data/NA12878/NIST_NA12878_HG001_HiSeq_300x/RMNISTHS_30xdownsample.bam) (denoted as 'benchmark')\n",
    "  - NA24385 [sample](ftp://ftp-trace.ncbi.nlm.nih.gov/giab/ftp/data/AshkenazimTrio/HG002_NA24385_son/NIST_Illumina_2x250bps/novoalign_bams/HG002.hs37d5.2x250.bam)\n",
    "  - CHM1_CHM13 [sample](https://identifiers.org/ena.embl:ERX1413368)\n",
    "- _somatic_ calls in paired-sample data:\n",
    "   - COLO829 tumor [sample](https://identifiers.org/ena.embl:ERX2765496) sample with matched normal [sample](https://identifiers.org/ena.embl:ERX2765495) (denoted as 'cell lines')\n",
    "\n",
    "### Exclusion list\n",
    "- [ENCODE:ENCFF001TDO](http://identifiers.org/encode/ENCFF001TDO)\n",
    "\n",
    "   \n",
    "### SV callsets\n",
    "\n",
    "- compare _callers_ for each sample\n",
    "\n",
    "```\n",
    "# file paths\n",
    "../NA12878/compare/callers \n",
    "../NA24385/compare/callers\n",
    "../CHM1_CHM13/compare/callers\n",
    "../COLO829/compare/callers\n",
    "```\n",
    "\n",
    "- compare _samples_ (copies) for each caller\n",
    "\n",
    "```\n",
    "# file paths\n",
    "../NA12878/compare/samples\n",
    "../NA24385/compare/samples\n",
    "../CHM1_CHM13/compare/samples\n",
    "../COLO829/compare/samples\n",
    "```\n",
    "\n",
    "**Note**: The VCF files with SV calls were filtered and merged by SURVIVOR:\n",
    "\n",
    "```\n",
    "SURVIVOR filter [VCF] ENCFF001TDO.bed -1 -1 0 -1 [VCF]\n",
    "SURVIVOR merge [TXT] 100 1 0 0 0 0 [VCF]\n",
    "```\n"
   ]
  },
  {
   "cell_type": "code",
   "execution_count": null,
   "metadata": {},
   "outputs": [],
   "source": [
    "library(tools)\n",
    "library(venn)\n",
    "library(vcfR)\n",
    "library(UpSetR)"
   ]
  },
  {
   "cell_type": "code",
   "execution_count": null,
   "metadata": {},
   "outputs": [],
   "source": [
    "options(jupyter.plot_mimetypes=\"image/svg+xml\")  # set the MIME type of the plots (or \"image/png\")"
   ]
  },
  {
   "cell_type": "markdown",
   "metadata": {},
   "source": [
    "  ### construct file paths"
   ]
  },
  {
   "cell_type": "code",
   "execution_count": null,
   "metadata": {},
   "outputs": [],
   "source": [
    "base.dir <- file.path(\"..\", \"..\")\n",
    "dts <- c(\"NA12878\", \"NA24385\", \"CHM1_CHM13\", \"COLO829\")\n",
    "dts.count <- length(dts)\n",
    "dirs <- merge(dts, c(\"callers\", \"samples\"))\n",
    "paths <- file.path(base.dir, dirs$x, \"compare\", dirs$y)\n",
    "paths.count <- length(paths)"
   ]
  },
  {
   "cell_type": "code",
   "execution_count": null,
   "metadata": {},
   "outputs": [],
   "source": [
    "print(paths)"
   ]
  },
  {
   "cell_type": "code",
   "execution_count": null,
   "metadata": {},
   "outputs": [],
   "source": [
    "callers <- c(\"all\", \"manta\", \"delly\", \"lumpy\", \"gridss\")"
   ]
  },
  {
   "cell_type": "markdown",
   "metadata": {},
   "source": [
    "### create a table of callsets with file paths"
   ]
  },
  {
   "cell_type": "code",
   "execution_count": null,
   "metadata": {
    "scrolled": true
   },
   "outputs": [],
   "source": [
    "tab <- merge(paths[1:dts.count], callers[1])\n",
    "tab <- rbind(tab, merge(paths[(dts.count+1):paths.count], callers[-1]))\n",
    "names(tab) <- c(\"path\", \"callset\")\n",
    "print(tab)"
   ]
  },
  {
   "cell_type": "markdown",
   "metadata": {},
   "source": [
    "### user input"
   ]
  },
  {
   "cell_type": "code",
   "execution_count": null,
   "metadata": {},
   "outputs": [],
   "source": [
    "sel.idx <- 1  # select a callset [1-20]\n",
    "row <- tab[sel.idx,]\n",
    "print(row)"
   ]
  },
  {
   "cell_type": "markdown",
   "metadata": {},
   "source": [
    "### load callsets"
   ]
  },
  {
   "cell_type": "code",
   "execution_count": null,
   "metadata": {},
   "outputs": [],
   "source": [
    "sets <- read.table(file.path(row$path, paste0(row$callset, \".txt\")), colClasses=\"character\")"
   ]
  },
  {
   "cell_type": "code",
   "execution_count": null,
   "metadata": {},
   "outputs": [],
   "source": [
    "#sets"
   ]
  },
  {
   "cell_type": "code",
   "execution_count": null,
   "metadata": {},
   "outputs": [],
   "source": [
    "str <- file_path_sans_ext(sets$V1)\n",
    "str.caller <-toupper(unique(regmatches(str, regexpr(\"[[:alpha:]]+$\", str))))\n",
    "str.run <-regmatches(str, regexpr(\"[[:digit:]]+\", str))\n",
    "if (sel.idx <= dts.count) {\n",
    "    sets <- str.caller\n",
    "} else {\n",
    "    lb<-merge(str.caller, str.run)\n",
    "    names(lb) <- c(\"caller\", \"run\")\n",
    "    sets <- paste0(lb$caller, \"-\", lb$run)\n",
    "}"
   ]
  },
  {
   "cell_type": "code",
   "execution_count": null,
   "metadata": {},
   "outputs": [],
   "source": [
    "#sets"
   ]
  },
  {
   "cell_type": "code",
   "execution_count": null,
   "metadata": {},
   "outputs": [],
   "source": [
    "n.sets <- length(sets)"
   ]
  },
  {
   "cell_type": "code",
   "execution_count": null,
   "metadata": {},
   "outputs": [],
   "source": [
    "#n.sets"
   ]
  },
  {
   "cell_type": "code",
   "execution_count": null,
   "metadata": {},
   "outputs": [],
   "source": [
    "vcf <- read.vcfR(file.path(row$path, paste0(row$callset, \".vcf\")), verbose = FALSE)"
   ]
  },
  {
   "cell_type": "code",
   "execution_count": null,
   "metadata": {},
   "outputs": [],
   "source": [
    "bin.vec <- sapply(strsplit(sapply(strsplit(getFIX(vcf, getINFO=TRUE)[, \"INFO\"], \";\"), function(x) {x[2]}), \"=\"), function (x) {x[2]})"
   ]
  },
  {
   "cell_type": "code",
   "execution_count": null,
   "metadata": {},
   "outputs": [],
   "source": [
    "#bin.vec"
   ]
  },
  {
   "cell_type": "code",
   "execution_count": null,
   "metadata": {},
   "outputs": [],
   "source": [
    "sets.sz <- data.frame(matrix(ncol=2, nrow=n.sets))"
   ]
  },
  {
   "cell_type": "code",
   "execution_count": null,
   "metadata": {},
   "outputs": [],
   "source": [
    "names(sets.sz) <- c(\"caller\", \"n\")"
   ]
  },
  {
   "cell_type": "code",
   "execution_count": null,
   "metadata": {},
   "outputs": [],
   "source": [
    "for (i in 1:n.sets) {\n",
    "    s <- rep(\".\",n.sets)\n",
    "    s <- paste(replace(s,i,1), collapse=\"\")\n",
    "    re <- paste(\"^\",s, \"$\", sep=\"\")\n",
    "    caller <- sets[i]\n",
    "    n <- length(grep(s, bin.vec))\n",
    "    sets.sz[i,] <- c(caller, n)\n",
    "    #print(paste(caller, n))\n",
    "}"
   ]
  },
  {
   "cell_type": "code",
   "execution_count": null,
   "metadata": {},
   "outputs": [],
   "source": [
    "#sets.sz"
   ]
  },
  {
   "cell_type": "code",
   "execution_count": null,
   "metadata": {},
   "outputs": [],
   "source": [
    "vec <- table(sapply(bin.vec, function(x) {strtoi(x, base=2)}))"
   ]
  },
  {
   "cell_type": "code",
   "execution_count": null,
   "metadata": {},
   "outputs": [],
   "source": [
    "#vec"
   ]
  },
  {
   "cell_type": "code",
   "execution_count": null,
   "metadata": {},
   "outputs": [],
   "source": [
    "lst <- strsplit(bin.vec, \"\")"
   ]
  },
  {
   "cell_type": "code",
   "execution_count": null,
   "metadata": {},
   "outputs": [],
   "source": [
    "#lst"
   ]
  },
  {
   "cell_type": "code",
   "execution_count": null,
   "metadata": {},
   "outputs": [],
   "source": [
    "s <- as.character(seq(0, (2 ** n.sets - 1)))"
   ]
  },
  {
   "cell_type": "code",
   "execution_count": null,
   "metadata": {},
   "outputs": [],
   "source": [
    "#s"
   ]
  },
  {
   "cell_type": "code",
   "execution_count": null,
   "metadata": {},
   "outputs": [],
   "source": [
    "N <- sapply(s, function(x){vec[x]}, USE.NAMES=FALSE)"
   ]
  },
  {
   "cell_type": "code",
   "execution_count": null,
   "metadata": {},
   "outputs": [],
   "source": [
    "N[is.na(N)] <- 0"
   ]
  },
  {
   "cell_type": "code",
   "execution_count": null,
   "metadata": {},
   "outputs": [],
   "source": [
    "#N"
   ]
  },
  {
   "cell_type": "code",
   "execution_count": null,
   "metadata": {},
   "outputs": [],
   "source": [
    "slabels <- paste0(sets.sz$caller, \" (\", sets.sz$n, \")\")"
   ]
  },
  {
   "cell_type": "code",
   "execution_count": null,
   "metadata": {},
   "outputs": [],
   "source": [
    "if (sel.idx <= dts.count) {\n",
    "    venn(n.sets, counts=N, snames=slabels, ilabels=TRUE, cexil=1.2, cexsn=1.2, zcolor=\"style\", ellipse=TRUE)\n",
    "}"
   ]
  },
  {
   "cell_type": "code",
   "execution_count": null,
   "metadata": {},
   "outputs": [],
   "source": [
    "nr <- length(lst)"
   ]
  },
  {
   "cell_type": "code",
   "execution_count": null,
   "metadata": {},
   "outputs": [],
   "source": [
    "#nr"
   ]
  },
  {
   "cell_type": "code",
   "execution_count": null,
   "metadata": {},
   "outputs": [],
   "source": [
    "nc <- length(lst[[1]])"
   ]
  },
  {
   "cell_type": "code",
   "execution_count": null,
   "metadata": {},
   "outputs": [],
   "source": [
    "#nc"
   ]
  },
  {
   "cell_type": "code",
   "execution_count": null,
   "metadata": {},
   "outputs": [],
   "source": [
    "M <- matrix(0, nrow=nr, ncol=nc)"
   ]
  },
  {
   "cell_type": "code",
   "execution_count": null,
   "metadata": {},
   "outputs": [],
   "source": [
    "for (i in 1:nr) {\n",
    "  M[i, ] <- as.integer(lst[[i]])\n",
    "}"
   ]
  },
  {
   "cell_type": "code",
   "execution_count": null,
   "metadata": {},
   "outputs": [],
   "source": [
    "#M"
   ]
  },
  {
   "cell_type": "code",
   "execution_count": null,
   "metadata": {},
   "outputs": [],
   "source": [
    "sv <- data.frame(ID = getFIX(vcf)[, \"ID\"], M)"
   ]
  },
  {
   "cell_type": "code",
   "execution_count": null,
   "metadata": {},
   "outputs": [],
   "source": [
    "#colnames(sv)"
   ]
  },
  {
   "cell_type": "code",
   "execution_count": null,
   "metadata": {},
   "outputs": [],
   "source": [
    "colnames(sv)[-1] <- slabels"
   ]
  },
  {
   "cell_type": "code",
   "execution_count": null,
   "metadata": {},
   "outputs": [],
   "source": [
    "#sv"
   ]
  },
  {
   "cell_type": "code",
   "execution_count": null,
   "metadata": {
    "scrolled": true
   },
   "outputs": [],
   "source": [
    "upset(sv, nsets=n.sets, sets.bar.color=\"#56B4E9\", order.by=\"freq\")"
   ]
  }
 ],
 "metadata": {
  "kernelspec": {
   "display_name": "R",
   "language": "R",
   "name": "ir"
  },
  "language_info": {
   "codemirror_mode": "r",
   "file_extension": ".r",
   "mimetype": "text/x-r-source",
   "name": "R",
   "pygments_lexer": "r",
   "version": "3.6.3"
  }
 },
 "nbformat": 4,
 "nbformat_minor": 2
}
